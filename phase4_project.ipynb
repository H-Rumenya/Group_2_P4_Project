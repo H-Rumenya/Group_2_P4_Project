{
 "cells": [
  {
   "cell_type": "markdown",
   "id": "e6aee8c8-8f8e-4797-a9e5-1f2ed6963616",
   "metadata": {},
   "source": [
    "# Recommendation Systems"
   ]
  },
  {
   "cell_type": "markdown",
   "id": "1f740b0e",
   "metadata": {},
   "source": [
    "![Alt text](Images\\Becauseyouwatched.jpg)"
   ]
  },
  {
   "cell_type": "markdown",
   "id": "400d4772-4168-4f4b-8c81-6d0bbf478b66",
   "metadata": {},
   "source": [
    "## BUSINESS UNDERSTANDING."
   ]
  },
  {
   "cell_type": "markdown",
   "id": "0d624515",
   "metadata": {},
   "source": [
    "## Business Overview.\n",
    "\n",
    "Imagine the number of streaming sites, now imagine the challenges the platform faces: the two main questions being how do they get to help  users discover content they will not only love but also will keep them engaged over time- remember there are thousands of titles available as such users could experience decision fatigue which may lead to lower watch time and or increased churn. Now how about having a well-designed recommendation system that can transform this experience by only surfacing relevant and personalized content that resonates with one's individual taste and preference?\n",
    "\n",
    "This project is therefore designed to build a movie recommendation engine using the MovieLens dataset, with the aim of improving the retention of users through personalized suggestions and we shall do so by analyzing the user ratings and preferences. In the end we shall be able to deliver top five movie recommendations that feel intuitive, relevant and engaging."
   ]
  },
  {
   "cell_type": "markdown",
   "id": "ef3e2f3a",
   "metadata": {},
   "source": [
    "## Problem statement.\n",
    "\n",
    "As we have seen that its really a struggle by users to find content that matches their prefences, especially as more movies gets produced each day. Therefore our question is ***'how can we deliver personalized movie recommendations that will ultimately increase user satsifaction and retention on a streaming platform?'***"
   ]
  },
  {
   "cell_type": "markdown",
   "id": "13808f10",
   "metadata": {},
   "source": [
    "## Stakeholders\n",
    "\n",
    "**Product team**- to improve user engagement & retention through personalization  \n",
    "**Data Scientist**- For building and validating recommendation engine  \n",
    "**Marketing team**- for segmentation and promotion of contetnt based on preferences  \n",
    "**Owners of streaming platforms/ Executive leadership**- Evaluation of ROI of a well designed personalized system on platform performance.\n"
   ]
  },
  {
   "cell_type": "markdown",
   "id": "05c54ed3",
   "metadata": {},
   "source": [
    "## Success Metrics.\n",
    "- Building a model that generates top five movie recommendations per user.\n",
    "- Improvement of user engagement as a result of tailor-making contetnt to user preferences.\n",
    "- Provision of actionable insights for product and marketing team to use.\n",
    "- Visualizing resulsts for non technical team e.g the executive.\n"
   ]
  },
  {
   "cell_type": "markdown",
   "id": "76a3bea7",
   "metadata": {},
   "source": [
    "## Type of Recommendation and Model Evaluation Metrics.\n",
    "This project will be focusing on personalized recommendations, leveraging collaborative filtering to unearth latent user preferances and as a result suggest movies aligned with their taste. Some of the metrics that we may deploy include:\n",
    "\n",
    "- **RMSE/MAE** -For rating prediction accuracy\n",
    "- **Precision, Recall, F1 Score** - For quality ranking.\n",
    "- **Coverage, Diversity** - To help with assessment of recomendation variety & system robustness."
   ]
  },
  {
   "cell_type": "code",
   "execution_count": null,
   "id": "931fc142-075a-4c35-9169-9d808abaeefa",
   "metadata": {},
   "outputs": [],
   "source": [
    "# Eric lead developing here | Lynn, feel free to support co-creation \n",
    "# Address Business overview, problem statement, stakholders, goals/objectives (e.g., product suggestions, movie recommendations, personalized content))\n",
    "# Determine the type of recommendation (personalized vs. non-personalized)\n",
    "# Outline some metrics we may want to use in model evaluation-"
   ]
  },
  {
   "cell_type": "markdown",
   "id": "f54a8c8d-5eab-4231-a40b-5921c145219d",
   "metadata": {},
   "source": [
    "## Data Understanding  "
   ]
  },
  {
   "cell_type": "markdown",
   "id": "41b5bc36",
   "metadata": {},
   "source": [
    "### Dataset Overview  \n",
    "The provided dataset, comprising four CSV files (links.csv, movies.csv, ratings.csv, and tags.csv), offers a comprehensive foundation for a robust movie recommendation system. The data is structured to facilitate the analysis of user behavior, movie characteristics, and their interrelationships.\n",
    "\n",
    "##  Importing Libraries "
   ]
  },
  {
   "cell_type": "code",
   "execution_count": null,
   "id": "67d800ba-9480-4fec-aa10-b31684bc61fb",
   "metadata": {},
   "outputs": [],
   "source": [
    "# Loading the libraries\n",
    "\n",
    "import pandas as pd\n",
    "import numpy as np\n",
    "import matplotlib.pyplot as plt\n",
    "import seaborn as sns"
   ]
  },
  {
   "cell_type": "markdown",
   "id": "1d97089b",
   "metadata": {},
   "source": [
    "---\n",
    "## Movies dataset.\n"
   ]
  },
  {
   "cell_type": "code",
   "execution_count": 32,
   "id": "5c341620",
   "metadata": {},
   "outputs": [
    {
     "data": {
      "text/plain": [
       "<bound method DataFrame.info of       movieId                                      title  \\\n",
       "0           1                           Toy Story (1995)   \n",
       "1           2                             Jumanji (1995)   \n",
       "2           3                    Grumpier Old Men (1995)   \n",
       "3           4                   Waiting to Exhale (1995)   \n",
       "4           5         Father of the Bride Part II (1995)   \n",
       "...       ...                                        ...   \n",
       "9737   193581  Black Butler: Book of the Atlantic (2017)   \n",
       "9738   193583               No Game No Life: Zero (2017)   \n",
       "9739   193585                               Flint (2017)   \n",
       "9740   193587        Bungo Stray Dogs: Dead Apple (2018)   \n",
       "9741   193609        Andrew Dice Clay: Dice Rules (1991)   \n",
       "\n",
       "                                           genres  \n",
       "0     Adventure|Animation|Children|Comedy|Fantasy  \n",
       "1                      Adventure|Children|Fantasy  \n",
       "2                                  Comedy|Romance  \n",
       "3                            Comedy|Drama|Romance  \n",
       "4                                          Comedy  \n",
       "...                                           ...  \n",
       "9737              Action|Animation|Comedy|Fantasy  \n",
       "9738                     Animation|Comedy|Fantasy  \n",
       "9739                                        Drama  \n",
       "9740                             Action|Animation  \n",
       "9741                                       Comedy  \n",
       "\n",
       "[9742 rows x 3 columns]>"
      ]
     },
     "execution_count": 32,
     "metadata": {},
     "output_type": "execute_result"
    }
   ],
   "source": [
    "# Loading  the movies dataset\n",
    "df = pd.read_csv('Data/movies.csv')\n",
    "df.info"
   ]
  },
  {
   "cell_type": "markdown",
   "id": "665074ca",
   "metadata": {},
   "source": [
    "#### Movies.csv  \n",
    "\n",
    "This file contains **movie titles** and their corresponding **genres**.  \n",
    "\n",
    "It, Serves as the **central movie catalog**, this file contains a unique entry for each of the **9,742 films**.  \n",
    "### Columns \n",
    "- **movieId**: Primary key that links to other datasets.  \n",
    "- **title**: Movie title (with release year).  \n",
    "- **genres**: Pipe-separated list of genres.  \n",
    "\n",
    "This file is essential for **content-based filtering**, enabling genre-specific recommendations and theme analysis. "
   ]
  },
  {
   "cell_type": "markdown",
   "id": "2aa78b4e",
   "metadata": {},
   "source": [
    "---\n",
    "## Ratings Dataset.\n"
   ]
  },
  {
   "cell_type": "code",
   "execution_count": 31,
   "id": "3e90a477",
   "metadata": {},
   "outputs": [
    {
     "data": {
      "text/plain": [
       "<bound method DataFrame.info of         userId  movieId  rating   timestamp\n",
       "0            1        1     4.0   964982703\n",
       "1            1        3     4.0   964981247\n",
       "2            1        6     4.0   964982224\n",
       "3            1       47     5.0   964983815\n",
       "4            1       50     5.0   964982931\n",
       "...        ...      ...     ...         ...\n",
       "100831     610   166534     4.0  1493848402\n",
       "100832     610   168248     5.0  1493850091\n",
       "100833     610   168250     5.0  1494273047\n",
       "100834     610   168252     5.0  1493846352\n",
       "100835     610   170875     3.0  1493846415\n",
       "\n",
       "[100836 rows x 4 columns]>"
      ]
     },
     "execution_count": 31,
     "metadata": {},
     "output_type": "execute_result"
    }
   ],
   "source": [
    "# Loading ratings dataset\n",
    "df = pd.read_csv('Data/ratings.csv')\n",
    "df.info"
   ]
  },
  {
   "cell_type": "markdown",
   "id": "358ee1de",
   "metadata": {},
   "source": [
    "### ratings.csv  \n",
    "The most **data-heavy file**, containing **100,836 explicit user ratings**.  \n",
    "#### Columns \n",
    "- **userId**: Identifier of the user.  \n",
    "- **movieId**: Identifier of the rated movie.  \n",
    "- **rating**: Explicit user rating (e.g., 1.0–5.0).  \n",
    "- **timestamp**: Time of rating (Unix format).  \n",
    "\n",
    "This dataset forms the **backbone of collaborative filtering**. The timestamps also enable **temporal analysis**, helping track evolving preferences and movie popularity trends.  \n"
   ]
  },
  {
   "cell_type": "markdown",
   "id": "c0bbefbb",
   "metadata": {},
   "source": [
    "---\n",
    "## Links dataset.\n"
   ]
  },
  {
   "cell_type": "code",
   "execution_count": 30,
   "id": "11f3fa6e",
   "metadata": {},
   "outputs": [
    {
     "data": {
      "text/plain": [
       "<bound method DataFrame.info of       movieId   imdbId    tmdbId\n",
       "0           1   114709     862.0\n",
       "1           2   113497    8844.0\n",
       "2           3   113228   15602.0\n",
       "3           4   114885   31357.0\n",
       "4           5   113041   11862.0\n",
       "...       ...      ...       ...\n",
       "9737   193581  5476944  432131.0\n",
       "9738   193583  5914996  445030.0\n",
       "9739   193585  6397426  479308.0\n",
       "9740   193587  8391976  483455.0\n",
       "9741   193609   101726   37891.0\n",
       "\n",
       "[9742 rows x 3 columns]>"
      ]
     },
     "execution_count": 30,
     "metadata": {},
     "output_type": "execute_result"
    }
   ],
   "source": [
    "# Loading  the links dataset\n",
    "df = pd.read_csv('Data/links.csv')\n",
    "df.info"
   ]
  },
  {
   "cell_type": "markdown",
   "id": "77d40627",
   "metadata": {},
   "source": [
    "#### links.csv  \n",
    "\n",
    "This file serves as a **bridge to external metadata sources**, mapping internal `movieId` values to industry-standard identifiers:  \n",
    "### Columns  \n",
    "- **movieId**: Unique identifier for a movie.\n",
    "- **imdbId**: IMDb identifier.  \n",
    "- **tmdbId**: The Movie Database (TMDb) identifier. \n",
    "\n",
    "These external links allow for **data enrichment**, such as retrieving cast, plot, and ratings. This enhances the recommendation engine with richer context.  "
   ]
  },
  {
   "cell_type": "markdown",
   "id": "1b14b4ae",
   "metadata": {},
   "source": [
    "## Tags Dataset.\n",
    "---"
   ]
  },
  {
   "cell_type": "code",
   "execution_count": 29,
   "id": "6f716108",
   "metadata": {},
   "outputs": [
    {
     "data": {
      "text/plain": [
       "<bound method DataFrame.info of       userId  movieId               tag   timestamp\n",
       "0          2    60756             funny  1445714994\n",
       "1          2    60756   Highly quotable  1445714996\n",
       "2          2    60756      will ferrell  1445714992\n",
       "3          2    89774      Boxing story  1445715207\n",
       "4          2    89774               MMA  1445715200\n",
       "...      ...      ...               ...         ...\n",
       "3678     606     7382         for katie  1171234019\n",
       "3679     606     7936           austere  1173392334\n",
       "3680     610     3265            gun fu  1493843984\n",
       "3681     610     3265  heroic bloodshed  1493843978\n",
       "3682     610   168248  Heroic Bloodshed  1493844270\n",
       "\n",
       "[3683 rows x 4 columns]>"
      ]
     },
     "execution_count": 29,
     "metadata": {},
     "output_type": "execute_result"
    }
   ],
   "source": [
    "# Loading  the tags dataset\n",
    "df = pd.read_csv('Data/tags.csv')\n",
    "df.info"
   ]
  },
  {
   "cell_type": "markdown",
   "id": "459102d7",
   "metadata": {},
   "source": [
    "#### tags.csv  \n",
    "This file contains **3,683 qualitative user-generated tags**, offering descriptive insights beyond numerical ratings.  \n",
    "### Columns\n",
    "- **userId**: Identifier of the user who tagged the movie.  \n",
    "- **movieId**: Identifier of the tagged movie.  \n",
    "- **tag**: User-generated keyword(s).  \n",
    "- **timestamp**: Time the tag was applied.  \n",
    "\n",
    "Tags capture **nuanced characteristics** that genres miss, enabling **expressive content-based models**. They also reflect how perceptions of movies **shift over time**.  \n"
   ]
  },
  {
   "cell_type": "code",
   "execution_count": null,
   "id": "41658eea-9758-48d8-8377-478a5e1c2859",
   "metadata": {},
   "outputs": [],
   "source": [
    "# Newton work on the Data Understanding part\n",
    "# Briefly describe each dataset in the CSV format"
   ]
  },
  {
   "cell_type": "markdown",
   "id": "dc20023d-ac29-454c-9778-cc5273aebaf8",
   "metadata": {},
   "source": [
    "## Data Preparation"
   ]
  },
  {
   "cell_type": "code",
   "execution_count": null,
   "id": "5a292aa7-d15b-40d8-8be1-df0acfab3842",
   "metadata": {},
   "outputs": [],
   "source": [
    "# Joackim kindly lead here : Check need to create a single dataframe with desired variables including justifications as part of notes\n"
   ]
  },
  {
   "cell_type": "markdown",
   "id": "f85c5ec6-5b7c-4db6-b70a-114375e92234",
   "metadata": {},
   "source": [
    "## Modeling"
   ]
  },
  {
   "cell_type": "code",
   "execution_count": null,
   "id": "44b8878e-81d5-4683-81a2-edd55acd98a6",
   "metadata": {},
   "outputs": [],
   "source": [
    "# Perform data preprocessing  \n",
    "# Clean the data to handle missing values, duplicates and outliers\n",
    "# Normalize or scale numerical features if applicable\n",
    "# One-hot encode categorical data to suitable formats\n",
    "# Split into training and test sets\n",
    "# Choose a recommendation approach ans apply\n",
    "# Build a model using an algorithm of choice - KNN, SVD or deep learning\n",
    "# Train model using hitorical interaction data\n",
    "# optimize the hyperparameters"
   ]
  },
  {
   "cell_type": "markdown",
   "id": "aec047cc-47e6-4b00-83e1-4518b37ef29c",
   "metadata": {},
   "source": [
    "## Evaluation "
   ]
  },
  {
   "cell_type": "code",
   "execution_count": null,
   "id": "940d2c6a-21e3-4b0f-ac69-9750fbfbe150",
   "metadata": {},
   "outputs": [],
   "source": [
    "# Use metrics such as: \n",
    "#RMSE/MAE for Rating predictions\n",
    "# Precision/Recall/F1 score - For ranking \n",
    "# MAP/NDCG for ordered recommendations"
   ]
  },
  {
   "cell_type": "markdown",
   "id": "881fdb04-1014-4653-b280-9868e75fc408",
   "metadata": {},
   "source": [
    "## Findings and Conclusion"
   ]
  },
  {
   "cell_type": "code",
   "execution_count": null,
   "id": "9e5372fd-4a70-4933-83e9-8c1bb599a05f",
   "metadata": {},
   "outputs": [],
   "source": [
    "# Use the information above to answer the objectives outlined in the introduction"
   ]
  },
  {
   "cell_type": "markdown",
   "id": "327f25c4-790f-49ed-b1d2-4ffb1f93a8b4",
   "metadata": {},
   "source": [
    "## Recommendations"
   ]
  },
  {
   "cell_type": "code",
   "execution_count": null,
   "id": "b7a7faee-098f-4a32-8bbe-d4df0ca2ee31",
   "metadata": {},
   "outputs": [],
   "source": [
    "# Make recommendations based on the findings and interest of the stakeholders"
   ]
  }
 ],
 "metadata": {
  "kernelspec": {
   "display_name": "Python 3",
   "language": "python",
   "name": "python3"
  },
  "language_info": {
   "codemirror_mode": {
    "name": "ipython",
    "version": 3
   },
   "file_extension": ".py",
   "mimetype": "text/x-python",
   "name": "python",
   "nbconvert_exporter": "python",
   "pygments_lexer": "ipython3",
   "version": "3.13.5"
  }
 },
 "nbformat": 4,
 "nbformat_minor": 5
}
