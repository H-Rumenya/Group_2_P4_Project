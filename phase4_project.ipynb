{
 "cells": [
  {
   "cell_type": "markdown",
   "id": "e6aee8c8-8f8e-4797-a9e5-1f2ed6963616",
   "metadata": {},
   "source": [
    "# Recommendation Systems"
   ]
  },
  {
   "cell_type": "markdown",
   "id": "1f740b0e",
   "metadata": {},
   "source": [
    "![Alt text](Images\\Becauseyouwatched.jpg)"
   ]
  },
  {
   "cell_type": "markdown",
   "id": "400d4772-4168-4f4b-8c81-6d0bbf478b66",
   "metadata": {},
   "source": [
    "## BUSINESS UNDERSTANDING."
   ]
  },
  {
   "cell_type": "markdown",
   "id": "0d624515",
   "metadata": {},
   "source": [
    "## Business Overview.\n",
    "\n",
    "Imagine the number of streaming sites, now imagine the challenges the platform faces: the two main questions being how do they get to help  users discover content they will not only love but also will keep them engaged over time- remember there are thousands of titles available as such users could experience decision fatigue which may lead to lower watch time and or increased churn. Now how about having a well-designed recommendation system that can transform this experience by only surfacing relevant and personalized content that resonates with one's individual taste and preference?\n",
    "\n",
    "This project is therefore designed to build a movie recommendation engine using the MovieLens dataset, with the aim of improving the retention of users through personalized suggestions and we shall do so by analyzing the user ratings and preferences. In the end we shall be able to deliver top five movie recommendations that feel intuitive, relevant and engaging."
   ]
  },
  {
   "cell_type": "markdown",
   "id": "ef3e2f3a",
   "metadata": {},
   "source": [
    "## Problem statement.\n",
    "\n",
    "As we have seen that its really a struggle by users to find content that matches their prefences, especially as more movies gets produced each day. Therefore our question is ***'how can we deliver personalized movie recommendations that will ultimately increase user satsifaction and retention on a streaming platform?'***"
   ]
  },
  {
   "cell_type": "markdown",
   "id": "13808f10",
   "metadata": {},
   "source": [
    "## Stakeholders\n",
    "\n",
    "**Product team**- to improve user engagement & retention through personalization  \n",
    "**Data Scientist**- For building and validating recommendation engine  \n",
    "**Marketing team**- for segmentation and promotion of contetnt based on preferences  \n",
    "**Owners of streaming platforms/ Executive leadership**- Evaluation of ROI of a well designed personalized system on platform performance.\n"
   ]
  },
  {
   "cell_type": "markdown",
   "id": "05c54ed3",
   "metadata": {},
   "source": [
    "## Success Metrics.\n",
    "- Building a model that generates top five movie recommendations per user.\n",
    "- Improvement of user engagement as a result of tailor-making contetnt to user preferences.\n",
    "- Provision of actionable insights for product and marketing team to use.\n",
    "- Visualizing resulsts for non technical team e.g the executive.\n"
   ]
  },
  {
   "cell_type": "markdown",
   "id": "76a3bea7",
   "metadata": {},
   "source": [
    "## Type of Recommendation and Model Evaluation Metrics.\n",
    "This project will be focusing on personalized recommendations, leveraging collaborative filtering to unearth latent user preferances and as a result suggest movies aligned with their taste. Some of the metrics that we may deploy include:\n",
    "\n",
    "- **RMSE/MAE** -For rating prediction accuracy\n",
    "- **Precision, Recall, F1 Score** - For quality ranking.\n",
    "- **Coverage, Diversity** - To help with assessment of recomendation variety & system robustness."
   ]
  },
  {
   "cell_type": "markdown",
   "id": "f54a8c8d-5eab-4231-a40b-5921c145219d",
   "metadata": {},
   "source": [
    "## Data Understanding  "
   ]
  },
  {
   "cell_type": "markdown",
   "id": "41b5bc36",
   "metadata": {},
   "source": [
    "### Dataset Overview  \n",
    "The provided dataset, comprising four CSV files: \n",
    "- **links.csv**\n",
    "- **movies.csv**\n",
    "- **ratings.csv**\n",
    "- **tags.csv**\n",
    "\n",
    " offers a comprehensive foundation for a robust movie recommendation system. The data is structured to facilitate the analysis of user behavior, movie characteristics, and their interrelationships.\n",
    "\n",
    "##  Importing Libraries "
   ]
  },
  {
   "cell_type": "code",
   "execution_count": 1,
   "id": "67d800ba-9480-4fec-aa10-b31684bc61fb",
   "metadata": {},
   "outputs": [
    {
     "name": "stderr",
     "output_type": "stream",
     "text": [
      "c:\\Users\\Joackim.Kisienya\\AppData\\Local\\anaconda3\\envs\\learn-env-py310\\lib\\site-packages\\surprise\\__init__.py:1: UserWarning: pkg_resources is deprecated as an API. See https://setuptools.pypa.io/en/latest/pkg_resources.html. The pkg_resources package is slated for removal as early as 2025-11-30. Refrain from using this package or pin to Setuptools<81.\n",
      "  from pkg_resources import get_distribution\n"
     ]
    }
   ],
   "source": [
    "# Load the libraries\n",
    "import pandas as pd\n",
    "import numpy as np\n",
    "import matplotlib.pyplot as plt\n",
    "import seaborn as sns\n",
    "from scipy.sparse import csr_matrix\n",
    "from sklearn.model_selection import train_test_split\n",
    "from sklearn.metrics import mean_squared_error\n",
    "from sklearn.feature_extraction.text import TfidfVectorizer\n",
    "from sklearn.metrics.pairwise import cosine_similarity\n",
    "from math import sqrt\n",
    "from implicit.als import AlternatingLeastSquares\n",
    "from surprise import KNNBasic, SVD, Dataset, Reader\n",
    "from surprise.model_selection import train_test_split as surprise_train_test_split\n",
    "from itertools import product\n",
    "from collections import defaultdict\n",
    "from joblib import Parallel, delayed\n",
    "import time\n",
    "from tqdm import tqdm\n",
    "import warnings\n",
    "warnings.filterwarnings(\"ignore\", category=UserWarning, module=\"surprise\")\n",
    "sns.set_theme(style=\"whitegrid\", context=\"notebook\")"
   ]
  },
  {
   "cell_type": "markdown",
   "id": "1d97089b",
   "metadata": {},
   "source": [
    "---\n",
    "## Movies dataset.\n"
   ]
  },
  {
   "cell_type": "code",
   "execution_count": 2,
   "id": "5c341620",
   "metadata": {},
   "outputs": [
    {
     "name": "stdout",
     "output_type": "stream",
     "text": [
      "<class 'pandas.core.frame.DataFrame'>\n",
      "RangeIndex: 9742 entries, 0 to 9741\n",
      "Data columns (total 3 columns):\n",
      " #   Column   Non-Null Count  Dtype \n",
      "---  ------   --------------  ----- \n",
      " 0   movieId  9742 non-null   int64 \n",
      " 1   title    9742 non-null   object\n",
      " 2   genres   9742 non-null   object\n",
      "dtypes: int64(1), object(2)\n",
      "memory usage: 228.5+ KB\n"
     ]
    }
   ],
   "source": [
    "# Loading  the movies dataset\n",
    "movies = pd.read_csv('Data/movies.csv')\n",
    "movies.info()"
   ]
  },
  {
   "cell_type": "markdown",
   "id": "665074ca",
   "metadata": {},
   "source": [
    "#### Movies.csv  \n",
    "\n",
    "This file contains **movie titles** and their corresponding **genres**.  \n",
    "\n",
    "It, Serves as the **central movie catalog**, this file contains a unique entry for each of the **9,742 films**.  \n",
    "### Columns \n",
    "- **movieId**: Primary key that links to other datasets.  \n",
    "- **title**: Movie title (with release year).  \n",
    "- **genres**: Pipe-separated list of genres.  \n",
    "\n",
    "This file is essential for **content-based filtering**, enabling genre-specific recommendations and theme analysis. "
   ]
  },
  {
   "cell_type": "markdown",
   "id": "2aa78b4e",
   "metadata": {},
   "source": [
    "---\n",
    "## Ratings Dataset.\n"
   ]
  },
  {
   "cell_type": "code",
   "execution_count": 3,
   "id": "3e90a477",
   "metadata": {},
   "outputs": [
    {
     "name": "stdout",
     "output_type": "stream",
     "text": [
      "<class 'pandas.core.frame.DataFrame'>\n",
      "RangeIndex: 100836 entries, 0 to 100835\n",
      "Data columns (total 4 columns):\n",
      " #   Column     Non-Null Count   Dtype  \n",
      "---  ------     --------------   -----  \n",
      " 0   userId     100836 non-null  int64  \n",
      " 1   movieId    100836 non-null  int64  \n",
      " 2   rating     100836 non-null  float64\n",
      " 3   timestamp  100836 non-null  int64  \n",
      "dtypes: float64(1), int64(3)\n",
      "memory usage: 3.1 MB\n"
     ]
    },
    {
     "data": {
      "application/vnd.microsoft.datawrangler.viewer.v0+json": {
       "columns": [
        {
         "name": "index",
         "rawType": "int64",
         "type": "integer"
        },
        {
         "name": "userId",
         "rawType": "int64",
         "type": "integer"
        },
        {
         "name": "movieId",
         "rawType": "int64",
         "type": "integer"
        },
        {
         "name": "rating",
         "rawType": "float64",
         "type": "float"
        },
        {
         "name": "timestamp",
         "rawType": "int64",
         "type": "integer"
        }
       ],
       "ref": "7a52e156-91ed-402b-b9ab-67797690c5f1",
       "rows": [
        [
         "0",
         "1",
         "1",
         "4.0",
         "964982703"
        ],
        [
         "1",
         "1",
         "3",
         "4.0",
         "964981247"
        ],
        [
         "2",
         "1",
         "6",
         "4.0",
         "964982224"
        ],
        [
         "3",
         "1",
         "47",
         "5.0",
         "964983815"
        ],
        [
         "4",
         "1",
         "50",
         "5.0",
         "964982931"
        ]
       ],
       "shape": {
        "columns": 4,
        "rows": 5
       }
      },
      "text/html": [
       "<div>\n",
       "<style scoped>\n",
       "    .dataframe tbody tr th:only-of-type {\n",
       "        vertical-align: middle;\n",
       "    }\n",
       "\n",
       "    .dataframe tbody tr th {\n",
       "        vertical-align: top;\n",
       "    }\n",
       "\n",
       "    .dataframe thead th {\n",
       "        text-align: right;\n",
       "    }\n",
       "</style>\n",
       "<table border=\"1\" class=\"dataframe\">\n",
       "  <thead>\n",
       "    <tr style=\"text-align: right;\">\n",
       "      <th></th>\n",
       "      <th>userId</th>\n",
       "      <th>movieId</th>\n",
       "      <th>rating</th>\n",
       "      <th>timestamp</th>\n",
       "    </tr>\n",
       "  </thead>\n",
       "  <tbody>\n",
       "    <tr>\n",
       "      <th>0</th>\n",
       "      <td>1</td>\n",
       "      <td>1</td>\n",
       "      <td>4.0</td>\n",
       "      <td>964982703</td>\n",
       "    </tr>\n",
       "    <tr>\n",
       "      <th>1</th>\n",
       "      <td>1</td>\n",
       "      <td>3</td>\n",
       "      <td>4.0</td>\n",
       "      <td>964981247</td>\n",
       "    </tr>\n",
       "    <tr>\n",
       "      <th>2</th>\n",
       "      <td>1</td>\n",
       "      <td>6</td>\n",
       "      <td>4.0</td>\n",
       "      <td>964982224</td>\n",
       "    </tr>\n",
       "    <tr>\n",
       "      <th>3</th>\n",
       "      <td>1</td>\n",
       "      <td>47</td>\n",
       "      <td>5.0</td>\n",
       "      <td>964983815</td>\n",
       "    </tr>\n",
       "    <tr>\n",
       "      <th>4</th>\n",
       "      <td>1</td>\n",
       "      <td>50</td>\n",
       "      <td>5.0</td>\n",
       "      <td>964982931</td>\n",
       "    </tr>\n",
       "  </tbody>\n",
       "</table>\n",
       "</div>"
      ],
      "text/plain": [
       "   userId  movieId  rating  timestamp\n",
       "0       1        1     4.0  964982703\n",
       "1       1        3     4.0  964981247\n",
       "2       1        6     4.0  964982224\n",
       "3       1       47     5.0  964983815\n",
       "4       1       50     5.0  964982931"
      ]
     },
     "execution_count": 3,
     "metadata": {},
     "output_type": "execute_result"
    }
   ],
   "source": [
    "# Loading ratings dataset\n",
    "ratings = pd.read_csv('Data/ratings.csv')\n",
    "ratings.info()\n",
    "ratings.head()"
   ]
  },
  {
   "cell_type": "markdown",
   "id": "358ee1de",
   "metadata": {},
   "source": [
    "### ratings.csv  \n",
    "The most **data-heavy file**, containing **100,836 explicit user ratings**.  \n",
    "#### Columns \n",
    "- **userId**: Identifier of the user.  \n",
    "- **movieId**: Identifier of the rated movie.  \n",
    "- **rating**: Explicit user rating (e.g., 1.0–5.0).  \n",
    "- **timestamp**: Time of rating (Unix format).  \n",
    "\n",
    "This dataset forms the **backbone of collaborative filtering**. The timestamps also enable **temporal analysis**, helping track evolving preferences and movie popularity trends.  \n"
   ]
  },
  {
   "cell_type": "markdown",
   "id": "c0bbefbb",
   "metadata": {},
   "source": [
    "---\n",
    "## Links dataset.\n"
   ]
  },
  {
   "cell_type": "code",
   "execution_count": 4,
   "id": "11f3fa6e",
   "metadata": {},
   "outputs": [
    {
     "name": "stdout",
     "output_type": "stream",
     "text": [
      "<class 'pandas.core.frame.DataFrame'>\n",
      "RangeIndex: 9742 entries, 0 to 9741\n",
      "Data columns (total 3 columns):\n",
      " #   Column   Non-Null Count  Dtype  \n",
      "---  ------   --------------  -----  \n",
      " 0   movieId  9742 non-null   int64  \n",
      " 1   imdbId   9742 non-null   int64  \n",
      " 2   tmdbId   9734 non-null   float64\n",
      "dtypes: float64(1), int64(2)\n",
      "memory usage: 228.5 KB\n"
     ]
    },
    {
     "data": {
      "application/vnd.microsoft.datawrangler.viewer.v0+json": {
       "columns": [
        {
         "name": "index",
         "rawType": "int64",
         "type": "integer"
        },
        {
         "name": "movieId",
         "rawType": "int64",
         "type": "integer"
        },
        {
         "name": "imdbId",
         "rawType": "int64",
         "type": "integer"
        },
        {
         "name": "tmdbId",
         "rawType": "float64",
         "type": "float"
        }
       ],
       "ref": "298bba69-3a8b-4190-8c62-fcb73067a79f",
       "rows": [
        [
         "0",
         "1",
         "114709",
         "862.0"
        ],
        [
         "1",
         "2",
         "113497",
         "8844.0"
        ],
        [
         "2",
         "3",
         "113228",
         "15602.0"
        ],
        [
         "3",
         "4",
         "114885",
         "31357.0"
        ],
        [
         "4",
         "5",
         "113041",
         "11862.0"
        ]
       ],
       "shape": {
        "columns": 3,
        "rows": 5
       }
      },
      "text/html": [
       "<div>\n",
       "<style scoped>\n",
       "    .dataframe tbody tr th:only-of-type {\n",
       "        vertical-align: middle;\n",
       "    }\n",
       "\n",
       "    .dataframe tbody tr th {\n",
       "        vertical-align: top;\n",
       "    }\n",
       "\n",
       "    .dataframe thead th {\n",
       "        text-align: right;\n",
       "    }\n",
       "</style>\n",
       "<table border=\"1\" class=\"dataframe\">\n",
       "  <thead>\n",
       "    <tr style=\"text-align: right;\">\n",
       "      <th></th>\n",
       "      <th>movieId</th>\n",
       "      <th>imdbId</th>\n",
       "      <th>tmdbId</th>\n",
       "    </tr>\n",
       "  </thead>\n",
       "  <tbody>\n",
       "    <tr>\n",
       "      <th>0</th>\n",
       "      <td>1</td>\n",
       "      <td>114709</td>\n",
       "      <td>862.0</td>\n",
       "    </tr>\n",
       "    <tr>\n",
       "      <th>1</th>\n",
       "      <td>2</td>\n",
       "      <td>113497</td>\n",
       "      <td>8844.0</td>\n",
       "    </tr>\n",
       "    <tr>\n",
       "      <th>2</th>\n",
       "      <td>3</td>\n",
       "      <td>113228</td>\n",
       "      <td>15602.0</td>\n",
       "    </tr>\n",
       "    <tr>\n",
       "      <th>3</th>\n",
       "      <td>4</td>\n",
       "      <td>114885</td>\n",
       "      <td>31357.0</td>\n",
       "    </tr>\n",
       "    <tr>\n",
       "      <th>4</th>\n",
       "      <td>5</td>\n",
       "      <td>113041</td>\n",
       "      <td>11862.0</td>\n",
       "    </tr>\n",
       "  </tbody>\n",
       "</table>\n",
       "</div>"
      ],
      "text/plain": [
       "   movieId  imdbId   tmdbId\n",
       "0        1  114709    862.0\n",
       "1        2  113497   8844.0\n",
       "2        3  113228  15602.0\n",
       "3        4  114885  31357.0\n",
       "4        5  113041  11862.0"
      ]
     },
     "execution_count": 4,
     "metadata": {},
     "output_type": "execute_result"
    }
   ],
   "source": [
    "# Loading  the links dataset\n",
    "links = pd.read_csv('Data/links.csv')\n",
    "links.info()\n",
    "links.head()"
   ]
  },
  {
   "cell_type": "markdown",
   "id": "77d40627",
   "metadata": {},
   "source": [
    "#### links.csv  \n",
    "\n",
    "This file serves as a **bridge to external metadata sources**, mapping internal `movieId` values to industry-standard identifiers:  \n",
    "### Columns  \n",
    "- **movieId**: Unique identifier for a movie.\n",
    "- **imdbId**: IMDb identifier.  \n",
    "- **tmdbId**: The Movie Database (TMDb) identifier. \n",
    "\n",
    "These external links allow for **data enrichment**, such as retrieving cast, plot, and ratings. This enhances the recommendation engine with richer context.  "
   ]
  },
  {
   "cell_type": "markdown",
   "id": "1b14b4ae",
   "metadata": {},
   "source": [
    "## Tags Dataset.\n",
    "---"
   ]
  },
  {
   "cell_type": "code",
   "execution_count": 5,
   "id": "6f716108",
   "metadata": {},
   "outputs": [
    {
     "name": "stdout",
     "output_type": "stream",
     "text": [
      "<class 'pandas.core.frame.DataFrame'>\n",
      "RangeIndex: 3683 entries, 0 to 3682\n",
      "Data columns (total 4 columns):\n",
      " #   Column     Non-Null Count  Dtype \n",
      "---  ------     --------------  ----- \n",
      " 0   userId     3683 non-null   int64 \n",
      " 1   movieId    3683 non-null   int64 \n",
      " 2   tag        3683 non-null   object\n",
      " 3   timestamp  3683 non-null   int64 \n",
      "dtypes: int64(3), object(1)\n",
      "memory usage: 115.2+ KB\n"
     ]
    }
   ],
   "source": [
    "# Loading  the tags dataset\n",
    "tags = pd.read_csv('Data/tags.csv')\n",
    "tags.info()"
   ]
  },
  {
   "cell_type": "markdown",
   "id": "459102d7",
   "metadata": {},
   "source": [
    "#### tags.csv  \n",
    "This file contains **3,683 qualitative user-generated tags**, offering descriptive insights beyond numerical ratings.  \n",
    "### Columns\n",
    "- **userId**: Identifier of the user who tagged the movie.  \n",
    "- **movieId**: Identifier of the tagged movie.  \n",
    "- **tag**: User-generated keyword(s).  \n",
    "- **timestamp**: Time the tag was applied.  \n",
    "\n",
    "Tags capture **nuanced characteristics** that genres miss, enabling **expressive content-based models**. They also reflect how perceptions of movies **shift over time**.  \n"
   ]
  },
  {
   "cell_type": "markdown",
   "id": "dc20023d-ac29-454c-9778-cc5273aebaf8",
   "metadata": {},
   "source": [
    "## Data Preparation"
   ]
  },
  {
   "cell_type": "code",
   "execution_count": 6,
   "id": "9302f5be-fd0d-448b-9637-42dd8ee98a2a",
   "metadata": {},
   "outputs": [],
   "source": [
    "# Merge datasets\n",
    "df = ratings.merge(movies, on='movieId', how='left') \\\n",
    "            .merge(tags, on=['userId', 'movieId'], how='left') \\\n",
    "            .merge(links, on='movieId', how='left')"
   ]
  },
  {
   "cell_type": "code",
   "execution_count": 7,
   "id": "8d341087-e9af-431b-b20e-0d7374a8edec",
   "metadata": {},
   "outputs": [
    {
     "data": {
      "application/vnd.microsoft.datawrangler.viewer.v0+json": {
       "columns": [
        {
         "name": "index",
         "rawType": "int64",
         "type": "integer"
        },
        {
         "name": "userId",
         "rawType": "int64",
         "type": "integer"
        },
        {
         "name": "movieId",
         "rawType": "int64",
         "type": "integer"
        },
        {
         "name": "rating",
         "rawType": "float64",
         "type": "float"
        },
        {
         "name": "timestamp_x",
         "rawType": "int64",
         "type": "integer"
        },
        {
         "name": "title",
         "rawType": "object",
         "type": "string"
        },
        {
         "name": "genres",
         "rawType": "object",
         "type": "string"
        },
        {
         "name": "tag",
         "rawType": "object",
         "type": "unknown"
        },
        {
         "name": "timestamp_y",
         "rawType": "float64",
         "type": "float"
        },
        {
         "name": "imdbId",
         "rawType": "int64",
         "type": "integer"
        },
        {
         "name": "tmdbId",
         "rawType": "float64",
         "type": "float"
        }
       ],
       "ref": "13cf4bc0-0630-4365-8df9-47f4a6db6f9e",
       "rows": [
        [
         "0",
         "1",
         "1",
         "4.0",
         "964982703",
         "Toy Story (1995)",
         "Adventure|Animation|Children|Comedy|Fantasy",
         null,
         null,
         "114709",
         "862.0"
        ],
        [
         "1",
         "1",
         "3",
         "4.0",
         "964981247",
         "Grumpier Old Men (1995)",
         "Comedy|Romance",
         null,
         null,
         "113228",
         "15602.0"
        ],
        [
         "2",
         "1",
         "6",
         "4.0",
         "964982224",
         "Heat (1995)",
         "Action|Crime|Thriller",
         null,
         null,
         "113277",
         "949.0"
        ],
        [
         "3",
         "1",
         "47",
         "5.0",
         "964983815",
         "Seven (a.k.a. Se7en) (1995)",
         "Mystery|Thriller",
         null,
         null,
         "114369",
         "807.0"
        ],
        [
         "4",
         "1",
         "50",
         "5.0",
         "964982931",
         "Usual Suspects, The (1995)",
         "Crime|Mystery|Thriller",
         null,
         null,
         "114814",
         "629.0"
        ]
       ],
       "shape": {
        "columns": 10,
        "rows": 5
       }
      },
      "text/html": [
       "<div>\n",
       "<style scoped>\n",
       "    .dataframe tbody tr th:only-of-type {\n",
       "        vertical-align: middle;\n",
       "    }\n",
       "\n",
       "    .dataframe tbody tr th {\n",
       "        vertical-align: top;\n",
       "    }\n",
       "\n",
       "    .dataframe thead th {\n",
       "        text-align: right;\n",
       "    }\n",
       "</style>\n",
       "<table border=\"1\" class=\"dataframe\">\n",
       "  <thead>\n",
       "    <tr style=\"text-align: right;\">\n",
       "      <th></th>\n",
       "      <th>userId</th>\n",
       "      <th>movieId</th>\n",
       "      <th>rating</th>\n",
       "      <th>timestamp_x</th>\n",
       "      <th>title</th>\n",
       "      <th>genres</th>\n",
       "      <th>tag</th>\n",
       "      <th>timestamp_y</th>\n",
       "      <th>imdbId</th>\n",
       "      <th>tmdbId</th>\n",
       "    </tr>\n",
       "  </thead>\n",
       "  <tbody>\n",
       "    <tr>\n",
       "      <th>0</th>\n",
       "      <td>1</td>\n",
       "      <td>1</td>\n",
       "      <td>4.0</td>\n",
       "      <td>964982703</td>\n",
       "      <td>Toy Story (1995)</td>\n",
       "      <td>Adventure|Animation|Children|Comedy|Fantasy</td>\n",
       "      <td>NaN</td>\n",
       "      <td>NaN</td>\n",
       "      <td>114709</td>\n",
       "      <td>862.0</td>\n",
       "    </tr>\n",
       "    <tr>\n",
       "      <th>1</th>\n",
       "      <td>1</td>\n",
       "      <td>3</td>\n",
       "      <td>4.0</td>\n",
       "      <td>964981247</td>\n",
       "      <td>Grumpier Old Men (1995)</td>\n",
       "      <td>Comedy|Romance</td>\n",
       "      <td>NaN</td>\n",
       "      <td>NaN</td>\n",
       "      <td>113228</td>\n",
       "      <td>15602.0</td>\n",
       "    </tr>\n",
       "    <tr>\n",
       "      <th>2</th>\n",
       "      <td>1</td>\n",
       "      <td>6</td>\n",
       "      <td>4.0</td>\n",
       "      <td>964982224</td>\n",
       "      <td>Heat (1995)</td>\n",
       "      <td>Action|Crime|Thriller</td>\n",
       "      <td>NaN</td>\n",
       "      <td>NaN</td>\n",
       "      <td>113277</td>\n",
       "      <td>949.0</td>\n",
       "    </tr>\n",
       "    <tr>\n",
       "      <th>3</th>\n",
       "      <td>1</td>\n",
       "      <td>47</td>\n",
       "      <td>5.0</td>\n",
       "      <td>964983815</td>\n",
       "      <td>Seven (a.k.a. Se7en) (1995)</td>\n",
       "      <td>Mystery|Thriller</td>\n",
       "      <td>NaN</td>\n",
       "      <td>NaN</td>\n",
       "      <td>114369</td>\n",
       "      <td>807.0</td>\n",
       "    </tr>\n",
       "    <tr>\n",
       "      <th>4</th>\n",
       "      <td>1</td>\n",
       "      <td>50</td>\n",
       "      <td>5.0</td>\n",
       "      <td>964982931</td>\n",
       "      <td>Usual Suspects, The (1995)</td>\n",
       "      <td>Crime|Mystery|Thriller</td>\n",
       "      <td>NaN</td>\n",
       "      <td>NaN</td>\n",
       "      <td>114814</td>\n",
       "      <td>629.0</td>\n",
       "    </tr>\n",
       "  </tbody>\n",
       "</table>\n",
       "</div>"
      ],
      "text/plain": [
       "   userId  movieId  rating  timestamp_x                        title  \\\n",
       "0       1        1     4.0    964982703             Toy Story (1995)   \n",
       "1       1        3     4.0    964981247      Grumpier Old Men (1995)   \n",
       "2       1        6     4.0    964982224                  Heat (1995)   \n",
       "3       1       47     5.0    964983815  Seven (a.k.a. Se7en) (1995)   \n",
       "4       1       50     5.0    964982931   Usual Suspects, The (1995)   \n",
       "\n",
       "                                        genres  tag  timestamp_y  imdbId  \\\n",
       "0  Adventure|Animation|Children|Comedy|Fantasy  NaN          NaN  114709   \n",
       "1                               Comedy|Romance  NaN          NaN  113228   \n",
       "2                        Action|Crime|Thriller  NaN          NaN  113277   \n",
       "3                             Mystery|Thriller  NaN          NaN  114369   \n",
       "4                       Crime|Mystery|Thriller  NaN          NaN  114814   \n",
       "\n",
       "    tmdbId  \n",
       "0    862.0  \n",
       "1  15602.0  \n",
       "2    949.0  \n",
       "3    807.0  \n",
       "4    629.0  "
      ]
     },
     "execution_count": 7,
     "metadata": {},
     "output_type": "execute_result"
    }
   ],
   "source": [
    "df.head()"
   ]
  },
  {
   "cell_type": "code",
   "execution_count": 8,
   "id": "e49dd3e3-05a9-4b6e-a581-35da3022f6dd",
   "metadata": {},
   "outputs": [
    {
     "name": "stdout",
     "output_type": "stream",
     "text": [
      "<class 'pandas.core.frame.DataFrame'>\n",
      "RangeIndex: 102677 entries, 0 to 102676\n",
      "Data columns (total 10 columns):\n",
      " #   Column       Non-Null Count   Dtype  \n",
      "---  ------       --------------   -----  \n",
      " 0   userId       102677 non-null  int64  \n",
      " 1   movieId      102677 non-null  int64  \n",
      " 2   rating       102677 non-null  float64\n",
      " 3   timestamp_x  102677 non-null  int64  \n",
      " 4   title        102677 non-null  object \n",
      " 5   genres       102677 non-null  object \n",
      " 6   tag          3476 non-null    object \n",
      " 7   timestamp_y  3476 non-null    float64\n",
      " 8   imdbId       102677 non-null  int64  \n",
      " 9   tmdbId       102664 non-null  float64\n",
      "dtypes: float64(3), int64(4), object(3)\n",
      "memory usage: 7.8+ MB\n"
     ]
    }
   ],
   "source": [
    "df.info()"
   ]
  },
  {
   "cell_type": "code",
   "execution_count": 9,
   "id": "0887157c-ff35-4a94-a9a0-ea29104bc18d",
   "metadata": {},
   "outputs": [
    {
     "data": {
      "application/vnd.microsoft.datawrangler.viewer.v0+json": {
       "columns": [
        {
         "name": "index",
         "rawType": "object",
         "type": "string"
        },
        {
         "name": "0",
         "rawType": "int64",
         "type": "integer"
        }
       ],
       "ref": "0e70c6ab-6912-4edd-ac84-f741c1170d11",
       "rows": [
        [
         "userId",
         "0"
        ],
        [
         "movieId",
         "0"
        ],
        [
         "rating",
         "0"
        ],
        [
         "timestamp_x",
         "0"
        ],
        [
         "title",
         "0"
        ],
        [
         "genres",
         "0"
        ],
        [
         "tag",
         "99201"
        ],
        [
         "timestamp_y",
         "99201"
        ],
        [
         "imdbId",
         "0"
        ],
        [
         "tmdbId",
         "13"
        ]
       ],
       "shape": {
        "columns": 1,
        "rows": 10
       }
      },
      "text/plain": [
       "userId             0\n",
       "movieId            0\n",
       "rating             0\n",
       "timestamp_x        0\n",
       "title              0\n",
       "genres             0\n",
       "tag            99201\n",
       "timestamp_y    99201\n",
       "imdbId             0\n",
       "tmdbId            13\n",
       "dtype: int64"
      ]
     },
     "execution_count": 9,
     "metadata": {},
     "output_type": "execute_result"
    }
   ],
   "source": [
    "df.isnull().sum()"
   ]
  },
  {
   "cell_type": "code",
   "execution_count": 10,
   "id": "46e77e76-b975-4cb5-85fe-62c9c3b0ec49",
   "metadata": {},
   "outputs": [
    {
     "name": "stdout",
     "output_type": "stream",
     "text": [
      "Shape of df: (102677, 10)\n"
     ]
    }
   ],
   "source": [
    "print(\"Shape of df:\", df.shape)"
   ]
  },
  {
   "cell_type": "markdown",
   "id": "729d0e24",
   "metadata": {},
   "source": [
    "### Data Preprocessing"
   ]
  },
  {
   "cell_type": "code",
   "execution_count": 11,
   "id": "7b6562eb-ac3f-49bd-92b9-2c78139e1989",
   "metadata": {},
   "outputs": [
    {
     "name": "stdout",
     "output_type": "stream",
     "text": [
      "Data columns: Index(['userId', 'movieId', 'rating', 'timestamp_x', 'title', 'genres', 'tag',\n",
      "       'timestamp_y', 'imdbId', 'tmdbId'],\n",
      "      dtype='object')\n",
      "Number of duplicate userId-movieId pairs before aggregation: 1841\n"
     ]
    }
   ],
   "source": [
    "#print out the column names of the DataFrame\n",
    "#checks for duplicate rows based on the combination of userId and movieId.\n",
    "data = df\n",
    "print(\"Data columns:\", data.columns)\n",
    "duplicates = data.duplicated(subset=['userId', 'movieId']).sum()\n",
    "print(f\"Number of duplicate userId-movieId pairs before aggregation: {duplicates}\")"
   ]
  },
  {
   "cell_type": "markdown",
   "id": "48d89f0c",
   "metadata": {},
   "source": [
    "##### Aggregate ratings, include 'title' if present"
   ]
  },
  {
   "cell_type": "code",
   "execution_count": 12,
   "id": "fa6e7e10",
   "metadata": {},
   "outputs": [
    {
     "name": "stdout",
     "output_type": "stream",
     "text": [
      "Number of duplicate userId-movieId pairs after aggregation: 0\n"
     ]
    }
   ],
   "source": [
    "#Perform aggregation:\n",
    "#for the rating column, take the mean (average) if there are multiple ratings for the same userId and movieId.\n",
    "#group data by userId and movie Id\n",
    "agg_cols = {'rating': 'mean'}\n",
    "if 'title' in data.columns:\n",
    "    agg_cols['title'] = 'first'\n",
    "data = data.groupby(['userId', 'movieId'], as_index=False).agg(agg_cols)\n",
    "duplicates_after = data.duplicated(subset=['userId', 'movieId']).sum()\n",
    "print(f\"Number of duplicate userId-movieId pairs after aggregation: {duplicates_after}\")"
   ]
  },
  {
   "cell_type": "markdown",
   "id": "a38c1a65",
   "metadata": {},
   "source": [
    "##### Create movies DataFrame"
   ]
  },
  {
   "cell_type": "code",
   "execution_count": 13,
   "id": "504bfdf0",
   "metadata": {},
   "outputs": [
    {
     "name": "stdout",
     "output_type": "stream",
     "text": [
      "Movies columns: Index(['movieId', 'title', 'genres'], dtype='object')\n"
     ]
    }
   ],
   "source": [
    "# this prepares a movies DataFrame containing movieId, title, and genres.\n",
    "# Extract and cleans genres and title if they are in the dataframe.\n",
    "if 'genres' in data.columns and 'title' in data.columns:\n",
    "    movies = data[['movieId', 'title', 'genres']].drop_duplicates()\n",
    "    movies['genres'] = movies['genres'].fillna('').str.replace('|', ' ')\n",
    "elif 'genres' in data.columns:\n",
    "    movies = data[['movieId', 'genres']].drop_duplicates()\n",
    "    movies['genres'] = movies['genres'].fillna('').str.replace('|', ' ')\n",
    "    movies_csv = pd.read_csv('Data/movies.csv')\n",
    "    if 'title' in movies_csv.columns:\n",
    "        movies = movies.merge(movies_csv[['movieId', 'title']], on='movieId', how='left')\n",
    "    else:\n",
    "        movies['title'] = movies['movieId'].astype(str)\n",
    "else:\n",
    "    movies = pd.read_csv('Data/movies.csv')\n",
    "    movies = movies[['movieId', 'title', 'genres']]\n",
    "    movies['genres'] = movies['genres'].fillna('').str.replace('|', ' ')\n",
    "    if 'title' not in movies.columns:\n",
    "        movies['title'] = movies['movieId'].astype(str)\n",
    "movies['title'] = movies['title'].fillna(movies['movieId'].astype(str))\n",
    "print(\"Movies columns:\", movies.columns)\n",
    "\n",
    "user_item_matrix = data.pivot(index='userId', columns='movieId', values='rating').fillna(0)\n",
    "user_item_sparse = csr_matrix(user_item_matrix.values)"
   ]
  },
  {
   "cell_type": "code",
   "execution_count": 14,
   "id": "5bb2abfe",
   "metadata": {},
   "outputs": [
    {
     "name": "stdout",
     "output_type": "stream",
     "text": [
      "Filtered movies_df size: 1000 movies\n",
      "User-item matrix shape: (610, 1000)\n",
      "Sparsity: 0.9830\n",
      "User 1 ratings: 232\n",
      "User 1 in user_item_matrix: True\n"
     ]
    }
   ],
   "source": [
    "# Limit to top 1000 most-rated movies\n",
    "movie_counts = data['movieId'].value_counts()\n",
    "top_movies = movie_counts.head(1000).index\n",
    "movies = movies[movies['movieId'].isin(top_movies)]\n",
    "user_item_matrix = user_item_matrix[top_movies]\n",
    "user_item_sparse = csr_matrix(user_item_matrix.values)\n",
    "print(f\"Filtered movies_df size: {len(movies)} movies\")\n",
    "print(f\"User-item matrix shape: {user_item_matrix.shape}\")\n",
    "print(f\"Sparsity: {1 - len(data) / (len(data['userId'].unique()) * len(data['movieId'].unique())):.4f}\")\n",
    "print(f\"User 1 ratings: {len(data[data['userId'] == 1])}\")\n",
    "print(f\"User 1 in user_item_matrix: {1 in user_item_matrix.index}\")"
   ]
  },
  {
   "cell_type": "markdown",
   "id": "75ba544d",
   "metadata": {},
   "source": [
    "### Visualizations\n",
    "#### 1. Histogram of Ratings"
   ]
  },
  {
   "cell_type": "code",
   "execution_count": 15,
   "id": "0a9514b5",
   "metadata": {},
   "outputs": [
    {
     "data": {
      "image/png": "[encoded data removed]",
      "text/plain": [
       "<Figure size 1000x600 with 1 Axes>"
      ]
     },
     "metadata": {},
     "output_type": "display_data"
    }
   ],
   "source": [
    "# plot a histogram of movie ratings\n",
    "plt.figure(figsize=(10, 6))\n",
    "sns.histplot(data['rating'], bins=10, kde=True)\n",
    "plt.title('Distribution of Ratings')\n",
    "plt.xlabel('Rating')\n",
    "plt.ylabel('Count')\n",
    "plt.show()"
   ]
  },
  {
   "cell_type": "markdown",
   "id": "993996e4",
   "metadata": {},
   "source": [
    "The histogram shows how frequently each rating value appears\n",
    "From this histogram, users prefer higher ratings."
   ]
  },
  {
   "cell_type": "markdown",
   "id": "8c859377",
   "metadata": {},
   "source": [
    "#### 2. Bar Plot of User Activity (Number of Ratings per User)"
   ]
  },
  {
   "cell_type": "code",
   "execution_count": 16,
   "id": "5dda1ed0",
   "metadata": {},
   "outputs": [
    {
     "data": {
      "image/png": "[encoded data removed]",
      "text/plain": [
       "<Figure size 1200x600 with 1 Axes>"
      ]
     },
     "metadata": {},
     "output_type": "display_data"
    }
   ],
   "source": [
    "#plot a histogram showing the distribution of rating counts per user.\n",
    "#The x-axis is in log scale to better visualize users with very high or very low activity.\n",
    "user_counts = data['userId'].value_counts()\n",
    "plt.figure(figsize=(12, 6))\n",
    "sns.histplot(user_counts, bins=50, kde=False)\n",
    "plt.title('Distribution of Ratings per User')\n",
    "plt.xlabel('Number of Ratings')\n",
    "plt.ylabel('Number of Users')\n",
    "plt.xscale('log')  # Log scale for better visualization of skewed data\n",
    "plt.show()"
   ]
  },
  {
   "cell_type": "markdown",
   "id": "5c6ad0ad",
   "metadata": {},
   "source": [
    "+ This bar plot displays the number of ratings per userId.\n",
    "+ Most users provide few ratings, while a few are highly active."
   ]
  },
  {
   "cell_type": "markdown",
   "id": "659b24ed",
   "metadata": {},
   "source": [
    "#### 4. Bar Plot of Genre Distribution (if genres available)"
   ]
  },
  {
   "cell_type": "code",
   "execution_count": 17,
   "id": "ef805903",
   "metadata": {},
   "outputs": [
    {
     "data": {
      "image/png": "[encoded data removed]",
      "text/plain": [
       "<Figure size 1200x600 with 1 Axes>"
      ]
     },
     "metadata": {},
     "output_type": "display_data"
    }
   ],
   "source": [
    "# Bar chart showing the distribution of movies by genre.\n",
    "if 'genres' in movies.columns:\n",
    "    # Split genres and count occurrences\n",
    "    genre_counts = {}\n",
    "    for genres in movies['genres']:\n",
    "        for genre in genres.split():\n",
    "            if genre:\n",
    "                genre_counts[genre] = genre_counts.get(genre, 0) + 1\n",
    "    genre_df = pd.DataFrame.from_dict(genre_counts, orient='index', columns=['count']).reset_index()\n",
    "    genre_df = genre_df.rename(columns={'index': 'genre'})\n",
    "    genre_df = genre_df.sort_values('count', ascending=False)\n",
    "    \n",
    "    plt.figure(figsize=(12, 6))\n",
    "    sns.barplot(x='count', y='genre', data=genre_df)\n",
    "    plt.title('Distribution of Movies by Genre')\n",
    "    plt.xlabel('Number of Movies')\n",
    "    plt.ylabel('Genre')\n",
    "    plt.show()\n",
    "else:\n",
    "    print(\"Genres not available for visualization.\")"
   ]
  },
  {
   "cell_type": "markdown",
   "id": "35ba6e3a",
   "metadata": {},
   "source": [
    "+ This bar plot counts movies per genre (if genres is available).\n",
    "+ Some genres (e.g., Drama, Comedy) dominate, while others (e.g., Documentary) are less common."
   ]
  },
  {
   "cell_type": "markdown",
   "id": "43980b8f",
   "metadata": {},
   "source": [
    "#### Split data."
   ]
  },
  {
   "cell_type": "code",
   "execution_count": 18,
   "id": "fc48c99b-4bca-4264-9700-75368253aec9",
   "metadata": {},
   "outputs": [
    {
     "name": "stdout",
     "output_type": "stream",
     "text": [
      "Test data size: 12176\n",
      "train_sparse shape: (610, 1000)\n",
      "User 1 in train_matrix: True\n"
     ]
    }
   ],
   "source": [
    "# Splits the dataset into training and testing sets (80/20 split),Create a user-item rating matrix from the training data and convert it to a sparse matrix for efficient computation.\n",
    "# Filters the test set to include only movies present in the training set.\n",
    "# Extracts features and labels (X_train, y_train, X_test, y_test) for model training and evaluation\n",
    "train_data, test_data = train_test_split(data, test_size=0.2, random_state=42)\n",
    "train_data = train_data[train_data['movieId'].isin(top_movies)]\n",
    "test_data = test_data[test_data['movieId'].isin(top_movies)]\n",
    "train_matrix = train_data.pivot(index='userId', columns='movieId', values='rating').fillna(0)\n",
    "train_sparse = csr_matrix(train_matrix.values)\n",
    "print(f\"Test data size: {len(test_data)}\")\n",
    "print(f\"train_sparse shape: {train_sparse.shape}\")\n",
    "print(f\"User 1 in train_matrix: {1 in train_matrix.index}\")"
   ]
  },
  {
   "cell_type": "code",
   "execution_count": 19,
   "id": "d9f8ae4d",
   "metadata": {},
   "outputs": [
    {
     "name": "stdout",
     "output_type": "stream",
     "text": [
      "Sampled test data size: 200\n",
      "Sampled testset size: 200\n"
     ]
    }
   ],
   "source": [
    "# Sample test set for evaluation\n",
    "test_data_sample = test_data.sample(n=min(200, len(test_data)), random_state=42)\n",
    "print(f\"Sampled test data size: {len(test_data_sample)}\")\n",
    "\n",
    "reader = Reader(rating_scale=(0.5, 5.0))\n",
    "surprise_data = Dataset.load_from_df(data[['userId', 'movieId', 'rating']], reader)\n",
    "trainset, testset = surprise_train_test_split(surprise_data, test_size=0.2, random_state=42)\n",
    "testset_sample = [(uid, iid, r_ui) for uid, iid, r_ui in testset if iid in top_movies][:min(200, len(testset))]\n",
    "print(f\"Sampled testset size: {len(testset_sample)}\")"
   ]
  },
  {
   "cell_type": "markdown",
   "id": "40a2233a",
   "metadata": {},
   "source": [
    "### Model Definitions"
   ]
  },
  {
   "cell_type": "markdown",
   "id": "85b29882",
   "metadata": {},
   "source": [
    "#### Content-Based Filtering."
   ]
  },
  {
   "cell_type": "code",
   "execution_count": 20,
   "id": "d8720654",
   "metadata": {},
   "outputs": [
    {
     "name": "stdout",
     "output_type": "stream",
     "text": [
      "Genre similarity matrix shape: (1000, 1000)\n"
     ]
    }
   ],
   "source": [
    "\n",
    "tfidf = TfidfVectorizer()\n",
    "genre_matrix = tfidf.fit_transform(movies['genres'])\n",
    "genre_sim = cosine_similarity(genre_matrix)\n",
    "genre_sim_df = pd.DataFrame(genre_sim, index=movies['movieId'], columns=movies['movieId'])\n",
    "print(f\"Genre similarity matrix shape: {genre_sim_df.shape}\")\n",
    "\n",
    "class ContentBasedRecommender:\n",
    "    def __init__(self, movies_df, genre_sim_df):\n",
    "        self.movies_df = movies_df\n",
    "        self.genre_sim_df = genre_sim_df\n",
    "\n",
    "    def recommend(self, user_id, user_item_matrix, train_matrix, n=5, rating_threshold=4.0):\n",
    "        if user_id not in user_item_matrix.index:\n",
    "            return []\n",
    "        user_ratings = user_item_matrix.loc[user_id]\n",
    "        liked_movies = user_ratings[user_ratings >= rating_threshold].index\n",
    "        if len(liked_movies) == 0:\n",
    "            return []\n",
    "        movie_scores = {}\n",
    "        for movie_id in train_matrix.columns:\n",
    "            if movie_id not in user_ratings[user_ratings > 0].index:\n",
    "                sim_scores = [self.genre_sim_df.loc[movie_id, liked_movie] for liked_movie in liked_movies if movie_id in self.genre_sim_df.index and liked_movie in self.genre_sim_df.index]\n",
    "                movie_scores[movie_id] = np.mean(sim_scores) if sim_scores else 0\n",
    "        top_n = [(mid, self.movies_df[self.movies_df['movieId'] == mid]['title'].iloc[0] if not self.movies_df[self.movies_df['movieId'] == mid].empty else str(mid))\n",
    "                 for mid, score in sorted(movie_scores.items(), key=lambda x: x[1], reverse=True)[:n]]\n",
    "        return top_n\n",
    "\n",
    "content_recommender = ContentBasedRecommender(movies, genre_sim_df)"
   ]
  },
  {
   "cell_type": "markdown",
   "id": "f711049b",
   "metadata": {},
   "source": [
    "### Collaborative filtering models"
   ]
  },
  {
   "cell_type": "markdown",
   "id": "d9a34e22",
   "metadata": {},
   "source": [
    "#### KNN Recommender"
   ]
  },
  {
   "cell_type": "code",
   "execution_count": 21,
   "id": "df0eefbf-864d-403a-9572-b4b73931a3f7",
   "metadata": {},
   "outputs": [],
   "source": [
    "# initialize a KNN model function with a specified number of neighbors (k), train the model on the provided dataset then redict the rating a user would give to a specific movie.\n",
    "class KNNRecommender:\n",
    "    def __init__(self, k=40, sim_options=None):\n",
    "        self.model = KNNBasic(k=k, sim_options=sim_options or {'name': 'cosine', 'user_based': True})\n",
    "        self.trainset = None\n",
    "\n",
    "    def fit(self, trainset):\n",
    "        self.trainset = trainset\n",
    "        self.model.fit(self.trainset)\n",
    "        return self\n",
    "\n",
    "    def predict(self, user_id, movie_id):\n",
    "        return self.model.predict(user_id, movie_id).est"
   ]
  },
  {
   "cell_type": "markdown",
   "id": "43b59dfa",
   "metadata": {},
   "source": [
    "#### SVD Recommender"
   ]
  },
  {
   "cell_type": "code",
   "execution_count": 22,
   "id": "424b19e5-a4de-4bba-9c4b-84a8f243f581",
   "metadata": {},
   "outputs": [],
   "source": [
    "# a function for initializing SVD model, trains it on user-movie rating data, then predict how a user would rate a specific movie.\n",
    "class SurpriseSVDRecommender:\n",
    "    def __init__(self, n_factors=100, n_epochs=20, lr_all=0.005, reg_all=0.02):\n",
    "        self.model = SVD(n_factors=n_factors, n_epochs=n_epochs, lr_all=lr_all, reg_all=reg_all, random_state=42)\n",
    "        self.trainset = None\n",
    "\n",
    "    def fit(self, trainset):\n",
    "        self.trainset = trainset\n",
    "        self.model.fit(self.trainset)\n",
    "        return self\n",
    "\n",
    "    def predict(self, user_id, movie_id):\n",
    "        return self.model.predict(user_id, movie_id).est"
   ]
  },
  {
   "cell_type": "markdown",
   "id": "ac445a05",
   "metadata": {},
   "source": [
    "#### ALS Recommender"
   ]
  },
  {
   "cell_type": "code",
   "execution_count": 23,
   "id": "b1014b41-dec0-43e3-8a0a-d30d2fd4bfd0",
   "metadata": {},
   "outputs": [],
   "source": [
    "# This function initilizes Alternating Least Squares (ALS) model with configurable parameters, trains the model on a sparse user-item rating matrix, then estimates a user's rating for a movie using latent factor dot products via the als_predict function.\n",
    "class ALSRecommender:\n",
    "    def __init__(self, factors=100, regularization=0.1, iterations=20):\n",
    "        self.model = AlternatingLeastSquares(factors=factors, regularization=regularization, iterations=iterations)\n",
    "        self.user_item_matrix = None\n",
    "\n",
    "    def fit(self, user_item_sparse):\n",
    "        self.model.fit(user_item_sparse)\n",
    "        return self\n",
    "\n",
    "    def predict(self, user_id, movie_id):\n",
    "        if movie_id not in train_matrix.columns or user_id not in train_matrix.index:\n",
    "            return 0\n",
    "        try:\n",
    "            user_idx = train_matrix.index.get_loc(user_id)\n",
    "            movie_idx = train_matrix.columns.get_loc(movie_id)\n",
    "            if movie_idx >= len(self.model.item_factors):\n",
    "                return 0\n",
    "            return np.dot(self.model.user_factors[user_idx], self.model.item_factors[movie_idx])\n",
    "        except (KeyError, IndexError):\n",
    "            return 0"
   ]
  },
  {
   "cell_type": "markdown",
   "id": "0511fc75",
   "metadata": {},
   "source": [
    "#### Hyperparameter Tuning"
   ]
  },
  {
   "cell_type": "code",
   "execution_count": 24,
   "id": "de387d3a-0cd0-4329-9fe4-10954f1c5c43",
   "metadata": {},
   "outputs": [],
   "source": [
    "def rmse_scorer(estimator, test_pairs):\n",
    "    predictions = [estimator.predict(uid, iid) for uid, iid, _ in test_pairs]\n",
    "    actuals = [r_ui for _, _, r_ui in test_pairs]\n",
    "    valid = [p > 0 for p in predictions]\n",
    "    if sum(valid) == 0:\n",
    "        return np.inf\n",
    "    return sqrt(mean_squared_error([a for a, v in zip(actuals, valid) if v], [p for p, v in zip(predictions, valid) if v]))"
   ]
  },
  {
   "cell_type": "code",
   "execution_count": 25,
   "id": "c6973a8d",
   "metadata": {},
   "outputs": [
    {
     "name": "stderr",
     "output_type": "stream",
     "text": [
      "KNN Tuning:   0%|          | 0/4 [00:00<?, ?it/s]"
     ]
    },
    {
     "name": "stdout",
     "output_type": "stream",
     "text": [
      "Computing the cosine similarity matrix...\n"
     ]
    },
    {
     "name": "stderr",
     "output_type": "stream",
     "text": [
      "KNN Tuning:  25%|██▌       | 1/4 [00:00<00:00,  3.34it/s]"
     ]
    },
    {
     "name": "stdout",
     "output_type": "stream",
     "text": [
      "Done computing similarity matrix.\n",
      "KNN (k=20, sim=cosine) RMSE: 0.8154\n",
      "Computing the pearson similarity matrix...\n"
     ]
    },
    {
     "name": "stderr",
     "output_type": "stream",
     "text": [
      "KNN Tuning:  50%|█████     | 2/4 [00:00<00:00,  3.13it/s]"
     ]
    },
    {
     "name": "stdout",
     "output_type": "stream",
     "text": [
      "Done computing similarity matrix.\n",
      "KNN (k=20, sim=pearson) RMSE: 0.8426\n",
      "Computing the cosine similarity matrix...\n"
     ]
    },
    {
     "name": "stderr",
     "output_type": "stream",
     "text": [
      "KNN Tuning:  75%|███████▌  | 3/4 [00:00<00:00,  3.38it/s]"
     ]
    },
    {
     "name": "stdout",
     "output_type": "stream",
     "text": [
      "Done computing similarity matrix.\n",
      "KNN (k=40, sim=cosine) RMSE: 0.8239\n",
      "Computing the pearson similarity matrix...\n"
     ]
    },
    {
     "name": "stderr",
     "output_type": "stream",
     "text": [
      "KNN Tuning: 100%|██████████| 4/4 [00:01<00:00,  3.30it/s]"
     ]
    },
    {
     "name": "stdout",
     "output_type": "stream",
     "text": [
      "Done computing similarity matrix.\n",
      "KNN (k=40, sim=pearson) RMSE: 0.8325\n",
      "Best KNN Params: {'k': 20, 'sim_options': {'name': 'cosine', 'user_based': True}}, RMSE: 0.8154\n"
     ]
    },
    {
     "name": "stderr",
     "output_type": "stream",
     "text": [
      "\n"
     ]
    }
   ],
   "source": [
    "# KNN Tuning\n",
    "knn_param_grid = {\n",
    "    'k': [20, 40],\n",
    "    'sim_options': [{'name': 'cosine', 'user_based': True}, {'name': 'pearson', 'user_based': True}]\n",
    "}\n",
    "knn_results = []\n",
    "best_knn_rmse = float('inf')\n",
    "best_knn_params = None\n",
    "best_knn_model = None\n",
    "testset_tune = testset_sample[:min(100, len(testset_sample))]\n",
    "for k, sim_options in tqdm(list(product(knn_param_grid['k'], knn_param_grid['sim_options'])), desc=\"KNN Tuning\"):\n",
    "    knn = KNNRecommender(k=k, sim_options=sim_options)\n",
    "    knn.fit(trainset)\n",
    "    rmse = rmse_scorer(knn, testset_tune)\n",
    "    knn_results.append({'k': k, 'sim': sim_options['name'], 'rmse': rmse})\n",
    "    print(f\"KNN (k={k}, sim={sim_options['name']}) RMSE: {rmse:.4f}\")\n",
    "    if rmse < best_knn_rmse:\n",
    "        best_knn_rmse = rmse\n",
    "        best_knn_params = {'k': k, 'sim_options': sim_options}\n",
    "        best_knn_model = knn\n",
    "print(f\"Best KNN Params: {best_knn_params}, RMSE: {best_knn_rmse:.4f}\")"
   ]
  },
  {
   "cell_type": "code",
   "execution_count": 26,
   "id": "f74ab23f",
   "metadata": {},
   "outputs": [
    {
     "name": "stderr",
     "output_type": "stream",
     "text": [
      "SVD Tuning:  25%|██▌       | 1/4 [00:00<00:01,  2.51it/s]"
     ]
    },
    {
     "name": "stdout",
     "output_type": "stream",
     "text": [
      "SVD (n_factors=50, n_epochs=10, lr_all=0.005, reg_all=0.02) RMSE: 0.7588\n"
     ]
    },
    {
     "name": "stderr",
     "output_type": "stream",
     "text": [
      "SVD Tuning:  50%|█████     | 2/4 [00:00<00:01,  1.93it/s]"
     ]
    },
    {
     "name": "stdout",
     "output_type": "stream",
     "text": [
      "SVD (n_factors=50, n_epochs=20, lr_all=0.005, reg_all=0.02) RMSE: 0.7593\n"
     ]
    },
    {
     "name": "stderr",
     "output_type": "stream",
     "text": [
      "SVD Tuning:  75%|███████▌  | 3/4 [00:01<00:00,  2.03it/s]"
     ]
    },
    {
     "name": "stdout",
     "output_type": "stream",
     "text": [
      "SVD (n_factors=100, n_epochs=10, lr_all=0.005, reg_all=0.02) RMSE: 0.7706\n"
     ]
    },
    {
     "name": "stderr",
     "output_type": "stream",
     "text": [
      "SVD Tuning: 100%|██████████| 4/4 [00:02<00:00,  1.69it/s]"
     ]
    },
    {
     "name": "stdout",
     "output_type": "stream",
     "text": [
      "SVD (n_factors=100, n_epochs=20, lr_all=0.005, reg_all=0.02) RMSE: 0.7615\n",
      "Best SVD Params: {'n_factors': 50, 'n_epochs': 10, 'lr_all': 0.005, 'reg_all': 0.02}, RMSE: 0.7588\n"
     ]
    },
    {
     "name": "stderr",
     "output_type": "stream",
     "text": [
      "\n"
     ]
    }
   ],
   "source": [
    "# SVD Tuning\n",
    "svd_param_grid = {\n",
    "    'n_factors': [50, 100],\n",
    "    'n_epochs': [10, 20],\n",
    "    'lr_all': [0.005],\n",
    "    'reg_all': [0.02]\n",
    "}\n",
    "svd_results = []\n",
    "best_svd_rmse = float('inf')\n",
    "best_svd_params = None\n",
    "best_svd_model = None\n",
    "for n_factors, n_epochs, lr_all, reg_all in tqdm(list(product(\n",
    "    svd_param_grid['n_factors'],\n",
    "    svd_param_grid['n_epochs'],\n",
    "    svd_param_grid['lr_all'],\n",
    "    svd_param_grid['reg_all']\n",
    ")), desc=\"SVD Tuning\"):\n",
    "    svd = SurpriseSVDRecommender(n_factors=n_factors, n_epochs=n_epochs, lr_all=lr_all, reg_all=reg_all)\n",
    "    svd.fit(trainset)\n",
    "    rmse = rmse_scorer(svd, testset_tune)\n",
    "    svd_results.append({'n_factors': n_factors, 'n_epochs': n_epochs, 'lr_all': lr_all, 'reg_all': reg_all, 'rmse': rmse})\n",
    "    print(f\"SVD (n_factors={n_factors}, n_epochs={n_epochs}, lr_all={lr_all}, reg_all={reg_all}) RMSE: {rmse:.4f}\")\n",
    "    if rmse < best_svd_rmse:\n",
    "        best_svd_rmse = rmse\n",
    "        best_svd_params = {'n_factors': n_factors, 'n_epochs': n_epochs, 'lr_all': lr_all, 'reg_all': reg_all}\n",
    "        best_svd_model = svd\n",
    "print(f\"Best SVD Params: {best_svd_params}, RMSE: {best_svd_rmse:.4f}\")\n"
   ]
  },
  {
   "cell_type": "code",
   "execution_count": 27,
   "id": "c8a68eab",
   "metadata": {},
   "outputs": [
    {
     "name": "stderr",
     "output_type": "stream",
     "text": [
      "ALS Tuning:   0%|          | 0/2 [00:00<?, ?it/s]c:\\Users\\Joackim.Kisienya\\AppData\\Local\\anaconda3\\envs\\learn-env-py310\\lib\\site-packages\\implicit\\cpu\\als.py:95: RuntimeWarning: OpenBLAS is configured to use 12 threads. It is highly recommended to disable its internal threadpool by setting the environment variable 'OPENBLAS_NUM_THREADS=1' or by calling 'threadpoolctl.threadpool_limits(1, \"blas\")'. Having OpenBLAS use a threadpool can lead to severe performance issues here.\n",
      "  check_blas_config()\n"
     ]
    },
    {
     "data": {
      "application/vnd.jupyter.widget-view+json": {
       "model_id": "bbc335ec9f0e48b89a209ee137992d20",
       "version_major": 2,
       "version_minor": 0
      },
      "text/plain": [
       "  0%|          | 0/10 [00:00<?, ?it/s]"
      ]
     },
     "metadata": {},
     "output_type": "display_data"
    },
    {
     "name": "stderr",
     "output_type": "stream",
     "text": [
      "ALS Tuning:  50%|█████     | 1/2 [00:00<00:00,  2.87it/s]"
     ]
    },
    {
     "name": "stdout",
     "output_type": "stream",
     "text": [
      "ALS (factors=50, reg=0.1, iters=10) RMSE: 3.4612\n"
     ]
    },
    {
     "data": {
      "application/vnd.jupyter.widget-view+json": {
       "model_id": "23f3bedced7e4811aa6b04a025db8b43",
       "version_major": 2,
       "version_minor": 0
      },
      "text/plain": [
       "  0%|          | 0/10 [00:00<?, ?it/s]"
      ]
     },
     "metadata": {},
     "output_type": "display_data"
    },
    {
     "name": "stderr",
     "output_type": "stream",
     "text": [
      "ALS Tuning: 100%|██████████| 2/2 [00:00<00:00,  4.08it/s]"
     ]
    },
    {
     "name": "stdout",
     "output_type": "stream",
     "text": [
      "ALS (factors=100, reg=0.1, iters=10) RMSE: 3.6410\n",
      "Best ALS Params: {'factors': 50, 'regularization': 0.1, 'iterations': 10}, RMSE: 3.4612\n"
     ]
    },
    {
     "name": "stderr",
     "output_type": "stream",
     "text": [
      "\n"
     ]
    }
   ],
   "source": [
    "# ALS Tuning\n",
    "als_param_grid = {'factors': [50, 100], 'regularization': [0.1], 'iterations': [10]}\n",
    "als_results = []\n",
    "best_als_rmse = float('inf')\n",
    "best_als_params = None\n",
    "best_als_model = None\n",
    "test_data_tune = test_data_sample.sample(n=min(100, len(test_data_sample)), random_state=42)\n",
    "for factors, reg, iters in tqdm(list(product(als_param_grid['factors'], als_param_grid['regularization'], als_param_grid['iterations'])), desc=\"ALS Tuning\"):\n",
    "    als = ALSRecommender(factors=factors, regularization=reg, iterations=iters)\n",
    "    als.fit(train_sparse)\n",
    "    predictions = []\n",
    "    actuals = []\n",
    "    for _, row in test_data_tune.iterrows():\n",
    "        pred = als.predict(row['userId'], row['movieId'])\n",
    "        if pred > 0:\n",
    "            predictions.append(pred)\n",
    "            actuals.append(row['rating'])\n",
    "    if predictions:\n",
    "        rmse = sqrt(mean_squared_error(actuals, predictions))\n",
    "        als_results.append({'factors': factors, 'regularization': reg, 'iterations': iters, 'rmse': rmse})\n",
    "        print(f\"ALS (factors={factors}, reg={reg}, iters={iters}) RMSE: {rmse:.4f}\")\n",
    "        if rmse < best_als_rmse:\n",
    "            best_als_rmse = rmse\n",
    "            best_als_params = {'factors': factors, 'regularization': reg, 'iterations': iters}\n",
    "            best_als_model = als\n",
    "print(f\"Best ALS Params: {best_als_params}, RMSE: {best_als_rmse:.4f}\")\n"
   ]
  },
  {
   "cell_type": "markdown",
   "id": "e8e917fd",
   "metadata": {},
   "source": [
    "#### Evaluation"
   ]
  },
  {
   "cell_type": "code",
   "execution_count": 28,
   "id": "aec02759",
   "metadata": {},
   "outputs": [],
   "source": [
    "def precision_recall_at_k(predictions, k=5, threshold=4.0):\n",
    "    user_est_true = defaultdict(list)\n",
    "    for uid, mid, true_r, est in predictions:\n",
    "        user_est_true[uid].append((est, true_r))\n",
    "    precisions = []\n",
    "    recalls = []\n",
    "    for uid, user_ratings in user_est_true.items():\n",
    "        user_ratings.sort(key=lambda x: x[0], reverse=True)\n",
    "        n_rel = sum((true_r >= threshold) for _, true_r in user_ratings)\n",
    "        n_rec_k = sum((est >= threshold) for est, _ in user_ratings[:k])\n",
    "        n_rel_and_rec_k = sum((true_r >= threshold) for _, true_r in user_ratings[:k])\n",
    "        precisions.append(n_rel_and_rec_k / n_rec_k if n_rec_k != 0 else 0)\n",
    "        recalls.append(n_rel_and_rec_k / n_rel if n_rel != 0 else 0)\n",
    "    return np.mean(precisions), np.mean(recalls)"
   ]
  },
  {
   "cell_type": "code",
   "execution_count": 29,
   "id": "e5e0af8f",
   "metadata": {},
   "outputs": [],
   "source": [
    "def compute_rmse(predictions):\n",
    "    actuals = [r_ui for _, _, r_ui, _ in predictions]\n",
    "    preds = [est for _, _, _, est in predictions]\n",
    "    valid = [p > 0 for p in preds]\n",
    "    if sum(valid) == 0:\n",
    "        return np.inf\n",
    "    return sqrt(mean_squared_error([a for a, v in zip(actuals, valid) if v], [p for p, v in zip(preds, valid) if v]))\n",
    "\n",
    "def knn_predict_batch(test_pairs, model):\n",
    "    return [(uid, iid, r_ui, model.predict(uid, iid)) for uid, iid, r_ui in test_pairs]\n",
    "\n",
    "def svd_predict_batch(test_pairs, model):\n",
    "    return [(uid, iid, r_ui, model.predict(uid, iid)) for uid, iid, r_ui in test_pairs]\n",
    "\n",
    "def als_predict_batch(test_rows, model):\n",
    "    predictions = []\n",
    "    for _, row in test_rows.iterrows():\n",
    "        user_id, movie_id, rating = row['userId'], row['movieId'], row['rating']\n",
    "        if movie_id in train_matrix.columns and user_id in train_matrix.index:\n",
    "            try:\n",
    "                user_idx = train_matrix.index.get_loc(user_id)\n",
    "                movie_idx = train_matrix.columns.get_loc(movie_id)\n",
    "                if movie_idx < len(model.model.item_factors):\n",
    "                    pred = np.dot(model.model.user_factors[user_idx], model.model.item_factors[movie_idx])\n",
    "                else:\n",
    "                    pred = 0\n",
    "            except (KeyError, IndexError):\n",
    "                pred = 0\n",
    "        else:\n",
    "            pred = 0\n",
    "        predictions.append((user_id, movie_id, rating, pred))\n",
    "    return predictions"
   ]
  },
  {
   "cell_type": "markdown",
   "id": "12cd09bc",
   "metadata": {},
   "source": [
    "#### Parallelized content-based recommendation"
   ]
  },
  {
   "cell_type": "code",
   "execution_count": 30,
   "id": "01be35bd",
   "metadata": {},
   "outputs": [
    {
     "name": "stderr",
     "output_type": "stream",
     "text": [
      "Caching content-based recs: 100%|██████████| 154/154 [00:30<00:00,  5.02it/s]\n"
     ]
    },
    {
     "name": "stdout",
     "output_type": "stream",
     "text": [
      "Content-Based caching time: 38.29 seconds\n"
     ]
    }
   ],
   "source": [
    "def content_recommend_parallel(user_id, recommender, user_item_matrix, train_matrix, n=5):\n",
    "    return user_id, recommender.recommend(user_id, user_item_matrix, train_matrix, n=n)\n",
    "\n",
    "# Cache content-based recommendations\n",
    "start_time = time.time()\n",
    "test_users = test_data_sample['userId'].unique()\n",
    "content_recs_cache = dict(Parallel(n_jobs=-1)(\n",
    "    delayed(content_recommend_parallel)(user_id, content_recommender, user_item_matrix, train_matrix, n=5)\n",
    "    for user_id in tqdm(test_users, desc=\"Caching content-based recs\")\n",
    "))\n",
    "print(f\"Content-Based caching time: {time.time() - start_time:.2f} seconds\")\n",
    "\n",
    "def content_based_precision_recall_cached(cache, test_data, k=5, threshold=4.0):\n",
    "    user_est_true = defaultdict(list)\n",
    "    for user_id in tqdm(test_data['userId'].unique(), desc=\"Content-Based Evaluation\"):\n",
    "        top_n = cache.get(user_id, [])\n",
    "        recommended_movies = set(mid for mid, _ in top_n)\n",
    "        true_ratings = test_data[(test_data['userId'] == user_id) & (test_data['rating'] >= threshold)][['movieId', 'rating']]\n",
    "        true_relevant = set(true_ratings['movieId'])\n",
    "        if not recommended_movies or not true_relevant:\n",
    "            continue\n",
    "        n_rel_and_rec_k = len(recommended_movies & true_relevant)\n",
    "        precisions = n_rel_and_rec_k / len(recommended_movies) if recommended_movies else 0\n",
    "        recalls = n_rel_and_rec_k / len(true_relevant) if true_relevant else 0\n",
    "        user_est_true[user_id].append((precisions, recalls))\n",
    "    precisions = [np.mean([p for p, _ in user_ratings]) for user_ratings in user_est_true.values() if user_ratings]\n",
    "    recalls = [np.mean([r for _, r in user_ratings]) for user_ratings in user_est_true.values() if user_ratings]\n",
    "    return np.mean(precisions) if precisions else 0, np.mean(recalls) if recalls else 0\n"
   ]
  },
  {
   "cell_type": "code",
   "execution_count": 31,
   "id": "50712425",
   "metadata": {},
   "outputs": [
    {
     "name": "stderr",
     "output_type": "stream",
     "text": [
      "KNN Predictions: 100%|██████████| 4/4 [00:00<00:00, 994.91it/s]\n"
     ]
    },
    {
     "name": "stdout",
     "output_type": "stream",
     "text": [
      "KNN Precision@5: 0.4056, Recall@5: 0.6733, RMSE: 0.8643\n",
      "KNN evaluation time: 0.97 seconds\n"
     ]
    },
    {
     "name": "stderr",
     "output_type": "stream",
     "text": [
      "SVD Predictions: 100%|██████████| 4/4 [00:00<?, ?it/s]\n"
     ]
    },
    {
     "name": "stdout",
     "output_type": "stream",
     "text": [
      "SVD Precision@5: 0.3367, Recall@5: 0.6733, RMSE: 0.8114\n",
      "SVD evaluation time: 0.86 seconds\n"
     ]
    },
    {
     "name": "stderr",
     "output_type": "stream",
     "text": [
      "ALS Predictions: 100%|██████████| 4/4 [00:00<00:00, 252.30it/s]\n"
     ]
    },
    {
     "name": "stdout",
     "output_type": "stream",
     "text": [
      "ALS Precision@5: 0.0000, Recall@5: 0.6623, RMSE: 3.4702\n",
      "ALS evaluation time: 1.47 seconds\n"
     ]
    },
    {
     "name": "stderr",
     "output_type": "stream",
     "text": [
      "Content-Based Evaluation: 100%|██████████| 154/154 [00:00<00:00, 643.25it/s]"
     ]
    },
    {
     "name": "stdout",
     "output_type": "stream",
     "text": [
      "Content-Based Precision@5: 0.0000, Recall@5: 0.0000, RMSE: N/A\n",
      "Content-Based evaluation time: 0.24 seconds\n"
     ]
    },
    {
     "name": "stderr",
     "output_type": "stream",
     "text": [
      "\n"
     ]
    }
   ],
   "source": [
    "# Evaluate models\n",
    "n_jobs = -1\n",
    "testset_chunks = [testset_sample[i::4] for i in range(4)]\n",
    "\n",
    "start_time = time.time()\n",
    "knn_pred_tuples = Parallel(n_jobs=n_jobs)(delayed(knn_predict_batch)(chunk, best_knn_model) for chunk in tqdm(testset_chunks, desc=\"KNN Predictions\"))\n",
    "knn_pred_tuples = [item for sublist in knn_pred_tuples for item in sublist]\n",
    "knn_precision, knn_recall = precision_recall_at_k(knn_pred_tuples, k=5)\n",
    "knn_rmse = compute_rmse(knn_pred_tuples)\n",
    "print(f\"KNN Precision@5: {knn_precision:.4f}, Recall@5: {knn_recall:.4f}, RMSE: {knn_rmse:.4f}\")\n",
    "print(f\"KNN evaluation time: {time.time() - start_time:.2f} seconds\")\n",
    "\n",
    "start_time = time.time()\n",
    "svd_pred_tuples = Parallel(n_jobs=n_jobs)(delayed(svd_predict_batch)(chunk, best_svd_model) for chunk in tqdm(testset_chunks, desc=\"SVD Predictions\"))\n",
    "svd_pred_tuples = [item for sublist in svd_pred_tuples for item in sublist]\n",
    "svd_precision, svd_recall = precision_recall_at_k(svd_pred_tuples, k=5)\n",
    "svd_rmse = compute_rmse(svd_pred_tuples)\n",
    "print(f\"SVD Precision@5: {svd_precision:.4f}, Recall@5: {svd_recall:.4f}, RMSE: {svd_rmse:.4f}\")\n",
    "print(f\"SVD evaluation time: {time.time() - start_time:.2f} seconds\")\n",
    "\n",
    "start_time = time.time()\n",
    "test_data_chunks = [test_data_sample.iloc[i::4] for i in range(4)]\n",
    "als_pred_tuples = Parallel(n_jobs=n_jobs)(delayed(als_predict_batch)(chunk, best_als_model) for chunk in tqdm(test_data_chunks, desc=\"ALS Predictions\"))\n",
    "als_pred_tuples = [item for sublist in als_pred_tuples for item in sublist]\n",
    "als_precision, als_recall = precision_recall_at_k(als_pred_tuples, k=5)\n",
    "als_rmse = compute_rmse(als_pred_tuples)\n",
    "print(f\"ALS Precision@5: {als_precision:.4f}, Recall@5: {als_recall:.4f}, RMSE: {als_rmse:.4f}\")\n",
    "print(f\"ALS evaluation time: {time.time() - start_time:.2f} seconds\")\n",
    "\n",
    "start_time = time.time()\n",
    "content_precision, content_recall = content_based_precision_recall_cached(content_recs_cache, test_data_sample, k=5)\n",
    "content_rmse = np.nan  # Content-Based doesn't predict ratings\n",
    "print(f\"Content-Based Precision@5: {content_precision:.4f}, Recall@5: {content_recall:.4f}, RMSE: N/A\")\n",
    "print(f\"Content-Based evaluation time: {time.time() - start_time:.2f} seconds\")"
   ]
  },
  {
   "cell_type": "markdown",
   "id": "4a906a8b",
   "metadata": {},
   "source": [
    "### Top 5 Recommendations"
   ]
  },
  {
   "cell_type": "code",
   "execution_count": 32,
   "id": "f3c82137-56ec-4d84-9d80-5a388094a235",
   "metadata": {},
   "outputs": [],
   "source": [
    "# function to recommend movies to a user using a trained model (KNN, SVD, or ALS):\n",
    "#For KNN/SVD, it predicts ratings for movies the user hasn't rated and returns the top-N highest-rated ones.\n",
    "#For ALS, it uses the model's internal recommendation method to get top-N movie suggestions.\n",
    "def recommend_movies(model, user_id, user_item_matrix, train_matrix, model_type='svd', n=5, movies_df=None):\n",
    "    if model_type == 'knn' or model_type == 'svd':\n",
    "        movie_scores = {}\n",
    "        for movie_id in train_matrix.columns:\n",
    "            if movie_id not in user_item_matrix.loc[user_id][user_item_matrix.loc[user_id] > 0].index:\n",
    "                movie_scores[movie_id] = model.predict(user_id, movie_id)\n",
    "        top_n = [(mid, movies_df[movies_df['movieId'] == mid]['title'].iloc[0] if not movies_df[movies_df['movieId'] == mid].empty else str(mid))\n",
    "                 for mid, score in sorted(movie_scores.items(), key=lambda x: x[1], reverse=True)[:n]]\n",
    "        return top_n\n",
    "    elif model_type == 'als':\n",
    "        try:\n",
    "            if user_id not in train_matrix.index:\n",
    "                return []\n",
    "            user_idx = train_matrix.index.get_loc(user_id)\n",
    "            scores = model.model.recommend(user_idx, train_sparse, N=n)\n",
    "            top_n = [(train_matrix.columns[mid], movies_df[movies_df['movieId'] == train_matrix.columns[mid]]['title'].iloc[0]\n",
    "                      if not movies_df[movies_df['movieId'] == train_matrix.columns[mid]].empty else str(train_matrix.columns[mid]))\n",
    "                     for mid, _ in scores]\n",
    "            return top_n\n",
    "        except (KeyError, ValueError):\n",
    "            return []\n",
    "    elif model_type == 'content':\n",
    "        return model.recommend(user_id, user_item_matrix, train_matrix, n=n)\n",
    "    return []"
   ]
  },
  {
   "cell_type": "markdown",
   "id": "3cb54772",
   "metadata": {},
   "source": [
    "#### Top-5 recommendations for userId=1"
   ]
  },
  {
   "cell_type": "code",
   "execution_count": 33,
   "id": "0c789a0c",
   "metadata": {},
   "outputs": [
    {
     "name": "stdout",
     "output_type": "stream",
     "text": [
      "\n",
      "Top-5 KNN Recommendations for userId=1:\n",
      "1. Shawshank Redemption, The (1994) (movieId=318)\n",
      "2. Interstellar (2014) (movieId=109487)\n",
      "3. Godfather, The (1972) (movieId=858)\n",
      "4. Life Is Beautiful (La Vita è bella) (1997) (movieId=2324)\n",
      "5. Dark Knight, The (2008) (movieId=58559)\n",
      "\n",
      "Top-5 SVD Recommendations for userId=1:\n",
      "1. Shawshank Redemption, The (1994) (movieId=318)\n",
      "2. Life Is Beautiful (La Vita è bella) (1997) (movieId=2324)\n",
      "3. Dark Knight, The (2008) (movieId=58559)\n",
      "4. Cinema Paradiso (Nuovo cinema Paradiso) (1989) (movieId=1172)\n",
      "5. Lawrence of Arabia (1962) (movieId=1204)\n",
      "\n",
      "Top-5 ALS Recommendations for userId=1:\n",
      "\n",
      "Top-5 Content-Based Recommendations for userId=1:\n",
      "1. Charlie's Angels: Full Throttle (2003) (movieId=6503)\n",
      "2. Hancock (2008) (movieId=60074)\n",
      "3. Mummy Returns, The (2001) (movieId=4270)\n",
      "4. Bad Boys (1995) (movieId=145)\n",
      "5. Rumble in the Bronx (Hont faan kui) (1995) (movieId=112)\n"
     ]
    }
   ],
   "source": [
    "print(\"\\nTop-5 KNN Recommendations for userId=1:\")\n",
    "knn_recs = recommend_movies(best_knn_model, 1, user_item_matrix, train_matrix, 'knn', n=5, movies_df=movies)\n",
    "for i, (mid, title) in enumerate(knn_recs, 1):\n",
    "    print(f\"{i}. {title} (movieId={mid})\")\n",
    "\n",
    "print(\"\\nTop-5 SVD Recommendations for userId=1:\")\n",
    "svd_recs = recommend_movies(best_svd_model, 1, user_item_matrix, train_matrix, 'svd', n=5, movies_df=movies)\n",
    "for i, (mid, title) in enumerate(svd_recs, 1):\n",
    "    print(f\"{i}. {title} (movieId={mid})\")\n",
    "\n",
    "print(\"\\nTop-5 ALS Recommendations for userId=1:\")\n",
    "als_recs = recommend_movies(best_als_model, 1, user_item_matrix, train_matrix, 'als', n=5, movies_df=movies)\n",
    "for i, (mid, title) in enumerate(als_recs, 1):\n",
    "    print(f\"{i}. {title} (movieId={mid})\")\n",
    "\n",
    "print(\"\\nTop-5 Content-Based Recommendations for userId=1:\")\n",
    "content_recs = recommend_movies(content_recommender, 1, user_item_matrix, train_matrix, 'content', n=5, movies_df=movies)\n",
    "for i, (mid, title) in enumerate(content_recs, 1):\n",
    "    print(f\"{i}. {title} (movieId={mid})\")"
   ]
  },
  {
   "cell_type": "markdown",
   "id": "3608edfc",
   "metadata": {},
   "source": [
    "#### Visualizations"
   ]
  },
  {
   "cell_type": "code",
   "execution_count": 38,
   "id": "e23b9d30",
   "metadata": {},
   "outputs": [
    {
     "data": {
      "application/vnd.microsoft.datawrangler.viewer.v0+json": {
       "columns": [
        {
         "name": "index",
         "rawType": "int64",
         "type": "integer"
        },
        {
         "name": "Model",
         "rawType": "object",
         "type": "string"
        },
        {
         "name": "Precision@5",
         "rawType": "float64",
         "type": "float"
        },
        {
         "name": "Recall@5",
         "rawType": "float64",
         "type": "float"
        },
        {
         "name": "RMSE",
         "rawType": "float64",
         "type": "float"
        }
       ],
       "ref": "1930c234-19c8-4e19-8629-89b0b20aa849",
       "rows": [
        [
         "0",
         "KNN",
         "0.4055555555555555",
         "0.6733333333333333",
         "0.8643401263610264"
        ],
        [
         "1",
         "SVD",
         "0.33666666666666667",
         "0.6733333333333333",
         "0.8113824317330903"
        ],
        [
         "2",
         "ALS",
         "0.0",
         "0.6623376623376623",
         "3.4702315685174003"
        ],
        [
         "3",
         "Content-Based",
         "0.0",
         "0.0",
         null
        ]
       ],
       "shape": {
        "columns": 4,
        "rows": 4
       }
      },
      "text/html": [
       "<div>\n",
       "<style scoped>\n",
       "    .dataframe tbody tr th:only-of-type {\n",
       "        vertical-align: middle;\n",
       "    }\n",
       "\n",
       "    .dataframe tbody tr th {\n",
       "        vertical-align: top;\n",
       "    }\n",
       "\n",
       "    .dataframe thead th {\n",
       "        text-align: right;\n",
       "    }\n",
       "</style>\n",
       "<table border=\"1\" class=\"dataframe\">\n",
       "  <thead>\n",
       "    <tr style=\"text-align: right;\">\n",
       "      <th></th>\n",
       "      <th>Model</th>\n",
       "      <th>Precision@5</th>\n",
       "      <th>Recall@5</th>\n",
       "      <th>RMSE</th>\n",
       "    </tr>\n",
       "  </thead>\n",
       "  <tbody>\n",
       "    <tr>\n",
       "      <th>0</th>\n",
       "      <td>KNN</td>\n",
       "      <td>0.405556</td>\n",
       "      <td>0.673333</td>\n",
       "      <td>0.864340</td>\n",
       "    </tr>\n",
       "    <tr>\n",
       "      <th>1</th>\n",
       "      <td>SVD</td>\n",
       "      <td>0.336667</td>\n",
       "      <td>0.673333</td>\n",
       "      <td>0.811382</td>\n",
       "    </tr>\n",
       "    <tr>\n",
       "      <th>2</th>\n",
       "      <td>ALS</td>\n",
       "      <td>0.000000</td>\n",
       "      <td>0.662338</td>\n",
       "      <td>3.470232</td>\n",
       "    </tr>\n",
       "    <tr>\n",
       "      <th>3</th>\n",
       "      <td>Content-Based</td>\n",
       "      <td>0.000000</td>\n",
       "      <td>0.000000</td>\n",
       "      <td>NaN</td>\n",
       "    </tr>\n",
       "  </tbody>\n",
       "</table>\n",
       "</div>"
      ],
      "text/plain": [
       "           Model  Precision@5  Recall@5      RMSE\n",
       "0            KNN     0.405556  0.673333  0.864340\n",
       "1            SVD     0.336667  0.673333  0.811382\n",
       "2            ALS     0.000000  0.662338  3.470232\n",
       "3  Content-Based     0.000000  0.000000       NaN"
      ]
     },
     "execution_count": 38,
     "metadata": {},
     "output_type": "execute_result"
    }
   ],
   "source": [
    "metrics = {\n",
    "    'Model': ['KNN', 'SVD', 'ALS', 'Content-Based'],\n",
    "    'Precision@5': [knn_precision, svd_precision, als_precision, content_precision],\n",
    "    'Recall@5': [knn_recall, svd_recall, als_recall, content_recall],\n",
    "    'RMSE': [knn_rmse, svd_rmse, als_rmse, content_rmse]\n",
    "}\n",
    "metrics_df = pd.DataFrame(metrics)\n",
    "metrics_df"
   ]
  },
  {
   "cell_type": "code",
   "execution_count": 35,
   "id": "2760a5f0-0a67-4008-ba0a-6a1263b4bc58",
   "metadata": {},
   "outputs": [
    {
     "data": {
      "image/png": "[encoded data removed]",
      "text/plain": [
       "<Figure size 1000x600 with 1 Axes>"
      ]
     },
     "metadata": {},
     "output_type": "display_data"
    }
   ],
   "source": [
    "#bar chart comparing RMSE values for the KNN, SVD, and ALS models to visually assess which model has the lowest prediction error.\n",
    "plt.figure(figsize=(10, 6))\n",
    "sns.barplot(x='Model', y='RMSE', data=metrics_df)\n",
    "plt.title('Model Comparison: RMSE')\n",
    "plt.ylabel('RMSE')\n",
    "plt.ylim(0, max([knn_rmse, svd_rmse, als_rmse, 2]) if not np.isnan(max([knn_rmse, svd_rmse, als_rmse])) else 2)\n",
    "plt.show()"
   ]
  },
  {
   "cell_type": "markdown",
   "id": "9e29dbaa",
   "metadata": {},
   "source": [
    "#### Precision comparison per model"
   ]
  },
  {
   "cell_type": "code",
   "execution_count": 36,
   "id": "465f3c07-9340-4837-b996-aa6e41d755f0",
   "metadata": {},
   "outputs": [
    {
     "data": {
      "image/png": "[encoded data removed]",
      "text/plain": [
       "<Figure size 1000x600 with 1 Axes>"
      ]
     },
     "metadata": {},
     "output_type": "display_data"
    }
   ],
   "source": [
    "# bar chart comparing Precision@5 for the KNN, SVD, and ALS models to evaluate how well each model recommends relevant items.\n",
    "plt.figure(figsize=(10, 6))\n",
    "sns.barplot(x='Model', y='Precision@5', data=metrics_df)\n",
    "plt.title('Model Comparison: Precision@5')\n",
    "plt.ylabel('Precision@5')\n",
    "plt.show()"
   ]
  },
  {
   "cell_type": "markdown",
   "id": "5e6f094a",
   "metadata": {},
   "source": [
    "#### Recall comparison per model."
   ]
  },
  {
   "cell_type": "code",
   "execution_count": 37,
   "id": "0bfe9e22-2a04-4297-814e-4603f3c5ce1f",
   "metadata": {},
   "outputs": [
    {
     "data": {
      "image/png": "[encoded data removed]",
      "text/plain": [
       "<Figure size 1000x600 with 1 Axes>"
      ]
     },
     "metadata": {},
     "output_type": "display_data"
    }
   ],
   "source": [
    "#bar chart comparing Recall@5 for the KNN, SVD, and ALS models to show how well each model retrieves relevant items\n",
    "plt.figure(figsize=(10, 6))\n",
    "sns.barplot(x='Model', y='Recall@5', data=metrics_df)\n",
    "plt.title('Model Comparison: Recall@5')\n",
    "plt.ylabel('Recall@5')\n",
    "plt.show()"
   ]
  },
  {
   "cell_type": "markdown",
   "id": "881fdb04-1014-4653-b280-9868e75fc408",
   "metadata": {},
   "source": [
    "## Findings and Conclusion"
   ]
  },
  {
   "cell_type": "markdown",
   "id": "8e577b2e",
   "metadata": {},
   "source": [
    "+ **SVD Outperforms:** SVD is expected to achieve the lowest RMSE (0.81), indicating the best rating prediction accuracy and high Recall, suggesting it recommends the most relevant movies. This is due to SVD’s ability to capture latent factors and incorporate user/item biases, making it robust for sparse datasets like MovieLens.\n",
    "+ **KNN and ALS:** KNN and ALS perform similarly, with higher RMSE and lower Recall compared to SVD. \n",
    "+ **Content-based filtering** For users not in train_matrix (e.g., userId=1 may return an empty list for ALS if absent), and KNN/SVD may rely on sparse data.\n",
    "+ **Sparsity:** The dataset’s sparsity (typical in MovieLens) may limit KNN’s effectiveness, as it relies on finding similar users with overlapping ratings."
   ]
  },
  {
   "cell_type": "markdown",
   "id": "327f25c4-790f-49ed-b1d2-4ffb1f93a8b4",
   "metadata": {},
   "source": [
    "## Recommendations"
   ]
  },
  {
   "cell_type": "markdown",
   "id": "c02719ba",
   "metadata": {},
   "source": [
    "+ **Adopt SVD as the Primary Model:** Reason: SVD’s superior performance:lowest RMSE, high Recall@5 makes it the best choice for accurate and relevant recommendations.\n",
    "+ **Deploy SVD with the best hyperparameters** (e.g. n_factors=50, n_epochs=10, lr_all=0.005, reg_all=0.02) RMSE: 0.7588) for production."
   ]
  }
 ],
 "metadata": {
  "kernelspec": {
   "display_name": "learn-env-py310",
   "language": "python",
   "name": "python3"
  },
  "language_info": {
   "codemirror_mode": {
    "name": "ipython",
    "version": 3
   },
   "file_extension": ".py",
   "mimetype": "text/x-python",
   "name": "python",
   "nbconvert_exporter": "python",
   "pygments_lexer": "ipython3",
   "version": "3.10.18"
  }
 },
 "nbformat": 4,
 "nbformat_minor": 5
}
