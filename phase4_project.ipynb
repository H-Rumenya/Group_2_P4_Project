{
 "cells": [
  {
   "cell_type": "markdown",
   "id": "e6aee8c8-8f8e-4797-a9e5-1f2ed6963616",
   "metadata": {},
   "source": [
    "# Recommendation Systems"
   ]
  },
  {
   "cell_type": "markdown",
   "id": "1f740b0e",
   "metadata": {},
   "source": [
    "![Alt text](Images\\Becauseyouwatched.jpg)"
   ]
  },
  {
   "cell_type": "markdown",
   "id": "400d4772-4168-4f4b-8c81-6d0bbf478b66",
   "metadata": {},
   "source": [
    "## BUSINESS UNDERSTANDING."
   ]
  },
  {
   "cell_type": "markdown",
   "id": "0d624515",
   "metadata": {},
   "source": [
    "## Business Overview.\n",
    "\n",
    "Imagine the number of streaming sites, now imagine the challenges the platform faces: the two main questions being how do they get to help  users discover content they will not only love but also will keep them engaged over time- remember there are thousands of titles available as such users could experience decision fatigue which may lead to lower watch time and or increased churn. Now how about having a well-designed recommendation system that can transform this experience by only surfacing relevant and personalized content that resonates with one's individual taste and preference?\n",
    "\n",
    "This project is therefore designed to build a movie recommendation engine using the MovieLens dataset, with the aim of improving the retention of users through personalized suggestions and we shall do so by analyzing the user ratings and preferences. In the end we shall be able to deliver top five movie recommendations that feel intuitive, relevant and engaging."
   ]
  },
  {
   "cell_type": "markdown",
   "id": "ef3e2f3a",
   "metadata": {},
   "source": [
    "## Problem statement.\n",
    "\n",
    "As we have seen that its really a struggle by users to find content that matches their prefences, especially as more movies gets produced each day. Therefore our question is ***'how can we deliver personalized movie recommendations that will ultimately increase user satsifaction and retention on a streaming platform?'***"
   ]
  },
  {
   "cell_type": "markdown",
   "id": "13808f10",
   "metadata": {},
   "source": [
    "## Stakeholders\n",
    "\n",
    "**Product team**- to improve user engagement & retention through personalization  \n",
    "**Data Scientist**- For building and validating recommendation engine  \n",
    "**Marketing team**- for segmentation and promotion of contetnt based on preferences  \n",
    "**Owners of streaming platforms/ Executive leadership**- Evaluation of ROI of a well designed personalized system on platform performance.\n"
   ]
  },
  {
   "cell_type": "markdown",
   "id": "05c54ed3",
   "metadata": {},
   "source": [
    "## Success Metrics.\n",
    "- Building a model that generates top five movie recommendations per user.\n",
    "- Improvement of user engagement as a result of tailor-making contetnt to user preferences.\n",
    "- Provision of actionable insights for product and marketing team to use.\n",
    "- Visualizing resulsts for non technical team e.g the executive.\n"
   ]
  },
  {
   "cell_type": "markdown",
   "id": "76a3bea7",
   "metadata": {},
   "source": [
    "## Type of Recommendation and Model Evaluation Metrics.\n",
    "This project will be focusing on personalized recommendations, leveraging collaborative filtering to unearth latent user preferances and as a result suggest movies aligned with their taste. Some of the metrics that we may deploy include:\n",
    "\n",
    "- **RMSE/MAE** -For rating prediction accuracy\n",
    "- **Precision, Recall, F1 Score** - For quality ranking.\n",
    "- **Coverage, Diversity** - To help with assessment of recomendation variety & system robustness."
   ]
  },
  {
   "cell_type": "code",
   "execution_count": 1,
   "id": "931fc142-075a-4c35-9169-9d808abaeefa",
   "metadata": {},
   "outputs": [],
   "source": [
    "# Eric lead developing here | Lynn, feel free to support co-creation \n",
    "# Address Business overview, problem statement, stakholders, goals/objectives (e.g., product suggestions, movie recommendations, personalized content))\n",
    "# Determine the type of recommendation (personalized vs. non-personalized)\n",
    "# Outline some metrics we may want to use in model evaluation-"
   ]
  },
  {
   "cell_type": "markdown",
   "id": "f54a8c8d-5eab-4231-a40b-5921c145219d",
   "metadata": {},
   "source": [
    "## Data Understanding  "
   ]
  },
  {
   "cell_type": "markdown",
   "id": "41b5bc36",
   "metadata": {},
   "source": [
    "### Dataset Overview  \n",
    "The provided dataset, comprising four CSV files: \n",
    "- **links.csv**\n",
    "- **movies.csv**\n",
    "- **ratings.csv**\n",
    "- **tags.csv**\n",
    "\n",
    " offers a comprehensive foundation for a robust movie recommendation system. The data is structured to facilitate the analysis of user behavior, movie characteristics, and their interrelationships.\n",
    "\n",
    "##  Importing Libraries "
   ]
  },
  {
   "cell_type": "code",
   "execution_count": 2,
   "id": "67d800ba-9480-4fec-aa10-b31684bc61fb",
   "metadata": {},
   "outputs": [],
   "source": [
    "# Loading the libraries\n",
    "\n",
    "import pandas as pd\n",
    "import numpy as np\n",
    "import matplotlib.pyplot as plt\n",
    "import seaborn as sns\n",
    "import re\n",
    "from datetime import datetime, timezone\n",
    "from sklearn.preprocessing import MultiLabelBinarizer, OneHotEncoder, LabelEncoder, StandardScaler\n",
    "from sklearn.ensemble import RandomForestRegressor\n",
    "from sklearn.model_selection import train_test_split\n",
    "from sklearn.metrics import mean_squared_error, r2_score\n",
    "from sklearn.inspection import permutation_importance\n",
    "\n",
    "sns.set_theme(style=\"whitegrid\", context=\"notebook\")"
   ]
  },
  {
   "cell_type": "markdown",
   "id": "1d97089b",
   "metadata": {},
   "source": [
    "---\n",
    "## Movies dataset.\n"
   ]
  },
  {
   "cell_type": "code",
   "execution_count": 3,
   "id": "5c341620",
   "metadata": {},
   "outputs": [
    {
     "data": {
      "text/plain": [
       "<bound method DataFrame.info of       movieId                                      title  \\\n",
       "0           1                           Toy Story (1995)   \n",
       "1           2                             Jumanji (1995)   \n",
       "2           3                    Grumpier Old Men (1995)   \n",
       "3           4                   Waiting to Exhale (1995)   \n",
       "4           5         Father of the Bride Part II (1995)   \n",
       "...       ...                                        ...   \n",
       "9737   193581  Black Butler: Book of the Atlantic (2017)   \n",
       "9738   193583               No Game No Life: Zero (2017)   \n",
       "9739   193585                               Flint (2017)   \n",
       "9740   193587        Bungo Stray Dogs: Dead Apple (2018)   \n",
       "9741   193609        Andrew Dice Clay: Dice Rules (1991)   \n",
       "\n",
       "                                           genres  \n",
       "0     Adventure|Animation|Children|Comedy|Fantasy  \n",
       "1                      Adventure|Children|Fantasy  \n",
       "2                                  Comedy|Romance  \n",
       "3                            Comedy|Drama|Romance  \n",
       "4                                          Comedy  \n",
       "...                                           ...  \n",
       "9737              Action|Animation|Comedy|Fantasy  \n",
       "9738                     Animation|Comedy|Fantasy  \n",
       "9739                                        Drama  \n",
       "9740                             Action|Animation  \n",
       "9741                                       Comedy  \n",
       "\n",
       "[9742 rows x 3 columns]>"
      ]
     },
     "execution_count": 3,
     "metadata": {},
     "output_type": "execute_result"
    }
   ],
   "source": [
    "# Loading  the movies dataset\n",
    "movies = pd.read_csv('Data/movies.csv')\n",
    "movies.info"
   ]
  },
  {
   "cell_type": "markdown",
   "id": "665074ca",
   "metadata": {},
   "source": [
    "#### Movies.csv  \n",
    "\n",
    "This file contains **movie titles** and their corresponding **genres**.  \n",
    "\n",
    "It, Serves as the **central movie catalog**, this file contains a unique entry for each of the **9,742 films**.  \n",
    "### Columns \n",
    "- **movieId**: Primary key that links to other datasets.  \n",
    "- **title**: Movie title (with release year).  \n",
    "- **genres**: Pipe-separated list of genres.  \n",
    "\n",
    "This file is essential for **content-based filtering**, enabling genre-specific recommendations and theme analysis. "
   ]
  },
  {
   "cell_type": "markdown",
   "id": "2aa78b4e",
   "metadata": {},
   "source": [
    "---\n",
    "## Ratings Dataset.\n"
   ]
  },
  {
   "cell_type": "code",
   "execution_count": 4,
   "id": "3e90a477",
   "metadata": {},
   "outputs": [
    {
     "data": {
      "text/plain": [
       "<bound method DataFrame.info of         userId  movieId  rating   timestamp\n",
       "0            1        1     4.0   964982703\n",
       "1            1        3     4.0   964981247\n",
       "2            1        6     4.0   964982224\n",
       "3            1       47     5.0   964983815\n",
       "4            1       50     5.0   964982931\n",
       "...        ...      ...     ...         ...\n",
       "100831     610   166534     4.0  1493848402\n",
       "100832     610   168248     5.0  1493850091\n",
       "100833     610   168250     5.0  1494273047\n",
       "100834     610   168252     5.0  1493846352\n",
       "100835     610   170875     3.0  1493846415\n",
       "\n",
       "[100836 rows x 4 columns]>"
      ]
     },
     "execution_count": 4,
     "metadata": {},
     "output_type": "execute_result"
    }
   ],
   "source": [
    "# Loading ratings dataset\n",
    "ratings = pd.read_csv('Data/ratings.csv')\n",
    "ratings.info"
   ]
  },
  {
   "cell_type": "markdown",
   "id": "358ee1de",
   "metadata": {},
   "source": [
    "### ratings.csv  \n",
    "The most **data-heavy file**, containing **100,836 explicit user ratings**.  \n",
    "#### Columns \n",
    "- **userId**: Identifier of the user.  \n",
    "- **movieId**: Identifier of the rated movie.  \n",
    "- **rating**: Explicit user rating (e.g., 1.0–5.0).  \n",
    "- **timestamp**: Time of rating (Unix format).  \n",
    "\n",
    "This dataset forms the **backbone of collaborative filtering**. The timestamps also enable **temporal analysis**, helping track evolving preferences and movie popularity trends.  \n"
   ]
  },
  {
   "cell_type": "markdown",
   "id": "c0bbefbb",
   "metadata": {},
   "source": [
    "---\n",
    "## Links dataset.\n"
   ]
  },
  {
   "cell_type": "code",
   "execution_count": 5,
   "id": "11f3fa6e",
   "metadata": {},
   "outputs": [
    {
     "data": {
      "text/plain": [
       "<bound method DataFrame.info of       movieId   imdbId    tmdbId\n",
       "0           1   114709     862.0\n",
       "1           2   113497    8844.0\n",
       "2           3   113228   15602.0\n",
       "3           4   114885   31357.0\n",
       "4           5   113041   11862.0\n",
       "...       ...      ...       ...\n",
       "9737   193581  5476944  432131.0\n",
       "9738   193583  5914996  445030.0\n",
       "9739   193585  6397426  479308.0\n",
       "9740   193587  8391976  483455.0\n",
       "9741   193609   101726   37891.0\n",
       "\n",
       "[9742 rows x 3 columns]>"
      ]
     },
     "execution_count": 5,
     "metadata": {},
     "output_type": "execute_result"
    }
   ],
   "source": [
    "# Loading  the links dataset\n",
    "links = pd.read_csv('Data/links.csv')\n",
    "links.info"
   ]
  },
  {
   "cell_type": "markdown",
   "id": "77d40627",
   "metadata": {},
   "source": [
    "#### links.csv  \n",
    "\n",
    "This file serves as a **bridge to external metadata sources**, mapping internal `movieId` values to industry-standard identifiers:  \n",
    "### Columns  \n",
    "- **movieId**: Unique identifier for a movie.\n",
    "- **imdbId**: IMDb identifier.  \n",
    "- **tmdbId**: The Movie Database (TMDb) identifier. \n",
    "\n",
    "These external links allow for **data enrichment**, such as retrieving cast, plot, and ratings. This enhances the recommendation engine with richer context.  "
   ]
  },
  {
   "cell_type": "markdown",
   "id": "1b14b4ae",
   "metadata": {},
   "source": [
    "## Tags Dataset.\n",
    "---"
   ]
  },
  {
   "cell_type": "code",
   "execution_count": 6,
   "id": "6f716108",
   "metadata": {},
   "outputs": [
    {
     "data": {
      "text/plain": [
       "<bound method DataFrame.info of       userId  movieId               tag   timestamp\n",
       "0          2    60756             funny  1445714994\n",
       "1          2    60756   Highly quotable  1445714996\n",
       "2          2    60756      will ferrell  1445714992\n",
       "3          2    89774      Boxing story  1445715207\n",
       "4          2    89774               MMA  1445715200\n",
       "...      ...      ...               ...         ...\n",
       "3678     606     7382         for katie  1171234019\n",
       "3679     606     7936           austere  1173392334\n",
       "3680     610     3265            gun fu  1493843984\n",
       "3681     610     3265  heroic bloodshed  1493843978\n",
       "3682     610   168248  Heroic Bloodshed  1493844270\n",
       "\n",
       "[3683 rows x 4 columns]>"
      ]
     },
     "execution_count": 6,
     "metadata": {},
     "output_type": "execute_result"
    }
   ],
   "source": [
    "# Loading  the tags dataset\n",
    "tags = pd.read_csv('Data/tags.csv')\n",
    "tags.info"
   ]
  },
  {
   "cell_type": "markdown",
   "id": "459102d7",
   "metadata": {},
   "source": [
    "#### tags.csv  \n",
    "This file contains **3,683 qualitative user-generated tags**, offering descriptive insights beyond numerical ratings.  \n",
    "### Columns\n",
    "- **userId**: Identifier of the user who tagged the movie.  \n",
    "- **movieId**: Identifier of the tagged movie.  \n",
    "- **tag**: User-generated keyword(s).  \n",
    "- **timestamp**: Time the tag was applied.  \n",
    "\n",
    "Tags capture **nuanced characteristics** that genres miss, enabling **expressive content-based models**. They also reflect how perceptions of movies **shift over time**.  \n"
   ]
  },
  {
   "cell_type": "code",
   "execution_count": 7,
   "id": "41658eea-9758-48d8-8377-478a5e1c2859",
   "metadata": {},
   "outputs": [],
   "source": [
    "# Newton work on the Data Understanding part\n",
    "# Briefly describe each dataset in the CSV format"
   ]
  },
  {
   "cell_type": "markdown",
   "id": "dc20023d-ac29-454c-9778-cc5273aebaf8",
   "metadata": {},
   "source": [
    "## Data Preparation"
   ]
  },
  {
   "cell_type": "code",
   "execution_count": 8,
   "id": "5a292aa7-d15b-40d8-8be1-df0acfab3842",
   "metadata": {},
   "outputs": [],
   "source": [
    "# Joackim kindly lead here : Check need to create a single dataframe with desired variables including justifications as part of notes\n"
   ]
  },
  {
   "cell_type": "code",
   "execution_count": 9,
   "id": "9302f5be-fd0d-448b-9637-42dd8ee98a2a",
   "metadata": {},
   "outputs": [],
   "source": [
    "# Merge datasets\n",
    "df = ratings.merge(movies, on='movieId', how='left') \\\n",
    "            .merge(tags, on=['userId', 'movieId'], how='left') \\\n",
    "            .merge(links, on='movieId', how='left')"
   ]
  },
  {
   "cell_type": "code",
   "execution_count": 10,
   "id": "8d341087-e9af-431b-b20e-0d7374a8edec",
   "metadata": {},
   "outputs": [
    {
     "data": {
      "text/html": [
       "<div>\n",
       "<style scoped>\n",
       "    .dataframe tbody tr th:only-of-type {\n",
       "        vertical-align: middle;\n",
       "    }\n",
       "\n",
       "    .dataframe tbody tr th {\n",
       "        vertical-align: top;\n",
       "    }\n",
       "\n",
       "    .dataframe thead th {\n",
       "        text-align: right;\n",
       "    }\n",
       "</style>\n",
       "<table border=\"1\" class=\"dataframe\">\n",
       "  <thead>\n",
       "    <tr style=\"text-align: right;\">\n",
       "      <th></th>\n",
       "      <th>userId</th>\n",
       "      <th>movieId</th>\n",
       "      <th>rating</th>\n",
       "      <th>timestamp_x</th>\n",
       "      <th>title</th>\n",
       "      <th>genres</th>\n",
       "      <th>tag</th>\n",
       "      <th>timestamp_y</th>\n",
       "      <th>imdbId</th>\n",
       "      <th>tmdbId</th>\n",
       "    </tr>\n",
       "  </thead>\n",
       "  <tbody>\n",
       "    <tr>\n",
       "      <th>0</th>\n",
       "      <td>1</td>\n",
       "      <td>1</td>\n",
       "      <td>4.0</td>\n",
       "      <td>964982703</td>\n",
       "      <td>Toy Story (1995)</td>\n",
       "      <td>Adventure|Animation|Children|Comedy|Fantasy</td>\n",
       "      <td>NaN</td>\n",
       "      <td>NaN</td>\n",
       "      <td>114709</td>\n",
       "      <td>862.0</td>\n",
       "    </tr>\n",
       "    <tr>\n",
       "      <th>1</th>\n",
       "      <td>1</td>\n",
       "      <td>3</td>\n",
       "      <td>4.0</td>\n",
       "      <td>964981247</td>\n",
       "      <td>Grumpier Old Men (1995)</td>\n",
       "      <td>Comedy|Romance</td>\n",
       "      <td>NaN</td>\n",
       "      <td>NaN</td>\n",
       "      <td>113228</td>\n",
       "      <td>15602.0</td>\n",
       "    </tr>\n",
       "    <tr>\n",
       "      <th>2</th>\n",
       "      <td>1</td>\n",
       "      <td>6</td>\n",
       "      <td>4.0</td>\n",
       "      <td>964982224</td>\n",
       "      <td>Heat (1995)</td>\n",
       "      <td>Action|Crime|Thriller</td>\n",
       "      <td>NaN</td>\n",
       "      <td>NaN</td>\n",
       "      <td>113277</td>\n",
       "      <td>949.0</td>\n",
       "    </tr>\n",
       "    <tr>\n",
       "      <th>3</th>\n",
       "      <td>1</td>\n",
       "      <td>47</td>\n",
       "      <td>5.0</td>\n",
       "      <td>964983815</td>\n",
       "      <td>Seven (a.k.a. Se7en) (1995)</td>\n",
       "      <td>Mystery|Thriller</td>\n",
       "      <td>NaN</td>\n",
       "      <td>NaN</td>\n",
       "      <td>114369</td>\n",
       "      <td>807.0</td>\n",
       "    </tr>\n",
       "    <tr>\n",
       "      <th>4</th>\n",
       "      <td>1</td>\n",
       "      <td>50</td>\n",
       "      <td>5.0</td>\n",
       "      <td>964982931</td>\n",
       "      <td>Usual Suspects, The (1995)</td>\n",
       "      <td>Crime|Mystery|Thriller</td>\n",
       "      <td>NaN</td>\n",
       "      <td>NaN</td>\n",
       "      <td>114814</td>\n",
       "      <td>629.0</td>\n",
       "    </tr>\n",
       "  </tbody>\n",
       "</table>\n",
       "</div>"
      ],
      "text/plain": [
       "   userId  movieId  rating  timestamp_x                        title  \\\n",
       "0       1        1     4.0    964982703             Toy Story (1995)   \n",
       "1       1        3     4.0    964981247      Grumpier Old Men (1995)   \n",
       "2       1        6     4.0    964982224                  Heat (1995)   \n",
       "3       1       47     5.0    964983815  Seven (a.k.a. Se7en) (1995)   \n",
       "4       1       50     5.0    964982931   Usual Suspects, The (1995)   \n",
       "\n",
       "                                        genres  tag  timestamp_y  imdbId  \\\n",
       "0  Adventure|Animation|Children|Comedy|Fantasy  NaN          NaN  114709   \n",
       "1                               Comedy|Romance  NaN          NaN  113228   \n",
       "2                        Action|Crime|Thriller  NaN          NaN  113277   \n",
       "3                             Mystery|Thriller  NaN          NaN  114369   \n",
       "4                       Crime|Mystery|Thriller  NaN          NaN  114814   \n",
       "\n",
       "    tmdbId  \n",
       "0    862.0  \n",
       "1  15602.0  \n",
       "2    949.0  \n",
       "3    807.0  \n",
       "4    629.0  "
      ]
     },
     "execution_count": 10,
     "metadata": {},
     "output_type": "execute_result"
    }
   ],
   "source": [
    "df.head()"
   ]
  },
  {
   "cell_type": "code",
   "execution_count": 11,
   "id": "e49dd3e3-05a9-4b6e-a581-35da3022f6dd",
   "metadata": {},
   "outputs": [
    {
     "name": "stdout",
     "output_type": "stream",
     "text": [
      "<class 'pandas.core.frame.DataFrame'>\n",
      "RangeIndex: 102677 entries, 0 to 102676\n",
      "Data columns (total 10 columns):\n",
      " #   Column       Non-Null Count   Dtype  \n",
      "---  ------       --------------   -----  \n",
      " 0   userId       102677 non-null  int64  \n",
      " 1   movieId      102677 non-null  int64  \n",
      " 2   rating       102677 non-null  float64\n",
      " 3   timestamp_x  102677 non-null  int64  \n",
      " 4   title        102677 non-null  object \n",
      " 5   genres       102677 non-null  object \n",
      " 6   tag          3476 non-null    object \n",
      " 7   timestamp_y  3476 non-null    float64\n",
      " 8   imdbId       102677 non-null  int64  \n",
      " 9   tmdbId       102664 non-null  float64\n",
      "dtypes: float64(3), int64(4), object(3)\n",
      "memory usage: 7.8+ MB\n"
     ]
    }
   ],
   "source": [
    "df.info()"
   ]
  },
  {
   "cell_type": "code",
   "execution_count": 12,
   "id": "46e77e76-b975-4cb5-85fe-62c9c3b0ec49",
   "metadata": {},
   "outputs": [
    {
     "name": "stdout",
     "output_type": "stream",
     "text": [
      "Shape of df: (102677, 10)\n"
     ]
    }
   ],
   "source": [
    "print(\"Shape of df:\", df.shape)"
   ]
  },
  {
   "cell_type": "code",
   "execution_count": 13,
   "id": "bd819006-b51d-4d8c-b7cc-d8ec7789e099",
   "metadata": {},
   "outputs": [],
   "source": [
    "#  filter/validate timestamps in the dataset\n",
    "TS_MIN = int(datetime(1990, 1, 1, tzinfo=timezone.utc).timestamp())\n",
    "TS_MAX = int(datetime(2025, 12, 31, tzinfo=timezone.utc).timestamp())\n",
    "\n",
    "RATING_MIN, RATING_MAX, RATING_STEP = 0.5, 5.0, 0.5 #Range and granularity of ratings"
   ]
  },
  {
   "cell_type": "code",
   "execution_count": 14,
   "id": "7849f1c3-6c6e-4d08-891d-39d655ba4ad9",
   "metadata": {},
   "outputs": [],
   "source": [
    "# Replace newline characters with a pipe (|) separator,remove extra spaces and duplicate separators,handle missing or invalid values.\n",
    "def fix_genres(series: pd.Series) -> pd.Series:\n",
    "    \"\"\"\n",
    "    Normalize genres:\n",
    "      - convert literal '\\\\n' and real newlines to '|'\n",
    "      - collapse repeated separators and trim\n",
    "    \"\"\"\n",
    "    s = series.astype(str) #Convert all values in the Series to strings to ensure consistent processing.\n",
    "    s = s.str.replace(\"\\\\n\", \"|\", regex=False).str.replace(\"\\n\", \"|\", regex=False)#Replaces \\n and actual newline characters with a pipe (|)\n",
    "    s = s.str.replace(r\"\\s*\\|\\s*\", \"|\", regex=True).str.strip(\"| \")#Remove any extra spaces around the pipe symbol and trims leading/trailing pipes or spaces\n",
    "    return s.replace({\"nan\": \"\"})"
   ]
  },
  {
   "cell_type": "code",
   "execution_count": 15,
   "id": "f02bb1b3-15e1-4e69-a3aa-3b0918150598",
   "metadata": {},
   "outputs": [],
   "source": [
    "def extract_year_from_title(title: str):\n",
    "    \"\"\"\n",
    "    Extract (YYYY) at end of title.\n",
    "    \"\"\"\n",
    "    if not isinstance(title, str): #Check if the input title is a string. If not, return NaN.\n",
    "        return np.nan\n",
    "    m = re.search(r\"\\((\\d{4})\\)\\s*$\", title.strip()) #regular expression to search for a 4-digit year enclosed in parentheses at the end of the string.\n",
    "   # \\((\\d{4})\\) matches a year like (1999).\\s*$ ensures it's at the end of the string, possibly followed by spaces.\n",
    "    return float(m.group(1)) if m else np.nan #Extract the year and convert it to a float (e.g., 1999.0) if a match is found. Otherwise, return NaN."
   ]
  },
  {
   "cell_type": "code",
   "execution_count": 16,
   "id": "c302cf52-a4e3-4c73-b388-4c5ae60e81f3",
   "metadata": {},
   "outputs": [],
   "source": [
    "def to_decade(year): #converts a numeric year (like 1999) into a decade label (like \"1990s\")\n",
    "    \"\"\"\n",
    "    Convert numeric year -> '1980s' style label; 'Unknown' if NaN.\n",
    "    \"\"\"\n",
    "    if pd.isna(year):\n",
    "        return \"Unknown\" #Checks if the input year is missing (NaN). If so, it returns \"Unknown\"\n",
    "    return f\"{int(year)//10*10}s\"# Converts the year to an integer.Divides it by 10, multiplies by 10 to get the start of the decade. \n",
    "    #Appends \"s\" to format it like \"1990s\""
   ]
  },
  {
   "cell_type": "code",
   "execution_count": 17,
   "id": "03df25ed-e482-43d5-a809-a3ff13ce8476",
   "metadata": {},
   "outputs": [],
   "source": [
    "# round ratings to the nearest 0.5 and clip them within a valid range, usually between 0.5 and 5.0 stars.\n",
    "def clip_half_star(x: pd.Series) -> pd.Series:\n",
    "    \"\"\"\n",
    "    Snap ratings to nearest 0.5 and clip to [0.5, 5.0].\n",
    "    \"\"\"\n",
    "    x = pd.to_numeric(x, errors=\"coerce\") #Converts the Series x to numeric values. Non-numeric entries are converted to NaN, using errors=\"coerce\"\n",
    "    x = x.clip(RATING_MIN, RATING_MAX) #Any value below 0.5 becomes 0.5, and any value above 5.0 becomes 5.0.\n",
    "    return (np.round(x / RATING_STEP) * RATING_STEP).astype(float)"
   ]
  },
  {
   "cell_type": "code",
   "execution_count": 18,
   "id": "185def2b-bade-4f05-be2e-81b517fa77c2",
   "metadata": {},
   "outputs": [],
   "source": [
    "#  ensure that all timestamps fall within a valid range defined by TS_MIN and TS_MAX\n",
    "def sanitize_timestamp(ts: pd.Series) -> pd.Series:\n",
    "    \"\"\"\n",
    "    Keep timestamps within [TS_MIN, TS_MAX]; set others to NaN.\n",
    "    \"\"\"\n",
    "    ts = pd.to_numeric(ts, errors=\"coerce\").astype(\"Int64\") #Converts the input Series ts to numeric values.Non-numeric entries are coerced to NaN.\n",
    "    #The result is cast to pandas' nullable integer type \"Int64\" to allow NaN values.\n",
    "    return ts.where(ts.between(TS_MIN, TS_MAX)) #Keeps only the values that fall between TS_MIN and TS_MAX.Any value outside this range is replaced with NaN."
   ]
  },
  {
   "cell_type": "code",
   "execution_count": 19,
   "id": "9a1ce25c-c082-4392-b059-45d1479dc29b",
   "metadata": {},
   "outputs": [],
   "source": [
    "# Clean up column names by removing leading and trailing whitespace from each column name\n",
    "df.columns = [c.strip() for c in df.columns]"
   ]
  },
  {
   "cell_type": "code",
   "execution_count": 20,
   "id": "a1c19746-7eb7-4a36-b3e8-e69b9448fb69",
   "metadata": {},
   "outputs": [],
   "source": [
    "# Checks if the column \"genres\" exists in the DataFrame.If it does, it applies the fix_genres() function to clean and normalize the genre strings \n",
    "#(e.g., replacing newlines with |, removing extra spaces, collapsing repeated separators)\n",
    "if \"genres\" in df.columns:\n",
    "    df[\"genres\"] = fix_genres(df[\"genres\"])\n",
    "else:\n",
    "    df[\"genres\"] = \"\""
   ]
  },
  {
   "cell_type": "code",
   "execution_count": 21,
   "id": "765ad126-d8f2-4db1-8510-dca7ed75a6b3",
   "metadata": {},
   "outputs": [],
   "source": [
    "# Remove exact duplicate rows.\n",
    "df = df.drop_duplicates()"
   ]
  },
  {
   "cell_type": "code",
   "execution_count": 22,
   "id": "9291b0dc-7a6b-43e9-a49d-36bcea1328a1",
   "metadata": {},
   "outputs": [],
   "source": [
    "# Loop through a list of column names that typically represent unique identifiers for users and movies.Check if each column exists in the DataFrame. \n",
    "#If it does:converts the column to numeric values.Non-numeric entries are replaced with NaN\n",
    "for col in [\"userId\", \"movieId\", \"imdbId\", \"tmdbId\"]:\n",
    "    if col in df.columns:\n",
    "        df[col] = pd.to_numeric(df[col], errors=\"coerce\").astype(\"Int64\")"
   ]
  },
  {
   "cell_type": "code",
   "execution_count": 23,
   "id": "ae9f8e37-a28b-4451-a9fb-cbb10cfa531b",
   "metadata": {},
   "outputs": [],
   "source": [
    "# Convert ratings to numeric values.Clip them to a valid range (typically between 0.5 and 5.0).\n",
    "#Round them to the nearest 0.5 (e.g., 3.7 → 3.5, 4.3 → 4.5).\n",
    "if \"rating\" in df.columns:\n",
    "    df[\"rating\"] = clip_half_star(df[\"rating\"])"
   ]
  },
  {
   "cell_type": "code",
   "execution_count": 24,
   "id": "6e60edcd-bd80-4389-942e-9446bf9f2afb",
   "metadata": {},
   "outputs": [],
   "source": [
    "# Convert the column to numeric values (non-numeric entries become NaN).\n",
    "#Keep only timestamps that fall within a valid range defined by TS_MIN and TS_MAX.\n",
    "if \"timestamp_x\" in df.columns:\n",
    "    df[\"timestamp_x\"] = sanitize_timestamp(df[\"timestamp_x\"])"
   ]
  },
  {
   "cell_type": "code",
   "execution_count": 25,
   "id": "0cb21a9b-60fa-487f-bc67-b084a0f20660",
   "metadata": {},
   "outputs": [],
   "source": [
    "# Parse/repair year & decade from title\n",
    "if \"title\" in df.columns:\n",
    "    year_from_title = df[\"title\"].apply(extract_year_from_title)#looks for a 4-digit year in parentheses at the end of the title and extracts it.\n",
    "    if \"year\" not in df.columns:\n",
    "        df[\"year\"] = year_from_title #If the \"year\" column doesn't exist, it creates it using the extracted year from the title.\n",
    "    else:\n",
    "        df[\"year\"] = pd.to_numeric(df[\"year\"], errors=\"coerce\").fillna(year_from_title) #Converts values to numeric (invalid entries become NaN).\n",
    "#Fills in missing values (NaN) with the year extracted from the title.\n",
    "    # Normalize 'decade' to labeled form; if missing, derive from year\n",
    "    if \"decade\" not in df.columns:\n",
    "        df[\"decade\"] = df[\"year\"].apply(to_decade)\n",
    "    else:\n",
    "        # If the \"decade\" column does exist, and its data type is numeric, it converts values like 1990.0 into \"1990s\" format.\n",
    "        if df[\"decade\"].dtype.kind in \"if\":\n",
    "            df[\"decade\"] = df[\"decade\"].apply(lambda x: f\"{int(x)}s\" if pd.notna(x) else np.nan)\n",
    "        df[\"decade\"] = df[\"decade\"].fillna(df[\"year\"].apply(to_decade))\n",
    "else:\n",
    "    #Ensures both \"year\" and \"decade\" columns exist.Sets \"year\" to NaN and \"decade\" to \"Unknown\" as default placeholders.\n",
    "    if \"year\" not in df.columns:   df[\"year\"] = np.nan\n",
    "    if \"decade\" not in df.columns: df[\"decade\"] = \"Unknown\""
   ]
  },
  {
   "cell_type": "code",
   "execution_count": 26,
   "id": "aa101167-cc91-4088-97c5-e1bc8c137db8",
   "metadata": {},
   "outputs": [],
   "source": [
    "# Drop records missing essentials\n",
    "essentials = [\"userId\", \"movieId\", \"rating\"]\n",
    "keep = np.ones(len(df), dtype=bool)\n",
    "for c in essentials:\n",
    "    keep &= df[c].notna()\n",
    "df = df[keep].copy()\n",
    "\n",
    "# Deduplicate (userId, movieId) → keep most recent by timestamp_x when available\n",
    "if {\"userId\", \"movieId\", \"timestamp_x\"}.issubset(df.columns):\n",
    "    df = (df\n",
    "          .sort_values([\"userId\", \"movieId\", \"timestamp_x\"])\n",
    "          .drop_duplicates([\"userId\", \"movieId\"], keep=\"last\"))"
   ]
  },
  {
   "cell_type": "code",
   "execution_count": 27,
   "id": "ccf157bc-a6b9-4086-9fc9-3a6643b7364e",
   "metadata": {},
   "outputs": [],
   "source": [
    "# Build a unique movie table\n",
    "movie_meta = (df[[\"movieId\", \"title\", \"genres\", \"year\", \"decade\"]]\n",
    "              .drop_duplicates(\"movieId\")\n",
    "              .copy())\n",
    "\n",
    "# 1) Genres → MultiLabelBinarizer (multi-hot)\n",
    "mlb = MultiLabelBinarizer()\n",
    "genre_lists = (\n",
    "    movie_meta[\"genres\"].fillna(\"\")\n",
    "    .apply(lambda s: [g.strip() for g in s.split(\"|\")\n",
    "                      if g.strip() and g.strip().lower() != \"(no genres listed)\"])\n",
    ")\n",
    "G = pd.DataFrame(\n",
    "    mlb.fit_transform(genre_lists),\n",
    "    index=movie_meta.index,\n",
    "    columns=[f\"genre_{g}\" for g in mlb.classes_]\n",
    ")\n",
    "\n",
    "# 2) Decade → OneHotEncoder (one-hot)\n",
    "\n",
    "# Ensure decade is a clean string column\n",
    "movie_meta[\"decade\"] = movie_meta[\"decade\"].astype(str).fillna(\"Unknown\")\n",
    "\n",
    "# For scikit-learn < 1.2 use 'sparse=False'; for >= 1.2 use 'sparse_output=False'.\n",
    "# The code below tries the newer arg first and falls back if needed.\n",
    "try:\n",
    "    ohe = OneHotEncoder(handle_unknown=\"ignore\", sparse_output=False, dtype=int)\n",
    "except TypeError:\n",
    "    ohe = OneHotEncoder(handle_unknown=\"ignore\", sparse=False, dtype=int)\n",
    "\n",
    "decade_2d = movie_meta[[\"decade\"]]  # 2D input\n",
    "D_mat = ohe.fit_transform(decade_2d)  # dense ndarray\n",
    "\n",
    "# Get the correct output column names from the encoder\n",
    "try:\n",
    "    dec_cols = ohe.get_feature_names_out([\"decade\"])\n",
    "except AttributeError:  # scikit-learn < 1.0\n",
    "    dec_cols = ohe.get_feature_names([\"decade\"])\n",
    "\n",
    "D = pd.DataFrame(D_mat, index=movie_meta.index, columns=dec_cols)\n",
    "\n",
    "\n",
    "# Final movie features\n",
    "movie_features_ohe = pd.concat([movie_meta[[\"movieId\", \"title\", \"year\"]], G, D], axis=1).reset_index(drop=True)"
   ]
  },
  {
   "cell_type": "code",
   "execution_count": 28,
   "id": "160c6756-7830-46c5-bab9-15a0dcb65d1c",
   "metadata": {},
   "outputs": [
    {
     "data": {
      "text/html": [
       "<div>\n",
       "<style scoped>\n",
       "    .dataframe tbody tr th:only-of-type {\n",
       "        vertical-align: middle;\n",
       "    }\n",
       "\n",
       "    .dataframe tbody tr th {\n",
       "        vertical-align: top;\n",
       "    }\n",
       "\n",
       "    .dataframe thead th {\n",
       "        text-align: right;\n",
       "    }\n",
       "</style>\n",
       "<table border=\"1\" class=\"dataframe\">\n",
       "  <thead>\n",
       "    <tr style=\"text-align: right;\">\n",
       "      <th></th>\n",
       "      <th>userId</th>\n",
       "      <th>movieId</th>\n",
       "      <th>rating</th>\n",
       "      <th>timestamp_x</th>\n",
       "      <th>title</th>\n",
       "      <th>genres</th>\n",
       "      <th>imdbId</th>\n",
       "      <th>tmdbId</th>\n",
       "      <th>year</th>\n",
       "      <th>decade</th>\n",
       "    </tr>\n",
       "  </thead>\n",
       "  <tbody>\n",
       "    <tr>\n",
       "      <th>0</th>\n",
       "      <td>1</td>\n",
       "      <td>1</td>\n",
       "      <td>4.0</td>\n",
       "      <td>964982703</td>\n",
       "      <td>Toy Story (1995)</td>\n",
       "      <td>Adventure|Animation|Children|Comedy|Fantasy</td>\n",
       "      <td>114709</td>\n",
       "      <td>862</td>\n",
       "      <td>1995.0</td>\n",
       "      <td>1990s</td>\n",
       "    </tr>\n",
       "    <tr>\n",
       "      <th>1</th>\n",
       "      <td>1</td>\n",
       "      <td>3</td>\n",
       "      <td>4.0</td>\n",
       "      <td>964981247</td>\n",
       "      <td>Grumpier Old Men (1995)</td>\n",
       "      <td>Comedy|Romance</td>\n",
       "      <td>113228</td>\n",
       "      <td>15602</td>\n",
       "      <td>1995.0</td>\n",
       "      <td>1990s</td>\n",
       "    </tr>\n",
       "    <tr>\n",
       "      <th>2</th>\n",
       "      <td>1</td>\n",
       "      <td>6</td>\n",
       "      <td>4.0</td>\n",
       "      <td>964982224</td>\n",
       "      <td>Heat (1995)</td>\n",
       "      <td>Action|Crime|Thriller</td>\n",
       "      <td>113277</td>\n",
       "      <td>949</td>\n",
       "      <td>1995.0</td>\n",
       "      <td>1990s</td>\n",
       "    </tr>\n",
       "  </tbody>\n",
       "</table>\n",
       "</div>"
      ],
      "text/plain": [
       "   userId  movieId  rating  timestamp_x                    title  \\\n",
       "0       1        1     4.0    964982703         Toy Story (1995)   \n",
       "1       1        3     4.0    964981247  Grumpier Old Men (1995)   \n",
       "2       1        6     4.0    964982224              Heat (1995)   \n",
       "\n",
       "                                        genres  imdbId  tmdbId    year decade  \n",
       "0  Adventure|Animation|Children|Comedy|Fantasy  114709     862  1995.0  1990s  \n",
       "1                               Comedy|Romance  113228   15602  1995.0  1990s  \n",
       "2                        Action|Crime|Thriller  113277     949  1995.0  1990s  "
      ]
     },
     "metadata": {},
     "output_type": "display_data"
    },
    {
     "data": {
      "text/html": [
       "<div>\n",
       "<style scoped>\n",
       "    .dataframe tbody tr th:only-of-type {\n",
       "        vertical-align: middle;\n",
       "    }\n",
       "\n",
       "    .dataframe tbody tr th {\n",
       "        vertical-align: top;\n",
       "    }\n",
       "\n",
       "    .dataframe thead th {\n",
       "        text-align: right;\n",
       "    }\n",
       "</style>\n",
       "<table border=\"1\" class=\"dataframe\">\n",
       "  <thead>\n",
       "    <tr style=\"text-align: right;\">\n",
       "      <th></th>\n",
       "      <th>movieId</th>\n",
       "      <th>title</th>\n",
       "      <th>year</th>\n",
       "      <th>genre_Action</th>\n",
       "      <th>genre_Adventure</th>\n",
       "      <th>genre_Animation</th>\n",
       "      <th>genre_Children</th>\n",
       "      <th>genre_Comedy</th>\n",
       "      <th>genre_Crime</th>\n",
       "      <th>genre_Documentary</th>\n",
       "      <th>...</th>\n",
       "      <th>decade_1930s</th>\n",
       "      <th>decade_1940s</th>\n",
       "      <th>decade_1950s</th>\n",
       "      <th>decade_1960s</th>\n",
       "      <th>decade_1970s</th>\n",
       "      <th>decade_1980s</th>\n",
       "      <th>decade_1990s</th>\n",
       "      <th>decade_2000s</th>\n",
       "      <th>decade_2010s</th>\n",
       "      <th>decade_Unknown</th>\n",
       "    </tr>\n",
       "  </thead>\n",
       "  <tbody>\n",
       "    <tr>\n",
       "      <th>0</th>\n",
       "      <td>1</td>\n",
       "      <td>Toy Story (1995)</td>\n",
       "      <td>1995.0</td>\n",
       "      <td>0</td>\n",
       "      <td>1</td>\n",
       "      <td>1</td>\n",
       "      <td>1</td>\n",
       "      <td>1</td>\n",
       "      <td>0</td>\n",
       "      <td>0</td>\n",
       "      <td>...</td>\n",
       "      <td>0</td>\n",
       "      <td>0</td>\n",
       "      <td>0</td>\n",
       "      <td>0</td>\n",
       "      <td>0</td>\n",
       "      <td>0</td>\n",
       "      <td>1</td>\n",
       "      <td>0</td>\n",
       "      <td>0</td>\n",
       "      <td>0</td>\n",
       "    </tr>\n",
       "    <tr>\n",
       "      <th>1</th>\n",
       "      <td>3</td>\n",
       "      <td>Grumpier Old Men (1995)</td>\n",
       "      <td>1995.0</td>\n",
       "      <td>0</td>\n",
       "      <td>0</td>\n",
       "      <td>0</td>\n",
       "      <td>0</td>\n",
       "      <td>1</td>\n",
       "      <td>0</td>\n",
       "      <td>0</td>\n",
       "      <td>...</td>\n",
       "      <td>0</td>\n",
       "      <td>0</td>\n",
       "      <td>0</td>\n",
       "      <td>0</td>\n",
       "      <td>0</td>\n",
       "      <td>0</td>\n",
       "      <td>1</td>\n",
       "      <td>0</td>\n",
       "      <td>0</td>\n",
       "      <td>0</td>\n",
       "    </tr>\n",
       "    <tr>\n",
       "      <th>2</th>\n",
       "      <td>6</td>\n",
       "      <td>Heat (1995)</td>\n",
       "      <td>1995.0</td>\n",
       "      <td>1</td>\n",
       "      <td>0</td>\n",
       "      <td>0</td>\n",
       "      <td>0</td>\n",
       "      <td>0</td>\n",
       "      <td>1</td>\n",
       "      <td>0</td>\n",
       "      <td>...</td>\n",
       "      <td>0</td>\n",
       "      <td>0</td>\n",
       "      <td>0</td>\n",
       "      <td>0</td>\n",
       "      <td>0</td>\n",
       "      <td>0</td>\n",
       "      <td>1</td>\n",
       "      <td>0</td>\n",
       "      <td>0</td>\n",
       "      <td>0</td>\n",
       "    </tr>\n",
       "  </tbody>\n",
       "</table>\n",
       "<p>3 rows × 35 columns</p>\n",
       "</div>"
      ],
      "text/plain": [
       "   movieId                    title    year  genre_Action  genre_Adventure  \\\n",
       "0        1         Toy Story (1995)  1995.0             0                1   \n",
       "1        3  Grumpier Old Men (1995)  1995.0             0                0   \n",
       "2        6              Heat (1995)  1995.0             1                0   \n",
       "\n",
       "   genre_Animation  genre_Children  genre_Comedy  genre_Crime  \\\n",
       "0                1               1             1            0   \n",
       "1                0               0             1            0   \n",
       "2                0               0             0            1   \n",
       "\n",
       "   genre_Documentary  ...  decade_1930s  decade_1940s  decade_1950s  \\\n",
       "0                  0  ...             0             0             0   \n",
       "1                  0  ...             0             0             0   \n",
       "2                  0  ...             0             0             0   \n",
       "\n",
       "   decade_1960s  decade_1970s  decade_1980s  decade_1990s  decade_2000s  \\\n",
       "0             0             0             0             1             0   \n",
       "1             0             0             0             1             0   \n",
       "2             0             0             0             1             0   \n",
       "\n",
       "   decade_2010s  decade_Unknown  \n",
       "0             0               0  \n",
       "1             0               0  \n",
       "2             0               0  \n",
       "\n",
       "[3 rows x 35 columns]"
      ]
     },
     "metadata": {},
     "output_type": "display_data"
    }
   ],
   "source": [
    "# Row-level ratings table for modeling (keep useful columns if present)\n",
    "keep_cols = [\"userId\", \"movieId\", \"rating\"]\n",
    "for c in [\"timestamp_x\", \"timestamp\", \"title\", \"genres\", \"imdbId\", \"tmdbId\", \"year\", \"decade\"]:\n",
    "    if c in df.columns:\n",
    "        keep_cols.append(c)\n",
    "\n",
    "ratings_clean = df[keep_cols].reset_index(drop=True)\n",
    "\n",
    "# Display small previews\n",
    "display(ratings_clean.head(3))\n",
    "display(movie_features_ohe.head(3))"
   ]
  },
  {
   "cell_type": "code",
   "execution_count": 29,
   "id": "08ae259f-1493-4e3c-be3a-1e15a76c0204",
   "metadata": {},
   "outputs": [
    {
     "data": {
      "text/html": [
       "<div>\n",
       "<style scoped>\n",
       "    .dataframe tbody tr th:only-of-type {\n",
       "        vertical-align: middle;\n",
       "    }\n",
       "\n",
       "    .dataframe tbody tr th {\n",
       "        vertical-align: top;\n",
       "    }\n",
       "\n",
       "    .dataframe thead th {\n",
       "        text-align: right;\n",
       "    }\n",
       "</style>\n",
       "<table border=\"1\" class=\"dataframe\">\n",
       "  <thead>\n",
       "    <tr style=\"text-align: right;\">\n",
       "      <th></th>\n",
       "      <th>userId</th>\n",
       "      <th>movieId</th>\n",
       "      <th>rating</th>\n",
       "      <th>timestamp_x</th>\n",
       "      <th>title</th>\n",
       "      <th>genres</th>\n",
       "      <th>imdbId</th>\n",
       "      <th>tmdbId</th>\n",
       "      <th>year_x</th>\n",
       "      <th>decade</th>\n",
       "      <th>...</th>\n",
       "      <th>u_genre_Film-Noir</th>\n",
       "      <th>u_genre_Horror</th>\n",
       "      <th>u_genre_IMAX</th>\n",
       "      <th>u_genre_Musical</th>\n",
       "      <th>u_genre_Mystery</th>\n",
       "      <th>u_genre_Romance</th>\n",
       "      <th>u_genre_Sci-Fi</th>\n",
       "      <th>u_genre_Thriller</th>\n",
       "      <th>u_genre_War</th>\n",
       "      <th>u_genre_Western</th>\n",
       "    </tr>\n",
       "  </thead>\n",
       "  <tbody>\n",
       "    <tr>\n",
       "      <th>0</th>\n",
       "      <td>1</td>\n",
       "      <td>1</td>\n",
       "      <td>4.0</td>\n",
       "      <td>964982703</td>\n",
       "      <td>Toy Story (1995)</td>\n",
       "      <td>Adventure|Animation|Children|Comedy|Fantasy</td>\n",
       "      <td>114709</td>\n",
       "      <td>862</td>\n",
       "      <td>1995.0</td>\n",
       "      <td>1990s</td>\n",
       "      <td>...</td>\n",
       "      <td>0.021552</td>\n",
       "      <td>0.25431</td>\n",
       "      <td>0.0</td>\n",
       "      <td>0.443966</td>\n",
       "      <td>0.323276</td>\n",
       "      <td>0.482759</td>\n",
       "      <td>0.728448</td>\n",
       "      <td>0.982759</td>\n",
       "      <td>0.426724</td>\n",
       "      <td>0.12931</td>\n",
       "    </tr>\n",
       "    <tr>\n",
       "      <th>1</th>\n",
       "      <td>1</td>\n",
       "      <td>3</td>\n",
       "      <td>4.0</td>\n",
       "      <td>964981247</td>\n",
       "      <td>Grumpier Old Men (1995)</td>\n",
       "      <td>Comedy|Romance</td>\n",
       "      <td>113228</td>\n",
       "      <td>15602</td>\n",
       "      <td>1995.0</td>\n",
       "      <td>1990s</td>\n",
       "      <td>...</td>\n",
       "      <td>0.021552</td>\n",
       "      <td>0.25431</td>\n",
       "      <td>0.0</td>\n",
       "      <td>0.443966</td>\n",
       "      <td>0.323276</td>\n",
       "      <td>0.482759</td>\n",
       "      <td>0.728448</td>\n",
       "      <td>0.982759</td>\n",
       "      <td>0.426724</td>\n",
       "      <td>0.12931</td>\n",
       "    </tr>\n",
       "    <tr>\n",
       "      <th>2</th>\n",
       "      <td>1</td>\n",
       "      <td>6</td>\n",
       "      <td>4.0</td>\n",
       "      <td>964982224</td>\n",
       "      <td>Heat (1995)</td>\n",
       "      <td>Action|Crime|Thriller</td>\n",
       "      <td>113277</td>\n",
       "      <td>949</td>\n",
       "      <td>1995.0</td>\n",
       "      <td>1990s</td>\n",
       "      <td>...</td>\n",
       "      <td>0.021552</td>\n",
       "      <td>0.25431</td>\n",
       "      <td>0.0</td>\n",
       "      <td>0.443966</td>\n",
       "      <td>0.323276</td>\n",
       "      <td>0.482759</td>\n",
       "      <td>0.728448</td>\n",
       "      <td>0.982759</td>\n",
       "      <td>0.426724</td>\n",
       "      <td>0.12931</td>\n",
       "    </tr>\n",
       "    <tr>\n",
       "      <th>3</th>\n",
       "      <td>1</td>\n",
       "      <td>47</td>\n",
       "      <td>5.0</td>\n",
       "      <td>964983815</td>\n",
       "      <td>Seven (a.k.a. Se7en) (1995)</td>\n",
       "      <td>Mystery|Thriller</td>\n",
       "      <td>114369</td>\n",
       "      <td>807</td>\n",
       "      <td>1995.0</td>\n",
       "      <td>1990s</td>\n",
       "      <td>...</td>\n",
       "      <td>0.021552</td>\n",
       "      <td>0.25431</td>\n",
       "      <td>0.0</td>\n",
       "      <td>0.443966</td>\n",
       "      <td>0.323276</td>\n",
       "      <td>0.482759</td>\n",
       "      <td>0.728448</td>\n",
       "      <td>0.982759</td>\n",
       "      <td>0.426724</td>\n",
       "      <td>0.12931</td>\n",
       "    </tr>\n",
       "    <tr>\n",
       "      <th>4</th>\n",
       "      <td>1</td>\n",
       "      <td>50</td>\n",
       "      <td>5.0</td>\n",
       "      <td>964982931</td>\n",
       "      <td>Usual Suspects, The (1995)</td>\n",
       "      <td>Crime|Mystery|Thriller</td>\n",
       "      <td>114814</td>\n",
       "      <td>629</td>\n",
       "      <td>1995.0</td>\n",
       "      <td>1990s</td>\n",
       "      <td>...</td>\n",
       "      <td>0.021552</td>\n",
       "      <td>0.25431</td>\n",
       "      <td>0.0</td>\n",
       "      <td>0.443966</td>\n",
       "      <td>0.323276</td>\n",
       "      <td>0.482759</td>\n",
       "      <td>0.728448</td>\n",
       "      <td>0.982759</td>\n",
       "      <td>0.426724</td>\n",
       "      <td>0.12931</td>\n",
       "    </tr>\n",
       "  </tbody>\n",
       "</table>\n",
       "<p>5 rows × 62 columns</p>\n",
       "</div>"
      ],
      "text/plain": [
       "   userId  movieId  rating  timestamp_x                        title  \\\n",
       "0       1        1     4.0    964982703             Toy Story (1995)   \n",
       "1       1        3     4.0    964981247      Grumpier Old Men (1995)   \n",
       "2       1        6     4.0    964982224                  Heat (1995)   \n",
       "3       1       47     5.0    964983815  Seven (a.k.a. Se7en) (1995)   \n",
       "4       1       50     5.0    964982931   Usual Suspects, The (1995)   \n",
       "\n",
       "                                        genres  imdbId  tmdbId  year_x decade  \\\n",
       "0  Adventure|Animation|Children|Comedy|Fantasy  114709     862  1995.0  1990s   \n",
       "1                               Comedy|Romance  113228   15602  1995.0  1990s   \n",
       "2                        Action|Crime|Thriller  113277     949  1995.0  1990s   \n",
       "3                             Mystery|Thriller  114369     807  1995.0  1990s   \n",
       "4                       Crime|Mystery|Thriller  114814     629  1995.0  1990s   \n",
       "\n",
       "   ...  u_genre_Film-Noir  u_genre_Horror  u_genre_IMAX  u_genre_Musical  \\\n",
       "0  ...           0.021552         0.25431           0.0         0.443966   \n",
       "1  ...           0.021552         0.25431           0.0         0.443966   \n",
       "2  ...           0.021552         0.25431           0.0         0.443966   \n",
       "3  ...           0.021552         0.25431           0.0         0.443966   \n",
       "4  ...           0.021552         0.25431           0.0         0.443966   \n",
       "\n",
       "   u_genre_Mystery  u_genre_Romance  u_genre_Sci-Fi  u_genre_Thriller  \\\n",
       "0         0.323276         0.482759        0.728448          0.982759   \n",
       "1         0.323276         0.482759        0.728448          0.982759   \n",
       "2         0.323276         0.482759        0.728448          0.982759   \n",
       "3         0.323276         0.482759        0.728448          0.982759   \n",
       "4         0.323276         0.482759        0.728448          0.982759   \n",
       "\n",
       "   u_genre_War  u_genre_Western  \n",
       "0     0.426724          0.12931  \n",
       "1     0.426724          0.12931  \n",
       "2     0.426724          0.12931  \n",
       "3     0.426724          0.12931  \n",
       "4     0.426724          0.12931  \n",
       "\n",
       "[5 rows x 62 columns]"
      ]
     },
     "execution_count": 29,
     "metadata": {},
     "output_type": "execute_result"
    }
   ],
   "source": [
    "# join ratings_clean and movie_features_ohe.\n",
    "\n",
    "item_feats = movie_features_ohe.drop(columns=[\"title\"])  # keep if you want; usually not used by ML models\n",
    "df_joined = ratings_clean.merge(item_feats, on=\"movieId\", how=\"left\")\n",
    "\n",
    "# Identify genre columns once\n",
    "genre_cols = [c for c in movie_features_ohe.columns if c.startswith(\"genre_\")]\n",
    "\n",
    "# User-genre profile: average (rating-weighted) genre affinity\n",
    "tmp = (\n",
    "    ratings_clean[[\"userId\", \"rating\", \"movieId\"]]\n",
    "    .merge(movie_features_ohe[[\"movieId\"] + genre_cols], on=\"movieId\", how=\"left\")\n",
    ")\n",
    "\n",
    "# weight genre indicators by rating\n",
    "tmp[genre_cols] = tmp[genre_cols].mul(tmp[\"rating\"], axis=0)\n",
    "\n",
    "user_profile = (tmp.groupby(\"userId\")[genre_cols]\n",
    "                   .mean()\n",
    "                   .add_prefix(\"u_\")\n",
    "                   .reset_index())\n",
    "\n",
    "# Merge user profile + item features + rating label\n",
    "df_train = (ratings_clean\n",
    "            .merge(item_feats, on=\"movieId\", how=\"left\")\n",
    "            .merge(user_profile, on=\"userId\", how=\"left\"))\n",
    "\n",
    "df_train.head()"
   ]
  },
  {
   "cell_type": "markdown",
   "id": "f85c5ec6-5b7c-4db6-b70a-114375e92234",
   "metadata": {},
   "source": [
    "## Modeling"
   ]
  },
  {
   "cell_type": "code",
   "execution_count": 30,
   "id": "44b8878e-81d5-4683-81a2-edd55acd98a6",
   "metadata": {},
   "outputs": [],
   "source": [
    "# Perform data preprocessing  \n",
    "# Clean the data to handle missing values, duplicates and outliers\n",
    "# Normalize or scale numerical features if applicable\n",
    "# One-hot encode categorical data to suitable formats\n",
    "# Split into training and test sets\n",
    "# Choose a recommendation approach ans apply\n",
    "# Build a model using an algorithm of choice - KNN, SVD or deep learning\n",
    "# Train model using hitorical interaction data\n",
    "# optimize the hyperparameters"
   ]
  },
  {
   "cell_type": "markdown",
   "id": "aec047cc-47e6-4b00-83e1-4518b37ef29c",
   "metadata": {},
   "source": [
    "## Evaluation "
   ]
  },
  {
   "cell_type": "code",
   "execution_count": 31,
   "id": "940d2c6a-21e3-4b0f-ac69-9750fbfbe150",
   "metadata": {},
   "outputs": [],
   "source": [
    "# Use metrics such as: \n",
    "#RMSE/MAE for Rating predictions\n",
    "# Precision/Recall/F1 score - For ranking \n",
    "# MAP/NDCG for ordered recommendations"
   ]
  },
  {
   "cell_type": "markdown",
   "id": "881fdb04-1014-4653-b280-9868e75fc408",
   "metadata": {},
   "source": [
    "## Findings and Conclusion"
   ]
  },
  {
   "cell_type": "code",
   "execution_count": 32,
   "id": "9e5372fd-4a70-4933-83e9-8c1bb599a05f",
   "metadata": {},
   "outputs": [],
   "source": [
    "# Use the information above to answer the objectives outlined in the introduction"
   ]
  },
  {
   "cell_type": "markdown",
   "id": "327f25c4-790f-49ed-b1d2-4ffb1f93a8b4",
   "metadata": {},
   "source": [
    "## Recommendations"
   ]
  },
  {
   "cell_type": "code",
   "execution_count": 33,
   "id": "b7a7faee-098f-4a32-8bbe-d4df0ca2ee31",
   "metadata": {},
   "outputs": [],
   "source": [
    "# Make recommendations based on the findings and interest of the stakeholders"
   ]
  }
 ],
 "metadata": {
  "kernelspec": {
   "display_name": "Python (learn-env)",
   "language": "python",
   "name": "learn-env"
  },
  "language_info": {
   "codemirror_mode": {
    "name": "ipython",
    "version": 3
   },
   "file_extension": ".py",
   "mimetype": "text/x-python",
   "name": "python",
   "nbconvert_exporter": "python",
   "pygments_lexer": "ipython3",
   "version": "3.13.5"
  }
 },
 "nbformat": 4,
 "nbformat_minor": 5
}
