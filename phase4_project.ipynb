{
 "cells": [
  {
   "cell_type": "markdown",
   "id": "e6aee8c8-8f8e-4797-a9e5-1f2ed6963616",
   "metadata": {},
   "source": [
    "# Recommendation Systems"
   ]
  },
  {
   "cell_type": "markdown",
   "id": "1f740b0e",
   "metadata": {},
   "source": [
    "![Alt text](Images\\Becauseyouwatched.jpg)"
   ]
  },
  {
   "cell_type": "markdown",
   "id": "400d4772-4168-4f4b-8c81-6d0bbf478b66",
   "metadata": {},
   "source": [
    "## BUSINESS UNDERSTANDING."
   ]
  },
  {
   "cell_type": "markdown",
   "id": "0d624515",
   "metadata": {},
   "source": [
    "## Business Overview.\n",
    "\n",
    "Imagine the number of streaming sites, now imagine the challenges the platform faces: the two main questions being how do they get to help  users discover content they will not only love but also will keep them engaged over time- remember there are thousands of titles available as such users could experience decision fatigue which may lead to lower watch time and or increased churn. Now how about having a well-designed recommendation system that can transform this experience by only surfacing relevant and personalized content that resonates with one's individual taste and preference?\n",
    "\n",
    "This project is therefore designed to build a movie recommendation engine using the MovieLens dataset, with the aim of improving the retention of users through personalized suggestions and we shall do so by analyzing the user ratings and preferences. In the end we shall be able to deliver top five movie recommendations that feel intuitive, relevant and engaging."
   ]
  },
  {
   "cell_type": "markdown",
   "id": "ef3e2f3a",
   "metadata": {},
   "source": [
    "## Problem statement.\n",
    "\n",
    "As we have seen that its really a struggle by users to find content that matches their prefences, especially as more movies gets produced each day. Therefore our question is ***'how can we deliver personalized movie recommendations that will ultimately increase user satsifaction and retention on a streaming platform?'***"
   ]
  },
  {
   "cell_type": "markdown",
   "id": "13808f10",
   "metadata": {},
   "source": [
    "## Stakeholders\n",
    "\n",
    "**Product team**- to improve user engagement & retention through personalization  \n",
    "**Data Scientist**- For building and validating recommendation engine  \n",
    "**Marketing team**- for segmentation and promotion of contetnt based on preferences  \n",
    "**Owners of streaming platforms/ Executive leadership**- Evaluation of ROI of a well designed personalized system on platform performance.\n"
   ]
  },
  {
   "cell_type": "markdown",
   "id": "05c54ed3",
   "metadata": {},
   "source": [
    "## Success Metrics.\n",
    "- Building a model that generates top five movie recommendations per user.\n",
    "- Improvement of user engagement as a result of tailor-making contetnt to user preferences.\n",
    "- Provision of actionable insights for product and marketing team to use.\n",
    "- Visualizing resulsts for non technical team e.g the executive.\n"
   ]
  },
  {
   "cell_type": "markdown",
   "id": "76a3bea7",
   "metadata": {},
   "source": [
    "## Type of Recommendation and Model Evaluation Metrics.\n",
    "This project will be focusing on personalized recommendations, leveraging collaborative filtering to unearth latent user preferances and as a result suggest movies aligned with their taste. Some of the metrics that we may deploy include:\n",
    "\n",
    "- **RMSE/MAE** -For rating prediction accuracy\n",
    "- **Precision, Recall, F1 Score** - For quality ranking.\n",
    "- **Coverage, Diversity** - To help with assessment of recomendation variety & system robustness."
   ]
  },
  {
   "cell_type": "code",
   "execution_count": null,
   "id": "931fc142-075a-4c35-9169-9d808abaeefa",
   "metadata": {},
   "outputs": [],
   "source": [
    "# Eric lead developing here | Lynn, feel free to support co-creation \n",
    "# Address Business overview, problem statement, stakholders, goals/objectives (e.g., product suggestions, movie recommendations, personalized content))\n",
    "# Determine the type of recommendation (personalized vs. non-personalized)\n",
    "# Outline some metrics we may want to use in model evaluation-"
   ]
  },
  {
   "cell_type": "markdown",
   "id": "f54a8c8d-5eab-4231-a40b-5921c145219d",
   "metadata": {},
   "source": [
    "## Data Understanding  "
   ]
  },
  {
   "cell_type": "code",
   "execution_count": null,
   "id": "67d800ba-9480-4fec-aa10-b31684bc61fb",
   "metadata": {},
   "outputs": [],
   "source": [
    "# Load the libraries\n"
   ]
  },
  {
   "cell_type": "code",
   "execution_count": null,
   "id": "43d26e22-8494-453f-98eb-0d899fb8c100",
   "metadata": {},
   "outputs": [],
   "source": [
    "# Load the datasets\n"
   ]
  },
  {
   "cell_type": "code",
   "execution_count": null,
   "id": "41658eea-9758-48d8-8377-478a5e1c2859",
   "metadata": {},
   "outputs": [],
   "source": [
    "# Newton work on the Data Understanding part\n",
    "# Briefly describe each dataset in the CSV format"
   ]
  },
  {
   "cell_type": "markdown",
   "id": "dc20023d-ac29-454c-9778-cc5273aebaf8",
   "metadata": {},
   "source": [
    "## Data Preparation"
   ]
  },
  {
   "cell_type": "code",
   "execution_count": null,
   "id": "5a292aa7-d15b-40d8-8be1-df0acfab3842",
   "metadata": {},
   "outputs": [],
   "source": [
    "# Joackim kindly lead here : Check need to create a single dataframe with desired variables including justifications as part of notes\n"
   ]
  },
  {
   "cell_type": "markdown",
   "id": "f85c5ec6-5b7c-4db6-b70a-114375e92234",
   "metadata": {},
   "source": [
    "## Modeling"
   ]
  },
  {
   "cell_type": "code",
   "execution_count": null,
   "id": "44b8878e-81d5-4683-81a2-edd55acd98a6",
   "metadata": {},
   "outputs": [],
   "source": [
    "# Perform data preprocessing  \n",
    "# Clean the data to handle missing values, duplicates and outliers\n",
    "# Normalize or scale numerical features if applicable\n",
    "# One-hot encode categorical data to suitable formats\n",
    "# Split into training and test sets\n",
    "# Choose a recommendation approach ans apply\n",
    "# Build a model using an algorithm of choice - KNN, SVD or deep learning\n",
    "# Train model using hitorical interaction data\n",
    "# optimize the hyperparameters"
   ]
  },
  {
   "cell_type": "markdown",
   "id": "aec047cc-47e6-4b00-83e1-4518b37ef29c",
   "metadata": {},
   "source": [
    "## Evaluation "
   ]
  },
  {
   "cell_type": "code",
   "execution_count": null,
   "id": "940d2c6a-21e3-4b0f-ac69-9750fbfbe150",
   "metadata": {},
   "outputs": [],
   "source": [
    "# Use metrics such as: \n",
    "#RMSE/MAE for Rating predictions\n",
    "# Precision/Recall/F1 score - For ranking \n",
    "# MAP/NDCG for ordered recommendations"
   ]
  },
  {
   "cell_type": "markdown",
   "id": "881fdb04-1014-4653-b280-9868e75fc408",
   "metadata": {},
   "source": [
    "## Findings and Conclusion"
   ]
  },
  {
   "cell_type": "code",
   "execution_count": null,
   "id": "9e5372fd-4a70-4933-83e9-8c1bb599a05f",
   "metadata": {},
   "outputs": [],
   "source": [
    "# Use the information above to answer the objectives outlined in the introduction"
   ]
  },
  {
   "cell_type": "markdown",
   "id": "327f25c4-790f-49ed-b1d2-4ffb1f93a8b4",
   "metadata": {},
   "source": [
    "## Recommendations"
   ]
  },
  {
   "cell_type": "code",
   "execution_count": null,
   "id": "b7a7faee-098f-4a32-8bbe-d4df0ca2ee31",
   "metadata": {},
   "outputs": [],
   "source": [
    "# Make recommendations based on the findings and interest of the stakeholders"
   ]
  }
 ],
 "metadata": {
  "kernelspec": {
   "display_name": "learn-env",
   "language": "python",
   "name": "python3"
  },
  "language_info": {
   "codemirror_mode": {
    "name": "ipython",
    "version": 3
   },
   "file_extension": ".py",
   "mimetype": "text/x-python",
   "name": "python",
   "nbconvert_exporter": "python",
   "pygments_lexer": "ipython3",
   "version": "3.8.5"
  }
 },
 "nbformat": 4,
 "nbformat_minor": 5
}
