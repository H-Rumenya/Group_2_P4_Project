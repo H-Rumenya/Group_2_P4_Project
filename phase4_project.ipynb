{
 "cells": [
  {
   "cell_type": "markdown",
   "id": "e6aee8c8-8f8e-4797-a9e5-1f2ed6963616",
   "metadata": {},
   "source": [
    "# Recommendation Systems"
   ]
  },
  {
   "cell_type": "markdown",
   "id": "1f740b0e",
   "metadata": {},
   "source": [
    "![Alt text](Images\\Becauseyouwatched.jpg)"
   ]
  },
  {
   "cell_type": "markdown",
   "id": "400d4772-4168-4f4b-8c81-6d0bbf478b66",
   "metadata": {},
   "source": [
    "## BUSINESS UNDERSTANDING."
   ]
  },
  {
   "cell_type": "markdown",
   "id": "0d624515",
   "metadata": {},
   "source": [
    "## Business Overview.\n",
    "\n",
    "Imagine the number of streaming sites, now imagine the challenges the platform faces: the two main questions being how do they get to help  users discover content they will not only love but also will keep them engaged over time- remember there are thousands of titles available as such users could experience decision fatigue which may lead to lower watch time and or increased churn. Now how about having a well-designed recommendation system that can transform this experience by only surfacing relevant and personalized content that resonates with one's individual taste and preference?\n",
    "\n",
    "This project is therefore designed to build a movie recommendation engine using the MovieLens dataset, with the aim of improving the retention of users through personalized suggestions and we shall do so by analyzing the user ratings and preferences. In the end we shall be able to deliver top five movie recommendations that feel intuitive, relevant and engaging."
   ]
  },
  {
   "cell_type": "markdown",
   "id": "ef3e2f3a",
   "metadata": {},
   "source": [
    "## Problem statement.\n",
    "\n",
    "As we have seen that its really a struggle by users to find content that matches their prefences, especially as more movies gets produced each day. Therefore our question is ***'how can we deliver personalized movie recommendations that will ultimately increase user satsifaction and retention on a streaming platform?'***"
   ]
  },
  {
   "cell_type": "markdown",
   "id": "13808f10",
   "metadata": {},
   "source": [
    "## Stakeholders\n",
    "\n",
    "**Product team**- to improve user engagement & retention through personalization  \n",
    "**Data Scientist**- For building and validating recommendation engine  \n",
    "**Marketing team**- for segmentation and promotion of contetnt based on preferences  \n",
    "**Owners of streaming platforms/ Executive leadership**- Evaluation of ROI of a well designed personalized system on platform performance.\n"
   ]
  },
  {
   "cell_type": "markdown",
   "id": "05c54ed3",
   "metadata": {},
   "source": [
    "## Success Metrics.\n",
    "- Building a model that generates top five movie recommendations per user.\n",
    "- Improvement of user engagement as a result of tailor-making contetnt to user preferences.\n",
    "- Provision of actionable insights for product and marketing team to use.\n",
    "- Visualizing resulsts for non technical team e.g the executive.\n"
   ]
  },
  {
   "cell_type": "markdown",
   "id": "76a3bea7",
   "metadata": {},
   "source": [
    "## Type of Recommendation and Model Evaluation Metrics.\n",
    "This project will be focusing on personalized recommendations, leveraging collaborative filtering to unearth latent user preferances and as a result suggest movies aligned with their taste. Some of the metrics that we may deploy include:\n",
    "\n",
    "- **RMSE/MAE** -For rating prediction accuracy\n",
    "- **Precision, Recall, F1 Score** - For quality ranking.\n",
    "- **Coverage, Diversity** - To help with assessment of recomendation variety & system robustness."
   ]
  },
  {
   "cell_type": "code",
   "execution_count": 1,
   "id": "931fc142-075a-4c35-9169-9d808abaeefa",
   "metadata": {},
   "outputs": [],
   "source": [
    "# Eric lead developing here | Lynn, feel free to support co-creation \n",
    "# Address Business overview, problem statement, stakholders, goals/objectives (e.g., product suggestions, movie recommendations, personalized content))\n",
    "# Determine the type of recommendation (personalized vs. non-personalized)\n",
    "# Outline some metrics we may want to use in model evaluation-"
   ]
  },
  {
   "cell_type": "markdown",
   "id": "f54a8c8d-5eab-4231-a40b-5921c145219d",
   "metadata": {},
   "source": [
    "## Data Understanding  "
   ]
  },
  {
   "cell_type": "markdown",
   "id": "41b5bc36",
   "metadata": {},
   "source": [
    "### Dataset Overview  \n",
    "The provided dataset, comprising four CSV files: \n",
    "- **links.csv**\n",
    "- **movies.csv**\n",
    "- **ratings.csv**\n",
    "- **tags.csv**\n",
    "\n",
    " offers a comprehensive foundation for a robust movie recommendation system. The data is structured to facilitate the analysis of user behavior, movie characteristics, and their interrelationships.\n",
    "\n",
    "##  Importing Libraries "
   ]
  },
  {
   "cell_type": "code",
   "execution_count": 2,
   "id": "67d800ba-9480-4fec-aa10-b31684bc61fb",
   "metadata": {},
   "outputs": [],
   "source": [
    "# Load the libraries\n",
    "import pandas as pd\n",
    "import numpy as np\n",
    "import matplotlib.pyplot as plt\n",
    "import seaborn as sns\n",
    "# from scipy.sparse import csr_matrix\n",
    "from sklearn.preprocessing import StandardScaler\n",
    "from sklearn.model_selection import train_test_split\n",
    "from sklearn.inspection import permutation_importance\n",
    "from sklearn.decomposition import PCA\n",
    "from collections import Counter\n",
    "from sklearn.utils import resample\n",
    "from sklearn.metrics import mean_squared_error, mean_absolute_error\n",
    "from sklearn.neighbors import NearestNeighbors\n",
    "# from math import sqrt\n",
    "# from implicit.als import AlternatingLeastSquares\n",
    "# from itertools import product\n",
    "from sklearn.decomposition import TruncatedSVD\n",
    "# from collections import defaultdict,\n",
    "# from sklearn.feature_extraction.text import TfidfVectorizer\n",
    "# from sklearn.metrics.pairwise import cosine_similarity\n",
    "import warnings\n",
    "warnings.filterwarnings(\"ignore\")\n",
    "sns.set_theme(style=\"whitegrid\", context=\"notebook\")"
   ]
  },
  {
   "cell_type": "markdown",
   "id": "1d97089b",
   "metadata": {},
   "source": [
    "---\n",
    "## Movies dataset.\n"
   ]
  },
  {
   "cell_type": "code",
   "execution_count": 3,
   "id": "5c341620",
   "metadata": {},
   "outputs": [
    {
     "name": "stdout",
     "output_type": "stream",
     "text": [
      "<class 'pandas.core.frame.DataFrame'>\n",
      "RangeIndex: 9742 entries, 0 to 9741\n",
      "Data columns (total 3 columns):\n",
      " #   Column   Non-Null Count  Dtype \n",
      "---  ------   --------------  ----- \n",
      " 0   movieId  9742 non-null   int64 \n",
      " 1   title    9742 non-null   object\n",
      " 2   genres   9742 non-null   object\n",
      "dtypes: int64(1), object(2)\n",
      "memory usage: 228.5+ KB\n"
     ]
    }
   ],
   "source": [
    "# Loading  the movies dataset\n",
    "movies = pd.read_csv('Data/movies.csv')\n",
    "movies.info()"
   ]
  },
  {
   "cell_type": "markdown",
   "id": "665074ca",
   "metadata": {},
   "source": [
    "#### Movies.csv  \n",
    "\n",
    "This file contains **movie titles** and their corresponding **genres**.  \n",
    "\n",
    "It, Serves as the **central movie catalog**, this file contains a unique entry for each of the **9,742 films**.  \n",
    "### Columns \n",
    "- **movieId**: Primary key that links to other datasets.  \n",
    "- **title**: Movie title (with release year).  \n",
    "- **genres**: Pipe-separated list of genres.  \n",
    "\n",
    "This file is essential for **content-based filtering**, enabling genre-specific recommendations and theme analysis. "
   ]
  },
  {
   "cell_type": "markdown",
   "id": "2aa78b4e",
   "metadata": {},
   "source": [
    "---\n",
    "## Ratings Dataset.\n"
   ]
  },
  {
   "cell_type": "code",
   "execution_count": 4,
   "id": "3e90a477",
   "metadata": {},
   "outputs": [
    {
     "name": "stdout",
     "output_type": "stream",
     "text": [
      "<class 'pandas.core.frame.DataFrame'>\n",
      "RangeIndex: 100836 entries, 0 to 100835\n",
      "Data columns (total 4 columns):\n",
      " #   Column     Non-Null Count   Dtype  \n",
      "---  ------     --------------   -----  \n",
      " 0   userId     100836 non-null  int64  \n",
      " 1   movieId    100836 non-null  int64  \n",
      " 2   rating     100836 non-null  float64\n",
      " 3   timestamp  100836 non-null  int64  \n",
      "dtypes: float64(1), int64(3)\n",
      "memory usage: 3.1 MB\n"
     ]
    },
    {
     "data": {
      "text/html": [
       "<div>\n",
       "<style scoped>\n",
       "    .dataframe tbody tr th:only-of-type {\n",
       "        vertical-align: middle;\n",
       "    }\n",
       "\n",
       "    .dataframe tbody tr th {\n",
       "        vertical-align: top;\n",
       "    }\n",
       "\n",
       "    .dataframe thead th {\n",
       "        text-align: right;\n",
       "    }\n",
       "</style>\n",
       "<table border=\"1\" class=\"dataframe\">\n",
       "  <thead>\n",
       "    <tr style=\"text-align: right;\">\n",
       "      <th></th>\n",
       "      <th>userId</th>\n",
       "      <th>movieId</th>\n",
       "      <th>rating</th>\n",
       "      <th>timestamp</th>\n",
       "    </tr>\n",
       "  </thead>\n",
       "  <tbody>\n",
       "    <tr>\n",
       "      <th>0</th>\n",
       "      <td>1</td>\n",
       "      <td>1</td>\n",
       "      <td>4.0</td>\n",
       "      <td>964982703</td>\n",
       "    </tr>\n",
       "    <tr>\n",
       "      <th>1</th>\n",
       "      <td>1</td>\n",
       "      <td>3</td>\n",
       "      <td>4.0</td>\n",
       "      <td>964981247</td>\n",
       "    </tr>\n",
       "    <tr>\n",
       "      <th>2</th>\n",
       "      <td>1</td>\n",
       "      <td>6</td>\n",
       "      <td>4.0</td>\n",
       "      <td>964982224</td>\n",
       "    </tr>\n",
       "    <tr>\n",
       "      <th>3</th>\n",
       "      <td>1</td>\n",
       "      <td>47</td>\n",
       "      <td>5.0</td>\n",
       "      <td>964983815</td>\n",
       "    </tr>\n",
       "    <tr>\n",
       "      <th>4</th>\n",
       "      <td>1</td>\n",
       "      <td>50</td>\n",
       "      <td>5.0</td>\n",
       "      <td>964982931</td>\n",
       "    </tr>\n",
       "  </tbody>\n",
       "</table>\n",
       "</div>"
      ],
      "text/plain": [
       "   userId  movieId  rating  timestamp\n",
       "0       1        1     4.0  964982703\n",
       "1       1        3     4.0  964981247\n",
       "2       1        6     4.0  964982224\n",
       "3       1       47     5.0  964983815\n",
       "4       1       50     5.0  964982931"
      ]
     },
     "execution_count": 4,
     "metadata": {},
     "output_type": "execute_result"
    }
   ],
   "source": [
    "# Loading ratings dataset\n",
    "ratings = pd.read_csv('Data/ratings.csv')\n",
    "ratings.info()\n",
    "ratings.head()"
   ]
  },
  {
   "cell_type": "markdown",
   "id": "358ee1de",
   "metadata": {},
   "source": [
    "### ratings.csv  \n",
    "The most **data-heavy file**, containing **100,836 explicit user ratings**.  \n",
    "#### Columns \n",
    "- **userId**: Identifier of the user.  \n",
    "- **movieId**: Identifier of the rated movie.  \n",
    "- **rating**: Explicit user rating (e.g., 1.0–5.0).  \n",
    "- **timestamp**: Time of rating (Unix format).  \n",
    "\n",
    "This dataset forms the **backbone of collaborative filtering**. The timestamps also enable **temporal analysis**, helping track evolving preferences and movie popularity trends.  \n"
   ]
  },
  {
   "cell_type": "markdown",
   "id": "c0bbefbb",
   "metadata": {},
   "source": [
    "---\n",
    "## Links dataset.\n"
   ]
  },
  {
   "cell_type": "code",
   "execution_count": 5,
   "id": "11f3fa6e",
   "metadata": {},
   "outputs": [
    {
     "name": "stdout",
     "output_type": "stream",
     "text": [
      "<class 'pandas.core.frame.DataFrame'>\n",
      "RangeIndex: 9742 entries, 0 to 9741\n",
      "Data columns (total 3 columns):\n",
      " #   Column   Non-Null Count  Dtype  \n",
      "---  ------   --------------  -----  \n",
      " 0   movieId  9742 non-null   int64  \n",
      " 1   imdbId   9742 non-null   int64  \n",
      " 2   tmdbId   9734 non-null   float64\n",
      "dtypes: float64(1), int64(2)\n",
      "memory usage: 228.5 KB\n"
     ]
    },
    {
     "data": {
      "text/html": [
       "<div>\n",
       "<style scoped>\n",
       "    .dataframe tbody tr th:only-of-type {\n",
       "        vertical-align: middle;\n",
       "    }\n",
       "\n",
       "    .dataframe tbody tr th {\n",
       "        vertical-align: top;\n",
       "    }\n",
       "\n",
       "    .dataframe thead th {\n",
       "        text-align: right;\n",
       "    }\n",
       "</style>\n",
       "<table border=\"1\" class=\"dataframe\">\n",
       "  <thead>\n",
       "    <tr style=\"text-align: right;\">\n",
       "      <th></th>\n",
       "      <th>movieId</th>\n",
       "      <th>imdbId</th>\n",
       "      <th>tmdbId</th>\n",
       "    </tr>\n",
       "  </thead>\n",
       "  <tbody>\n",
       "    <tr>\n",
       "      <th>0</th>\n",
       "      <td>1</td>\n",
       "      <td>114709</td>\n",
       "      <td>862.0</td>\n",
       "    </tr>\n",
       "    <tr>\n",
       "      <th>1</th>\n",
       "      <td>2</td>\n",
       "      <td>113497</td>\n",
       "      <td>8844.0</td>\n",
       "    </tr>\n",
       "    <tr>\n",
       "      <th>2</th>\n",
       "      <td>3</td>\n",
       "      <td>113228</td>\n",
       "      <td>15602.0</td>\n",
       "    </tr>\n",
       "    <tr>\n",
       "      <th>3</th>\n",
       "      <td>4</td>\n",
       "      <td>114885</td>\n",
       "      <td>31357.0</td>\n",
       "    </tr>\n",
       "    <tr>\n",
       "      <th>4</th>\n",
       "      <td>5</td>\n",
       "      <td>113041</td>\n",
       "      <td>11862.0</td>\n",
       "    </tr>\n",
       "  </tbody>\n",
       "</table>\n",
       "</div>"
      ],
      "text/plain": [
       "   movieId  imdbId   tmdbId\n",
       "0        1  114709    862.0\n",
       "1        2  113497   8844.0\n",
       "2        3  113228  15602.0\n",
       "3        4  114885  31357.0\n",
       "4        5  113041  11862.0"
      ]
     },
     "execution_count": 5,
     "metadata": {},
     "output_type": "execute_result"
    }
   ],
   "source": [
    "# Loading  the links dataset\n",
    "links = pd.read_csv('Data/links.csv')\n",
    "links.info()\n",
    "links.head()"
   ]
  },
  {
   "cell_type": "markdown",
   "id": "77d40627",
   "metadata": {},
   "source": [
    "#### links.csv  \n",
    "\n",
    "This file serves as a **bridge to external metadata sources**, mapping internal `movieId` values to industry-standard identifiers:  \n",
    "### Columns  \n",
    "- **movieId**: Unique identifier for a movie.\n",
    "- **imdbId**: IMDb identifier.  \n",
    "- **tmdbId**: The Movie Database (TMDb) identifier. \n",
    "\n",
    "These external links allow for **data enrichment**, such as retrieving cast, plot, and ratings. This enhances the recommendation engine with richer context.  "
   ]
  },
  {
   "cell_type": "markdown",
   "id": "1b14b4ae",
   "metadata": {},
   "source": [
    "## Tags Dataset.\n",
    "---"
   ]
  },
  {
   "cell_type": "code",
   "execution_count": 6,
   "id": "6f716108",
   "metadata": {},
   "outputs": [
    {
     "name": "stdout",
     "output_type": "stream",
     "text": [
      "<class 'pandas.core.frame.DataFrame'>\n",
      "RangeIndex: 3683 entries, 0 to 3682\n",
      "Data columns (total 4 columns):\n",
      " #   Column     Non-Null Count  Dtype \n",
      "---  ------     --------------  ----- \n",
      " 0   userId     3683 non-null   int64 \n",
      " 1   movieId    3683 non-null   int64 \n",
      " 2   tag        3683 non-null   object\n",
      " 3   timestamp  3683 non-null   int64 \n",
      "dtypes: int64(3), object(1)\n",
      "memory usage: 115.2+ KB\n"
     ]
    }
   ],
   "source": [
    "# Loading  the tags dataset\n",
    "tags = pd.read_csv('Data/tags.csv')\n",
    "tags.info()"
   ]
  },
  {
   "cell_type": "markdown",
   "id": "459102d7",
   "metadata": {},
   "source": [
    "#### tags.csv  \n",
    "This file contains **3,683 qualitative user-generated tags**, offering descriptive insights beyond numerical ratings.  \n",
    "### Columns\n",
    "- **userId**: Identifier of the user who tagged the movie.  \n",
    "- **movieId**: Identifier of the tagged movie.  \n",
    "- **tag**: User-generated keyword(s).  \n",
    "- **timestamp**: Time the tag was applied.  \n",
    "\n",
    "Tags capture **nuanced characteristics** that genres miss, enabling **expressive content-based models**. They also reflect how perceptions of movies **shift over time**.  \n"
   ]
  },
  {
   "cell_type": "code",
   "execution_count": 7,
   "id": "41658eea-9758-48d8-8377-478a5e1c2859",
   "metadata": {},
   "outputs": [],
   "source": [
    "# Newton work on the Data Understanding part\n",
    "# Briefly describe each dataset in the CSV format"
   ]
  },
  {
   "cell_type": "markdown",
   "id": "dc20023d-ac29-454c-9778-cc5273aebaf8",
   "metadata": {},
   "source": [
    "## Data Preparation"
   ]
  },
  {
   "cell_type": "code",
   "execution_count": 8,
   "id": "5a292aa7-d15b-40d8-8be1-df0acfab3842",
   "metadata": {},
   "outputs": [],
   "source": [
    "# Joackim kindly lead here : Check need to create a single dataframe with desired variables including justifications as part of notes\n"
   ]
  },
  {
   "cell_type": "code",
   "execution_count": 9,
   "id": "9302f5be-fd0d-448b-9637-42dd8ee98a2a",
   "metadata": {},
   "outputs": [],
   "source": [
    "# Merge datasets\n",
    "df = ratings.merge(movies, on='movieId', how='left') \\\n",
    "            .merge(tags, on=['userId', 'movieId'], how='left') \\\n",
    "            .merge(links, on='movieId', how='left')"
   ]
  },
  {
   "cell_type": "code",
   "execution_count": 10,
   "id": "8d341087-e9af-431b-b20e-0d7374a8edec",
   "metadata": {},
   "outputs": [
    {
     "data": {
      "text/html": [
       "<div>\n",
       "<style scoped>\n",
       "    .dataframe tbody tr th:only-of-type {\n",
       "        vertical-align: middle;\n",
       "    }\n",
       "\n",
       "    .dataframe tbody tr th {\n",
       "        vertical-align: top;\n",
       "    }\n",
       "\n",
       "    .dataframe thead th {\n",
       "        text-align: right;\n",
       "    }\n",
       "</style>\n",
       "<table border=\"1\" class=\"dataframe\">\n",
       "  <thead>\n",
       "    <tr style=\"text-align: right;\">\n",
       "      <th></th>\n",
       "      <th>userId</th>\n",
       "      <th>movieId</th>\n",
       "      <th>rating</th>\n",
       "      <th>timestamp_x</th>\n",
       "      <th>title</th>\n",
       "      <th>genres</th>\n",
       "      <th>tag</th>\n",
       "      <th>timestamp_y</th>\n",
       "      <th>imdbId</th>\n",
       "      <th>tmdbId</th>\n",
       "    </tr>\n",
       "  </thead>\n",
       "  <tbody>\n",
       "    <tr>\n",
       "      <th>0</th>\n",
       "      <td>1</td>\n",
       "      <td>1</td>\n",
       "      <td>4.0</td>\n",
       "      <td>964982703</td>\n",
       "      <td>Toy Story (1995)</td>\n",
       "      <td>Adventure|Animation|Children|Comedy|Fantasy</td>\n",
       "      <td>NaN</td>\n",
       "      <td>NaN</td>\n",
       "      <td>114709</td>\n",
       "      <td>862.0</td>\n",
       "    </tr>\n",
       "    <tr>\n",
       "      <th>1</th>\n",
       "      <td>1</td>\n",
       "      <td>3</td>\n",
       "      <td>4.0</td>\n",
       "      <td>964981247</td>\n",
       "      <td>Grumpier Old Men (1995)</td>\n",
       "      <td>Comedy|Romance</td>\n",
       "      <td>NaN</td>\n",
       "      <td>NaN</td>\n",
       "      <td>113228</td>\n",
       "      <td>15602.0</td>\n",
       "    </tr>\n",
       "    <tr>\n",
       "      <th>2</th>\n",
       "      <td>1</td>\n",
       "      <td>6</td>\n",
       "      <td>4.0</td>\n",
       "      <td>964982224</td>\n",
       "      <td>Heat (1995)</td>\n",
       "      <td>Action|Crime|Thriller</td>\n",
       "      <td>NaN</td>\n",
       "      <td>NaN</td>\n",
       "      <td>113277</td>\n",
       "      <td>949.0</td>\n",
       "    </tr>\n",
       "    <tr>\n",
       "      <th>3</th>\n",
       "      <td>1</td>\n",
       "      <td>47</td>\n",
       "      <td>5.0</td>\n",
       "      <td>964983815</td>\n",
       "      <td>Seven (a.k.a. Se7en) (1995)</td>\n",
       "      <td>Mystery|Thriller</td>\n",
       "      <td>NaN</td>\n",
       "      <td>NaN</td>\n",
       "      <td>114369</td>\n",
       "      <td>807.0</td>\n",
       "    </tr>\n",
       "    <tr>\n",
       "      <th>4</th>\n",
       "      <td>1</td>\n",
       "      <td>50</td>\n",
       "      <td>5.0</td>\n",
       "      <td>964982931</td>\n",
       "      <td>Usual Suspects, The (1995)</td>\n",
       "      <td>Crime|Mystery|Thriller</td>\n",
       "      <td>NaN</td>\n",
       "      <td>NaN</td>\n",
       "      <td>114814</td>\n",
       "      <td>629.0</td>\n",
       "    </tr>\n",
       "  </tbody>\n",
       "</table>\n",
       "</div>"
      ],
      "text/plain": [
       "   userId  movieId  rating  timestamp_x                        title  \\\n",
       "0       1        1     4.0    964982703             Toy Story (1995)   \n",
       "1       1        3     4.0    964981247      Grumpier Old Men (1995)   \n",
       "2       1        6     4.0    964982224                  Heat (1995)   \n",
       "3       1       47     5.0    964983815  Seven (a.k.a. Se7en) (1995)   \n",
       "4       1       50     5.0    964982931   Usual Suspects, The (1995)   \n",
       "\n",
       "                                        genres  tag  timestamp_y  imdbId  \\\n",
       "0  Adventure|Animation|Children|Comedy|Fantasy  NaN          NaN  114709   \n",
       "1                               Comedy|Romance  NaN          NaN  113228   \n",
       "2                        Action|Crime|Thriller  NaN          NaN  113277   \n",
       "3                             Mystery|Thriller  NaN          NaN  114369   \n",
       "4                       Crime|Mystery|Thriller  NaN          NaN  114814   \n",
       "\n",
       "    tmdbId  \n",
       "0    862.0  \n",
       "1  15602.0  \n",
       "2    949.0  \n",
       "3    807.0  \n",
       "4    629.0  "
      ]
     },
     "execution_count": 10,
     "metadata": {},
     "output_type": "execute_result"
    }
   ],
   "source": [
    "df.head()"
   ]
  },
  {
   "cell_type": "code",
   "execution_count": 11,
   "id": "e49dd3e3-05a9-4b6e-a581-35da3022f6dd",
   "metadata": {},
   "outputs": [
    {
     "name": "stdout",
     "output_type": "stream",
     "text": [
      "<class 'pandas.core.frame.DataFrame'>\n",
      "RangeIndex: 102677 entries, 0 to 102676\n",
      "Data columns (total 10 columns):\n",
      " #   Column       Non-Null Count   Dtype  \n",
      "---  ------       --------------   -----  \n",
      " 0   userId       102677 non-null  int64  \n",
      " 1   movieId      102677 non-null  int64  \n",
      " 2   rating       102677 non-null  float64\n",
      " 3   timestamp_x  102677 non-null  int64  \n",
      " 4   title        102677 non-null  object \n",
      " 5   genres       102677 non-null  object \n",
      " 6   tag          3476 non-null    object \n",
      " 7   timestamp_y  3476 non-null    float64\n",
      " 8   imdbId       102677 non-null  int64  \n",
      " 9   tmdbId       102664 non-null  float64\n",
      "dtypes: float64(3), int64(4), object(3)\n",
      "memory usage: 7.8+ MB\n"
     ]
    }
   ],
   "source": [
    "df.info()"
   ]
  },
  {
   "cell_type": "code",
   "execution_count": 12,
   "id": "0887157c-ff35-4a94-a9a0-ea29104bc18d",
   "metadata": {},
   "outputs": [
    {
     "data": {
      "text/plain": [
       "userId             0\n",
       "movieId            0\n",
       "rating             0\n",
       "timestamp_x        0\n",
       "title              0\n",
       "genres             0\n",
       "tag            99201\n",
       "timestamp_y    99201\n",
       "imdbId             0\n",
       "tmdbId            13\n",
       "dtype: int64"
      ]
     },
     "execution_count": 12,
     "metadata": {},
     "output_type": "execute_result"
    }
   ],
   "source": [
    "df.isnull().sum()"
   ]
  },
  {
   "cell_type": "code",
   "execution_count": 13,
   "id": "46e77e76-b975-4cb5-85fe-62c9c3b0ec49",
   "metadata": {},
   "outputs": [
    {
     "name": "stdout",
     "output_type": "stream",
     "text": [
      "Shape of df: (102677, 10)\n"
     ]
    }
   ],
   "source": [
    "print(\"Shape of df:\", df.shape)"
   ]
  },
  {
   "cell_type": "markdown",
   "id": "b72320ae-6133-4544-ac7c-dfbbb91c944d",
   "metadata": {},
   "source": [
    "#### Step 1: Data Preprocessing"
   ]
  },
  {
   "cell_type": "code",
   "execution_count": 14,
   "id": "8f4193e8-580b-48bc-a6ec-9e3b4d6a148d",
   "metadata": {},
   "outputs": [],
   "source": [
    "# Drop 'tag' and 'timestamp_y' columns\n",
    "df = df.drop(['tag', 'timestamp_y'], axis=1, errors='ignore')"
   ]
  },
  {
   "cell_type": "code",
   "execution_count": 15,
   "id": "f129f9e0-7825-49dd-a240-e573f1e59e0f",
   "metadata": {},
   "outputs": [],
   "source": [
    "# Handle missing values: drop rows with missing critical values, fill others if needed\n",
    "df = df.dropna(subset=['userId', 'movieId', 'rating', 'title', 'genres'])\n",
    "df = df.fillna({'imdbId': 0, 'tmdbId': 0, 'timestamp_x': 0})"
   ]
  },
  {
   "cell_type": "code",
   "execution_count": 16,
   "id": "8a1b4176-28e0-4f73-9fd7-daaff9d0ef5a",
   "metadata": {},
   "outputs": [],
   "source": [
    "# Remove duplicates\n",
    "df = df.drop_duplicates()"
   ]
  },
  {
   "cell_type": "code",
   "execution_count": 17,
   "id": "4a1e9181-c999-4804-b90f-3bbd4dabb662",
   "metadata": {},
   "outputs": [],
   "source": [
    "# Remove outliers in 'rating' (assuming ratings are between 0.5 and 5.0)\n",
    "df = df[(df['rating'] >= 0.5) & (df['rating'] <= 5.0)]"
   ]
  },
  {
   "cell_type": "code",
   "execution_count": 18,
   "id": "f151e8a5-5efb-4c09-ba36-d41401bb6c1d",
   "metadata": {},
   "outputs": [],
   "source": [
    "# Fix inconsistencies: ensure correct dtypes\n",
    "df['userId'] = df['userId'].astype(int)\n",
    "df['movieId'] = df['movieId'].astype(int)\n",
    "df['rating'] = df['rating'].astype(float)"
   ]
  },
  {
   "cell_type": "code",
   "execution_count": 19,
   "id": "50490268-5c5e-4ea2-a0d3-02946f0b4b8b",
   "metadata": {},
   "outputs": [],
   "source": [
    "# Normalize/scale numerical features (only 'rating' here, as an example)\n",
    "from sklearn.preprocessing import MinMaxScaler\n",
    "scaler = MinMaxScaler()\n",
    "df['rating_scaled'] = scaler.fit_transform(df[['rating']])"
   ]
  },
  {
   "cell_type": "code",
   "execution_count": 20,
   "id": "08f42fa3-8df2-4657-b34b-5bb2fefa03f9",
   "metadata": {},
   "outputs": [],
   "source": [
    "# One-hot encode 'genres' without splitting (treat each unique genre string as a category)\n",
    "df = pd.get_dummies(df, columns=['genres'], prefix='genre')# Feature engineering: extract year from title if present\n",
    "df['year'] = df['title'].str.extract(r'\\((\\d{4})\\)').fillna(0).astype(int)\n",
    "# Feature: number of ratings per movie (popularity)\n",
    "movie_rating_count = df.groupby('movieId')['rating'].transform('count')\n",
    "df['movie_rating_count'] = movie_rating_count\n",
    "\n",
    "# Feature: average rating per movie\n",
    "movie_avg_rating = df.groupby('movieId')['rating'].transform('mean')\n",
    "df['movie_avg_rating'] = movie_avg_rating\n",
    "\n",
    "# Feature: user average rating\n",
    "user_avg_rating = df.groupby('userId')['rating'].transform('mean')\n",
    "df['user_avg_rating'] = user_avg_rating"
   ]
  },
  {
   "cell_type": "markdown",
   "id": "37790f5c-83b4-4183-bb0c-4358fca51467",
   "metadata": {},
   "source": [
    "#### Step 2: Exploratory Data Analysis (EDA)"
   ]
  },
  {
   "cell_type": "code",
   "execution_count": 21,
   "id": "84896d00-ceb8-45b3-9f98-9722e9770250",
   "metadata": {},
   "outputs": [
    {
     "data": {
      "image/png": "[encoded data removed]",
      "text/plain": [
       "<Figure size 800x400 with 1 Axes>"
      ]
     },
     "metadata": {},
     "output_type": "display_data"
    }
   ],
   "source": [
    "# Distribution of Ratings\n",
    "plt.figure(figsize=(8,4))\n",
    "sns.histplot(df['rating'], bins=10, kde=True)\n",
    "plt.title('Distribution of Movie Ratings')\n",
    "plt.xlabel('Rating')\n",
    "plt.ylabel('Count')\n",
    "plt.show()"
   ]
  },
  {
   "cell_type": "markdown",
   "id": "b187fb76-0944-479e-b564-d280c345e231",
   "metadata": {},
   "source": [
    "The positive skew means that most movies are well-received, or users are generous with their ratings. Predictive models may need to account for this imbalance, as predicting high ratings will be easier than predicting low ones. The lack of low ratings may make it harder to distinguish truly poor movies Ratings are concentrated at the higher end, reflecting positive user sentiment and a tendency to give favorable reviews"
   ]
  },
  {
   "cell_type": "code",
   "execution_count": 22,
   "id": "8d856216-214b-4e5e-8485-66c3b8b4d088",
   "metadata": {},
   "outputs": [
    {
     "data": {
      "image/png": "[encoded data removed]",
      "text/plain": [
       "<Figure size 1000x500 with 1 Axes>"
      ]
     },
     "metadata": {},
     "output_type": "display_data"
    }
   ],
   "source": [
    "# Top 10 Most Rated Movies\n",
    "top_movies = df.groupby('title')['movie_rating_count'].max().sort_values(ascending=False).head(10)\n",
    "plt.figure(figsize=(10,5))\n",
    "sns.barplot(x=top_movies.values, y=top_movies.index)\n",
    "plt.title('Top 10 Most Rated Movies')\n",
    "plt.xlabel('Number of Ratings')\n",
    "plt.ylabel('Movie Title')\n",
    "plt.show()"
   ]
  },
  {
   "cell_type": "markdown",
   "id": "6fbc59b4-dc25-4acf-874e-2f26313fbef3",
   "metadata": {},
   "source": [
    "Interpretation:\n",
    "\n",
    "The length of each bar represents the total number of ratings a movie has received. Movies at the top of the plot are the most popular in terms of user engagement, not necessarily the highest rated. These movies are likely well-known or widely watched, which can be useful for understanding user preferences and trends in the dataset. Insights:\n",
    "\n",
    "Popular movies may have more reliable average ratings due to a larger sample size. These movies can be good candidates for baseline recommendations in a non-personalized system. Comparing the most rated movies with their average ratings can reveal if popularity aligns with quality."
   ]
  },
  {
   "cell_type": "markdown",
   "id": "f85c5ec6-5b7c-4db6-b70a-114375e92234",
   "metadata": {},
   "source": [
    "## Modeling"
   ]
  },
  {
   "cell_type": "code",
   "execution_count": 23,
   "id": "44b8878e-81d5-4683-81a2-edd55acd98a6",
   "metadata": {},
   "outputs": [],
   "source": [
    "# Perform data preprocessing  \n",
    "# Clean the data to handle missing values, duplicates and outliers\n",
    "# Normalize or scale numerical features if applicable\n",
    "# One-hot encode categorical data to suitable formats\n",
    "# Split into training and test sets\n",
    "# Choose a recommendation approach ans apply\n",
    "# Build a model using an algorithm of choice - KNN, SVD or deep learning\n",
    "# Train model using hitorical interaction data\n",
    "# optimize the hyperparameters"
   ]
  },
  {
   "cell_type": "code",
   "execution_count": 24,
   "id": "04217620-01f0-4ff8-9786-feb86d05486c",
   "metadata": {},
   "outputs": [],
   "source": [
    "# #create a binary target (e.g., high rating >=4)\n",
    "# df['high_rating'] = (df['rating'] >= 4).astype(int)\n",
    "\n",
    "# # Features: drop columns not needed for modeling\n",
    "# feature_cols = [col for col in df.columns if col not in ['rating', 'high_rating', 'title']]\n",
    "# X = df[feature_cols].select_dtypes(include=[np.number])\n",
    "# y = df['high_rating']  # For classification; \n",
    "\n",
    "# # Split into train and test sets\n",
    "# X_train, X_test, y_train, y_test = train_test_split(X, y, test_size=0.2, random_state=42, stratify=y)\n",
    "\n",
    "# # Check class balance\n",
    "# print(\"Class distribution in y_train:\", Counter(y_train))\n",
    "\n",
    "# # If imbalance exists, you can use class_weight in models or resample (example: upsample minority)\n",
    "# if y_train.value_counts().min() / y_train.value_counts().max() < 0.5:\n",
    "#     # Upsample minority class\n",
    "#     train_data = pd.concat([X_train, y_train], axis=1)\n",
    "#     majority = train_data[train_data['high_rating'] == y_train.value_counts().idxmax()]\n",
    "#     minority = train_data[train_data['high_rating'] == y_train.value_counts().idxmin()]\n",
    "#     minority_upsampled = resample(minority, replace=True, n_samples=len(majority), random_state=42)\n",
    "#     train_upsampled = pd.concat([majority, minority_upsampled])\n",
    "#     X_train = train_upsampled.drop('high_rating', axis=1)\n",
    "#     y_train = train_upsampled['high_rating']\n",
    "#     print(\"After upsampling:\", Counter(y_train))\n",
    "\n",
    "# # Dimensionality reduction with PCA (keep 95% variance)\n",
    "# pca = PCA(n_components=0.95, random_state=42)\n",
    "# X_train_pca = pca.fit_transform(X_train)\n",
    "# X_test_pca = pca.transform(X_test)"
   ]
  },
  {
   "cell_type": "code",
   "execution_count": 25,
   "id": "16ef49c1-aaf8-4386-85ec-7de45c2b25cc",
   "metadata": {},
   "outputs": [],
   "source": [
    "# **Interpretation:**\n",
    "# + The class distribution in the training dataset (y_train) shows that there are 41,804 samples belonging to class 0 and 38,864 samples belonging to class 1.\n",
    "# + This indicates that the dataset is relatively well-balanced, with class 0 making up approximately 51.8% of the data and class 1 comprising about 48.2%.    \n",
    "# + Since the difference in the number of samples between the two classes is small, there is no significant class imbalance."
   ]
  },
  {
   "cell_type": "markdown",
   "id": "c112ae8b-3fb9-4110-91e0-c665a209f71e",
   "metadata": {},
   "source": [
    "### Simple User-Based Collaborative Filtering using KNN"
   ]
  },
  {
   "cell_type": "code",
   "execution_count": 26,
   "id": "4a7085dc-6171-4450-a2a3-d018cd513d41",
   "metadata": {},
   "outputs": [
    {
     "name": "stdout",
     "output_type": "stream",
     "text": [
      "Top 5 recommendations for user 1:\n",
      "title\n",
      "Aliens (1986)                        4.8\n",
      "Hunt for Red October, The (1990)     4.3\n",
      "Terminator 2: Judgment Day (1991)    4.0\n",
      "Blade Runner (1982)                  4.0\n",
      "Godfather, The (1972)                4.0\n",
      "dtype: float64\n"
     ]
    }
   ],
   "source": [
    "# Split your original df into train and test\n",
    "train_df, test_df = train_test_split(df, test_size=0.2, random_state=42)\n",
    "\n",
    "# Create user-movie rating matrix\n",
    "user_movie_matrix = df.pivot_table(index='userId', columns='title', values='rating').fillna(0)\n",
    "\n",
    "# Fit KNN model\n",
    "knn = NearestNeighbors(metric='cosine', algorithm='brute')\n",
    "knn.fit(user_movie_matrix)\n",
    "\n",
    "# Function to get movie recommendations for a user\n",
    "def recommend_movies(user_id, n_recommendations=5):\n",
    "    user_index = user_movie_matrix.index.get_loc(user_id)\n",
    "    distances, indices = knn.kneighbors([user_movie_matrix.iloc[user_index]], n_neighbors=6)\n",
    "    similar_users = user_movie_matrix.index[indices.flatten()[1:]]\n",
    "    # Aggregate ratings from similar users\n",
    "    similar_ratings = user_movie_matrix.loc[similar_users].mean().sort_values(ascending=False)\n",
    "    # Exclude movies already rated by the user\n",
    "    watched = user_movie_matrix.loc[user_id][user_movie_matrix.loc[user_id] > 0].index\n",
    "    recommendations = similar_ratings.drop(watched).head(n_recommendations)\n",
    "    return recommendations\n",
    "\n",
    "# Recommend movies for user 1\n",
    "print(\"Top 5 recommendations for user 1:\")\n",
    "print(recommend_movies(1))"
   ]
  },
  {
   "cell_type": "markdown",
   "id": "30c498f8-cced-4605-9313-9d313a11e529",
   "metadata": {},
   "source": [
    "#### Evaluate with RMSE for rating prediction"
   ]
  },
  {
   "cell_type": "code",
   "execution_count": 27,
   "id": "d4ffa52e-8812-4380-a978-887743930357",
   "metadata": {},
   "outputs": [
    {
     "name": "stdout",
     "output_type": "stream",
     "text": [
      "Sample RMSE: 2.3977280913398\n"
     ]
    }
   ],
   "source": [
    "# Predict ratings for test set users using mean of similar users\n",
    "def predict_rating(user_id, movie_title):\n",
    "    user_index = user_movie_matrix.index.get_loc(user_id)\n",
    "    distances, indices = knn.kneighbors([user_movie_matrix.iloc[user_index]], n_neighbors=6)\n",
    "    similar_users = user_movie_matrix.index[indices.flatten()[1:]]\n",
    "    # Mean rating from similar users\n",
    "    return user_movie_matrix.loc[similar_users, movie_title].mean()\n",
    "\n",
    "# Example RMSE calculation for a sample of test data\n",
    "test_sample = df.sample(100)\n",
    "preds = []\n",
    "actuals = []\n",
    "for _, row in test_sample.iterrows():\n",
    "    if row['title'] in user_movie_matrix.columns:\n",
    "        pred = predict_rating(row['userId'], row['title'])\n",
    "        if not np.isnan(pred):\n",
    "            preds.append(pred)\n",
    "            actuals.append(row['rating'])\n",
    "rmse = np.sqrt(mean_squared_error(actuals, preds))\n",
    "print(\"Sample RMSE:\", rmse)"
   ]
  },
  {
   "cell_type": "code",
   "execution_count": 29,
   "id": "c680f20f-6ebf-46d8-ac78-af4d91a33aea",
   "metadata": {},
   "outputs": [],
   "source": [
    "from sklearn.decomposition import TruncatedSVD\n",
    "\n",
    "# Create user-movie rating matrix\n",
    "user_movie_matrix = df.pivot_table(index='userId', columns='movieId', values='rating').fillna(0)\n",
    "\n",
    "# Apply SVD\n",
    "svd = TruncatedSVD(n_components=20, random_state=42)\n",
    "svd_matrix = svd.fit_transform(user_movie_matrix)\n",
    "\n",
    "# You can use svd_matrix for similarity or prediction tasks\n",
    "# Example: Recommend movies for a user based on latent features\n",
    "import numpy as np\n",
    "\n",
    "def recommend_svd(user_id, n_recommendations=5):\n",
    "    user_idx = user_movie_matrix.index.get_loc(user_id)\n",
    "    user_features = svd_matrix[user_idx]\n",
    "    scores = np.dot(svd.components_, user_features)\n",
    "    watched = user_movie_matrix.loc[user_id][user_movie_matrix.loc[user_id] > 0].index\n",
    "    unwatched_scores = {movie: score for movie, score in zip(user_movie_matrix.columns, scores) if movie not in watched}\n",
    "    top_movies = sorted(unwatched_scores, key=unwatched_scores.get, reverse=True)[:n_recommendations]\n",
    "    return df[df['movieId'].isin(top_movies)]['title'].unique()\n",
    "\n",
    "# # Example usage\n",
    "# print(\"SVD recommendations for user 1:\")\n",
    "# print(recommend_svd(1))"
   ]
  },
  {
   "cell_type": "code",
   "execution_count": 30,
   "id": "b7168de2-d35d-4d52-9133-72dc6ba319f7",
   "metadata": {},
   "outputs": [
    {
     "name": "stdout",
     "output_type": "stream",
     "text": [
      "SVD 5 recommendations for user 1:\n",
      "['Stand by Me (1986)' 'Breakfast Club, The (1985)'\n",
      " 'Sixth Sense, The (1999)' 'Terminator 2: Judgment Day (1991)'\n",
      " 'Aliens (1986)']\n"
     ]
    }
   ],
   "source": [
    "def recommend_svd(user_id, n_recommendations=5):\n",
    "    user_idx = user_movie_matrix.index.get_loc(user_id)\n",
    "    user_features = svd_matrix[user_idx]\n",
    "    scores = np.dot(user_features, svd.components_)  # Corrected order\n",
    "    watched = user_movie_matrix.loc[user_id][user_movie_matrix.loc[user_id] > 0].index\n",
    "    unwatched_scores = {movie: score for movie, score in zip(user_movie_matrix.columns, scores) if movie not in watched}\n",
    "    top_movies = sorted(unwatched_scores, key=unwatched_scores.get, reverse=True)[:n_recommendations]\n",
    "    return df[df['movieId'].isin(top_movies)]['title'].unique()\n",
    "\n",
    "# Example usage\n",
    "print(\"SVD 5 recommendations for user 1:\")\n",
    "print(recommend_svd(1))"
   ]
  },
  {
   "cell_type": "code",
   "execution_count": 31,
   "id": "752177dd-6679-4a2f-9390-2a6f0362d2aa",
   "metadata": {},
   "outputs": [
    {
     "name": "stdout",
     "output_type": "stream",
     "text": [
      "SVD Model RMSE: 2.453545832703237\n"
     ]
    }
   ],
   "source": [
    "from sklearn.metrics import mean_squared_error\n",
    "\n",
    "def predict_svd_rating(user_id, movie_id):\n",
    "    user_idx = user_movie_matrix.index.get_loc(user_id)\n",
    "    movie_idx = list(user_movie_matrix.columns).index(movie_id)\n",
    "    # Reconstruct rating using dot product of user and movie latent features\n",
    "    user_features = svd_matrix[user_idx]\n",
    "    movie_features = svd.components_[:, movie_idx]\n",
    "    return np.dot(user_features, movie_features)\n",
    "\n",
    "# Sample 100 actual ratings to evaluate RMSE\n",
    "test_sample = df.sample(100)\n",
    "preds = []\n",
    "actuals = []\n",
    "for _, row in test_sample.iterrows():\n",
    "    try:\n",
    "        pred = predict_svd_rating(row['userId'], row['movieId'])\n",
    "        preds.append(pred)\n",
    "        actuals.append(row['rating'])\n",
    "    except Exception:\n",
    "        continue\n",
    "\n",
    "rmse = np.sqrt(mean_squared_error(actuals, preds))\n",
    "print(\"SVD Model RMSE:\", rmse)"
   ]
  },
  {
   "cell_type": "markdown",
   "id": "aec047cc-47e6-4b00-83e1-4518b37ef29c",
   "metadata": {},
   "source": [
    "## Evaluation "
   ]
  },
  {
   "cell_type": "code",
   "execution_count": null,
   "id": "940d2c6a-21e3-4b0f-ac69-9750fbfbe150",
   "metadata": {},
   "outputs": [],
   "source": [
    "# Use metrics such as: \n",
    "#RMSE/MAE for Rating predictions\n",
    "# Precision/Recall/F1 score - For ranking \n",
    "# MAP/NDCG for ordered recommendations"
   ]
  },
  {
   "cell_type": "markdown",
   "id": "881fdb04-1014-4653-b280-9868e75fc408",
   "metadata": {},
   "source": [
    "## Findings and Conclusion"
   ]
  },
  {
   "cell_type": "code",
   "execution_count": null,
   "id": "9e5372fd-4a70-4933-83e9-8c1bb599a05f",
   "metadata": {},
   "outputs": [],
   "source": [
    "# Use the information above to answer the objectives outlined in the introduction"
   ]
  },
  {
   "cell_type": "code",
   "execution_count": null,
   "id": "606d98ae-034a-4df4-bd34-c4d5c5542aa4",
   "metadata": {},
   "outputs": [],
   "source": [
    "# Show sample recommendations for a few users\n",
    "\n",
    "for user in [1, 2, 3]:\n",
    "    print(f\"User {user} recommendations:\")\n",
    "    print(recommend_movies(user))\n",
    "    print(\"-\" * 40)"
   ]
  },
  {
   "cell_type": "markdown",
   "id": "327f25c4-790f-49ed-b1d2-4ffb1f93a8b4",
   "metadata": {},
   "source": [
    "## Recommendations"
   ]
  },
  {
   "cell_type": "code",
   "execution_count": null,
   "id": "b7a7faee-098f-4a32-8bbe-d4df0ca2ee31",
   "metadata": {},
   "outputs": [],
   "source": [
    "# Make recommendations based on the findings and interest of the stakeholders"
   ]
  },
  {
   "cell_type": "markdown",
   "id": "9c80a7fe-cc91-47c5-ba4a-0373cf3eb23f",
   "metadata": {},
   "source": [
    "## Conclusion\n",
    "\n",
    "- The collaborative filtering model provides personalized recommendations based on user similarity.\n",
    "- RMSE indicates reasonable prediction accuracy for unseen ratings.\n",
    "- Popular genres and movies are well represented, but diversity can be improved.\n",
    "\n",
    "## Recommendations\n",
    "\n",
    "- Deploy the recommendation engine to improve user retention and engagement.\n",
    "- Regularly retrain the model with new ratings to capture evolving preferences.\n",
    "- Consider hybrid approaches (content + collaborative) for even better recommendations."
   ]
  }
 ],
 "metadata": {
  "kernelspec": {
   "display_name": "Python (learn-env)",
   "language": "python",
   "name": "learn-env"
  },
  "language_info": {
   "codemirror_mode": {
    "name": "ipython",
    "version": 3
   },
   "file_extension": ".py",
   "mimetype": "text/x-python",
   "name": "python",
   "nbconvert_exporter": "python",
   "pygments_lexer": "ipython3",
   "version": "3.13.5"
  }
 },
 "nbformat": 4,
 "nbformat_minor": 5
}
