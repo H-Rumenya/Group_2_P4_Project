{
 "cells": [
  {
   "cell_type": "markdown",
   "id": "e6aee8c8-8f8e-4797-a9e5-1f2ed6963616",
   "metadata": {},
   "source": [
    "# Recommendation Systems"
   ]
  },
  {
   "cell_type": "markdown",
   "id": "1f740b0e",
   "metadata": {},
   "source": [
    "![Alt text](Images\\Becauseyouwatched.jpg)"
   ]
  },
  {
   "cell_type": "markdown",
   "id": "400d4772-4168-4f4b-8c81-6d0bbf478b66",
   "metadata": {},
   "source": [
    "## BUSINESS UNDERSTANDING."
   ]
  },
  {
   "cell_type": "markdown",
   "id": "0d624515",
   "metadata": {},
   "source": [
    "## Business Overview.\n",
    "\n",
    "Imagine the number of streaming sites, now imagine the challenges the platform faces: the two main questions being how do they get to help  users discover content they will not only love but also will keep them engaged over time- remember there are thousands of titles available as such users could experience decision fatigue which may lead to lower watch time and or increased churn. Now how about having a well-designed recommendation system that can transform this experience by only surfacing relevant and personalized content that resonates with one's individual taste and preference?\n",
    "\n",
    "This project is therefore designed to build a movie recommendation engine using the MovieLens dataset, with the aim of improving the retention of users through personalized suggestions and we shall do so by analyzing the user ratings and preferences. In the end we shall be able to deliver top five movie recommendations that feel intuitive, relevant and engaging."
   ]
  },
  {
   "cell_type": "markdown",
   "id": "ef3e2f3a",
   "metadata": {},
   "source": [
    "## Problem statement.\n",
    "\n",
    "As we have seen that its really a struggle by users to find content that matches their prefences, especially as more movies gets produced each day. Therefore our question is ***'how can we deliver personalized movie recommendations that will ultimately increase user satsifaction and retention on a streaming platform?'***"
   ]
  },
  {
   "cell_type": "markdown",
   "id": "13808f10",
   "metadata": {},
   "source": [
    "## Stakeholders\n",
    "\n",
    "**Product team**- to improve user engagement & retention through personalization  \n",
    "**Data Scientist**- For building and validating recommendation engine  \n",
    "**Marketing team**- for segmentation and promotion of contetnt based on preferences  \n",
    "**Owners of streaming platforms/ Executive leadership**- Evaluation of ROI of a well designed personalized system on platform performance.\n"
   ]
  },
  {
   "cell_type": "markdown",
   "id": "05c54ed3",
   "metadata": {},
   "source": [
    "## Success Metrics.\n",
    "- Building a model that generates top five movie recommendations per user.\n",
    "- Improvement of user engagement as a result of tailor-making contetnt to user preferences.\n",
    "- Provision of actionable insights for product and marketing team to use.\n",
    "- Visualizing resulsts for non technical team e.g the executive.\n"
   ]
  },
  {
   "cell_type": "markdown",
   "id": "76a3bea7",
   "metadata": {},
   "source": [
    "## Type of Recommendation and Model Evaluation Metrics.\n",
    "This project will be focusing on personalized recommendations, leveraging collaborative filtering to unearth latent user preferances and as a result suggest movies aligned with their taste. Some of the metrics that we may deploy include:\n",
    "\n",
    "- **RMSE/MAE** -For rating prediction accuracy\n",
    "- **Precision, Recall, F1 Score** - For quality ranking.\n",
    "- **Coverage, Diversity** - To help with assessment of recomendation variety & system robustness."
   ]
  },
  {
   "cell_type": "markdown",
   "id": "f54a8c8d-5eab-4231-a40b-5921c145219d",
   "metadata": {},
   "source": [
    "## Data Understanding  "
   ]
  },
  {
   "cell_type": "markdown",
   "id": "41b5bc36",
   "metadata": {},
   "source": [
    "### Dataset Overview  \n",
    "The provided dataset, comprising four CSV files: \n",
    "- **links.csv**\n",
    "- **movies.csv**\n",
    "- **ratings.csv**\n",
    "- **tags.csv**\n",
    "\n",
    " offers a comprehensive foundation for a robust movie recommendation system. The data is structured to facilitate the analysis of user behavior, movie characteristics, and their interrelationships.\n",
    "\n",
    "##  Importing Libraries "
   ]
  },
  {
   "cell_type": "code",
   "execution_count": 34,
   "id": "67d800ba-9480-4fec-aa10-b31684bc61fb",
   "metadata": {},
   "outputs": [],
   "source": [
    "# Load the libraries\n",
    "import pandas as pd\n",
    "import numpy as np\n",
    "import matplotlib.pyplot as plt\n",
    "import seaborn as sns\n",
    "from scipy.sparse import csr_matrix\n",
    "from sklearn.model_selection import train_test_split\n",
    "from sklearn.metrics import mean_squared_error\n",
    "from math import sqrt\n",
    "from implicit.als import AlternatingLeastSquares\n",
    "from surprise import KNNBasic, SVD, Dataset, Reader\n",
    "from surprise.model_selection import train_test_split as surprise_train_test_split\n",
    "from itertools import product\n",
    "from collections import defaultdict\n",
    "import warnings\n",
    "warnings.filterwarnings(\"ignore\", category=UserWarning, module=\"surprise\")\n",
    "sns.set_theme(style=\"whitegrid\", context=\"notebook\")"
   ]
  },
  {
   "cell_type": "markdown",
   "id": "1d97089b",
   "metadata": {},
   "source": [
    "---\n",
    "## Movies dataset.\n"
   ]
  },
  {
   "cell_type": "code",
   "execution_count": 35,
   "id": "5c341620",
   "metadata": {},
   "outputs": [
    {
     "name": "stdout",
     "output_type": "stream",
     "text": [
      "<class 'pandas.core.frame.DataFrame'>\n",
      "RangeIndex: 9742 entries, 0 to 9741\n",
      "Data columns (total 3 columns):\n",
      " #   Column   Non-Null Count  Dtype \n",
      "---  ------   --------------  ----- \n",
      " 0   movieId  9742 non-null   int64 \n",
      " 1   title    9742 non-null   object\n",
      " 2   genres   9742 non-null   object\n",
      "dtypes: int64(1), object(2)\n",
      "memory usage: 228.5+ KB\n"
     ]
    }
   ],
   "source": [
    "# Loading  the movies dataset\n",
    "movies = pd.read_csv('Data/movies.csv')\n",
    "movies.info()"
   ]
  },
  {
   "cell_type": "markdown",
   "id": "665074ca",
   "metadata": {},
   "source": [
    "#### Movies.csv  \n",
    "\n",
    "This file contains **movie titles** and their corresponding **genres**.  \n",
    "\n",
    "It, Serves as the **central movie catalog**, this file contains a unique entry for each of the **9,742 films**.  \n",
    "### Columns \n",
    "- **movieId**: Primary key that links to other datasets.  \n",
    "- **title**: Movie title (with release year).  \n",
    "- **genres**: Pipe-separated list of genres.  \n",
    "\n",
    "This file is essential for **content-based filtering**, enabling genre-specific recommendations and theme analysis. "
   ]
  },
  {
   "cell_type": "markdown",
   "id": "2aa78b4e",
   "metadata": {},
   "source": [
    "---\n",
    "## Ratings Dataset.\n"
   ]
  },
  {
   "cell_type": "code",
   "execution_count": 36,
   "id": "3e90a477",
   "metadata": {},
   "outputs": [
    {
     "name": "stdout",
     "output_type": "stream",
     "text": [
      "<class 'pandas.core.frame.DataFrame'>\n",
      "RangeIndex: 100836 entries, 0 to 100835\n",
      "Data columns (total 4 columns):\n",
      " #   Column     Non-Null Count   Dtype  \n",
      "---  ------     --------------   -----  \n",
      " 0   userId     100836 non-null  int64  \n",
      " 1   movieId    100836 non-null  int64  \n",
      " 2   rating     100836 non-null  float64\n",
      " 3   timestamp  100836 non-null  int64  \n",
      "dtypes: float64(1), int64(3)\n",
      "memory usage: 3.1 MB\n"
     ]
    },
    {
     "data": {
      "application/vnd.microsoft.datawrangler.viewer.v0+json": {
       "columns": [
        {
         "name": "index",
         "rawType": "int64",
         "type": "integer"
        },
        {
         "name": "userId",
         "rawType": "int64",
         "type": "integer"
        },
        {
         "name": "movieId",
         "rawType": "int64",
         "type": "integer"
        },
        {
         "name": "rating",
         "rawType": "float64",
         "type": "float"
        },
        {
         "name": "timestamp",
         "rawType": "int64",
         "type": "integer"
        }
       ],
       "ref": "b6fc58b0-5f60-4e0c-8d35-ca82dd56dbd7",
       "rows": [
        [
         "0",
         "1",
         "1",
         "4.0",
         "964982703"
        ],
        [
         "1",
         "1",
         "3",
         "4.0",
         "964981247"
        ],
        [
         "2",
         "1",
         "6",
         "4.0",
         "964982224"
        ],
        [
         "3",
         "1",
         "47",
         "5.0",
         "964983815"
        ],
        [
         "4",
         "1",
         "50",
         "5.0",
         "964982931"
        ]
       ],
       "shape": {
        "columns": 4,
        "rows": 5
       }
      },
      "text/html": [
       "<div>\n",
       "<style scoped>\n",
       "    .dataframe tbody tr th:only-of-type {\n",
       "        vertical-align: middle;\n",
       "    }\n",
       "\n",
       "    .dataframe tbody tr th {\n",
       "        vertical-align: top;\n",
       "    }\n",
       "\n",
       "    .dataframe thead th {\n",
       "        text-align: right;\n",
       "    }\n",
       "</style>\n",
       "<table border=\"1\" class=\"dataframe\">\n",
       "  <thead>\n",
       "    <tr style=\"text-align: right;\">\n",
       "      <th></th>\n",
       "      <th>userId</th>\n",
       "      <th>movieId</th>\n",
       "      <th>rating</th>\n",
       "      <th>timestamp</th>\n",
       "    </tr>\n",
       "  </thead>\n",
       "  <tbody>\n",
       "    <tr>\n",
       "      <th>0</th>\n",
       "      <td>1</td>\n",
       "      <td>1</td>\n",
       "      <td>4.0</td>\n",
       "      <td>964982703</td>\n",
       "    </tr>\n",
       "    <tr>\n",
       "      <th>1</th>\n",
       "      <td>1</td>\n",
       "      <td>3</td>\n",
       "      <td>4.0</td>\n",
       "      <td>964981247</td>\n",
       "    </tr>\n",
       "    <tr>\n",
       "      <th>2</th>\n",
       "      <td>1</td>\n",
       "      <td>6</td>\n",
       "      <td>4.0</td>\n",
       "      <td>964982224</td>\n",
       "    </tr>\n",
       "    <tr>\n",
       "      <th>3</th>\n",
       "      <td>1</td>\n",
       "      <td>47</td>\n",
       "      <td>5.0</td>\n",
       "      <td>964983815</td>\n",
       "    </tr>\n",
       "    <tr>\n",
       "      <th>4</th>\n",
       "      <td>1</td>\n",
       "      <td>50</td>\n",
       "      <td>5.0</td>\n",
       "      <td>964982931</td>\n",
       "    </tr>\n",
       "  </tbody>\n",
       "</table>\n",
       "</div>"
      ],
      "text/plain": [
       "   userId  movieId  rating  timestamp\n",
       "0       1        1     4.0  964982703\n",
       "1       1        3     4.0  964981247\n",
       "2       1        6     4.0  964982224\n",
       "3       1       47     5.0  964983815\n",
       "4       1       50     5.0  964982931"
      ]
     },
     "execution_count": 36,
     "metadata": {},
     "output_type": "execute_result"
    }
   ],
   "source": [
    "# Loading ratings dataset\n",
    "ratings = pd.read_csv('Data/ratings.csv')\n",
    "ratings.info()\n",
    "ratings.head()"
   ]
  },
  {
   "cell_type": "markdown",
   "id": "358ee1de",
   "metadata": {},
   "source": [
    "### ratings.csv  \n",
    "The most **data-heavy file**, containing **100,836 explicit user ratings**.  \n",
    "#### Columns \n",
    "- **userId**: Identifier of the user.  \n",
    "- **movieId**: Identifier of the rated movie.  \n",
    "- **rating**: Explicit user rating (e.g., 1.0–5.0).  \n",
    "- **timestamp**: Time of rating (Unix format).  \n",
    "\n",
    "This dataset forms the **backbone of collaborative filtering**. The timestamps also enable **temporal analysis**, helping track evolving preferences and movie popularity trends.  \n"
   ]
  },
  {
   "cell_type": "markdown",
   "id": "c0bbefbb",
   "metadata": {},
   "source": [
    "---\n",
    "## Links dataset.\n"
   ]
  },
  {
   "cell_type": "code",
   "execution_count": 37,
   "id": "11f3fa6e",
   "metadata": {},
   "outputs": [
    {
     "name": "stdout",
     "output_type": "stream",
     "text": [
      "<class 'pandas.core.frame.DataFrame'>\n",
      "RangeIndex: 9742 entries, 0 to 9741\n",
      "Data columns (total 3 columns):\n",
      " #   Column   Non-Null Count  Dtype  \n",
      "---  ------   --------------  -----  \n",
      " 0   movieId  9742 non-null   int64  \n",
      " 1   imdbId   9742 non-null   int64  \n",
      " 2   tmdbId   9734 non-null   float64\n",
      "dtypes: float64(1), int64(2)\n",
      "memory usage: 228.5 KB\n"
     ]
    },
    {
     "data": {
      "application/vnd.microsoft.datawrangler.viewer.v0+json": {
       "columns": [
        {
         "name": "index",
         "rawType": "int64",
         "type": "integer"
        },
        {
         "name": "movieId",
         "rawType": "int64",
         "type": "integer"
        },
        {
         "name": "imdbId",
         "rawType": "int64",
         "type": "integer"
        },
        {
         "name": "tmdbId",
         "rawType": "float64",
         "type": "float"
        }
       ],
       "ref": "7b643c05-2c9a-4efd-bfdf-c4333bd80163",
       "rows": [
        [
         "0",
         "1",
         "114709",
         "862.0"
        ],
        [
         "1",
         "2",
         "113497",
         "8844.0"
        ],
        [
         "2",
         "3",
         "113228",
         "15602.0"
        ],
        [
         "3",
         "4",
         "114885",
         "31357.0"
        ],
        [
         "4",
         "5",
         "113041",
         "11862.0"
        ]
       ],
       "shape": {
        "columns": 3,
        "rows": 5
       }
      },
      "text/html": [
       "<div>\n",
       "<style scoped>\n",
       "    .dataframe tbody tr th:only-of-type {\n",
       "        vertical-align: middle;\n",
       "    }\n",
       "\n",
       "    .dataframe tbody tr th {\n",
       "        vertical-align: top;\n",
       "    }\n",
       "\n",
       "    .dataframe thead th {\n",
       "        text-align: right;\n",
       "    }\n",
       "</style>\n",
       "<table border=\"1\" class=\"dataframe\">\n",
       "  <thead>\n",
       "    <tr style=\"text-align: right;\">\n",
       "      <th></th>\n",
       "      <th>movieId</th>\n",
       "      <th>imdbId</th>\n",
       "      <th>tmdbId</th>\n",
       "    </tr>\n",
       "  </thead>\n",
       "  <tbody>\n",
       "    <tr>\n",
       "      <th>0</th>\n",
       "      <td>1</td>\n",
       "      <td>114709</td>\n",
       "      <td>862.0</td>\n",
       "    </tr>\n",
       "    <tr>\n",
       "      <th>1</th>\n",
       "      <td>2</td>\n",
       "      <td>113497</td>\n",
       "      <td>8844.0</td>\n",
       "    </tr>\n",
       "    <tr>\n",
       "      <th>2</th>\n",
       "      <td>3</td>\n",
       "      <td>113228</td>\n",
       "      <td>15602.0</td>\n",
       "    </tr>\n",
       "    <tr>\n",
       "      <th>3</th>\n",
       "      <td>4</td>\n",
       "      <td>114885</td>\n",
       "      <td>31357.0</td>\n",
       "    </tr>\n",
       "    <tr>\n",
       "      <th>4</th>\n",
       "      <td>5</td>\n",
       "      <td>113041</td>\n",
       "      <td>11862.0</td>\n",
       "    </tr>\n",
       "  </tbody>\n",
       "</table>\n",
       "</div>"
      ],
      "text/plain": [
       "   movieId  imdbId   tmdbId\n",
       "0        1  114709    862.0\n",
       "1        2  113497   8844.0\n",
       "2        3  113228  15602.0\n",
       "3        4  114885  31357.0\n",
       "4        5  113041  11862.0"
      ]
     },
     "execution_count": 37,
     "metadata": {},
     "output_type": "execute_result"
    }
   ],
   "source": [
    "# Loading  the links dataset\n",
    "links = pd.read_csv('Data/links.csv')\n",
    "links.info()\n",
    "links.head()"
   ]
  },
  {
   "cell_type": "markdown",
   "id": "77d40627",
   "metadata": {},
   "source": [
    "#### links.csv  \n",
    "\n",
    "This file serves as a **bridge to external metadata sources**, mapping internal `movieId` values to industry-standard identifiers:  \n",
    "### Columns  \n",
    "- **movieId**: Unique identifier for a movie.\n",
    "- **imdbId**: IMDb identifier.  \n",
    "- **tmdbId**: The Movie Database (TMDb) identifier. \n",
    "\n",
    "These external links allow for **data enrichment**, such as retrieving cast, plot, and ratings. This enhances the recommendation engine with richer context.  "
   ]
  },
  {
   "cell_type": "markdown",
   "id": "1b14b4ae",
   "metadata": {},
   "source": [
    "## Tags Dataset.\n",
    "---"
   ]
  },
  {
   "cell_type": "code",
   "execution_count": 38,
   "id": "6f716108",
   "metadata": {},
   "outputs": [
    {
     "name": "stdout",
     "output_type": "stream",
     "text": [
      "<class 'pandas.core.frame.DataFrame'>\n",
      "RangeIndex: 3683 entries, 0 to 3682\n",
      "Data columns (total 4 columns):\n",
      " #   Column     Non-Null Count  Dtype \n",
      "---  ------     --------------  ----- \n",
      " 0   userId     3683 non-null   int64 \n",
      " 1   movieId    3683 non-null   int64 \n",
      " 2   tag        3683 non-null   object\n",
      " 3   timestamp  3683 non-null   int64 \n",
      "dtypes: int64(3), object(1)\n",
      "memory usage: 115.2+ KB\n"
     ]
    }
   ],
   "source": [
    "# Loading  the tags dataset\n",
    "tags = pd.read_csv('Data/tags.csv')\n",
    "tags.info()"
   ]
  },
  {
   "cell_type": "markdown",
   "id": "459102d7",
   "metadata": {},
   "source": [
    "#### tags.csv  \n",
    "This file contains **3,683 qualitative user-generated tags**, offering descriptive insights beyond numerical ratings.  \n",
    "### Columns\n",
    "- **userId**: Identifier of the user who tagged the movie.  \n",
    "- **movieId**: Identifier of the tagged movie.  \n",
    "- **tag**: User-generated keyword(s).  \n",
    "- **timestamp**: Time the tag was applied.  \n",
    "\n",
    "Tags capture **nuanced characteristics** that genres miss, enabling **expressive content-based models**. They also reflect how perceptions of movies **shift over time**.  \n"
   ]
  },
  {
   "cell_type": "markdown",
   "id": "dc20023d-ac29-454c-9778-cc5273aebaf8",
   "metadata": {},
   "source": [
    "## Data Preparation"
   ]
  },
  {
   "cell_type": "code",
   "execution_count": 39,
   "id": "9302f5be-fd0d-448b-9637-42dd8ee98a2a",
   "metadata": {},
   "outputs": [],
   "source": [
    "# Merge datasets\n",
    "df = ratings.merge(movies, on='movieId', how='left') \\\n",
    "            .merge(tags, on=['userId', 'movieId'], how='left') \\\n",
    "            .merge(links, on='movieId', how='left')"
   ]
  },
  {
   "cell_type": "code",
   "execution_count": 40,
   "id": "8d341087-e9af-431b-b20e-0d7374a8edec",
   "metadata": {},
   "outputs": [
    {
     "data": {
      "application/vnd.microsoft.datawrangler.viewer.v0+json": {
       "columns": [
        {
         "name": "index",
         "rawType": "int64",
         "type": "integer"
        },
        {
         "name": "userId",
         "rawType": "int64",
         "type": "integer"
        },
        {
         "name": "movieId",
         "rawType": "int64",
         "type": "integer"
        },
        {
         "name": "rating",
         "rawType": "float64",
         "type": "float"
        },
        {
         "name": "timestamp_x",
         "rawType": "int64",
         "type": "integer"
        },
        {
         "name": "title",
         "rawType": "object",
         "type": "string"
        },
        {
         "name": "genres",
         "rawType": "object",
         "type": "string"
        },
        {
         "name": "tag",
         "rawType": "object",
         "type": "unknown"
        },
        {
         "name": "timestamp_y",
         "rawType": "float64",
         "type": "float"
        },
        {
         "name": "imdbId",
         "rawType": "int64",
         "type": "integer"
        },
        {
         "name": "tmdbId",
         "rawType": "float64",
         "type": "float"
        }
       ],
       "ref": "7e707c2b-cf1e-49a3-8f7f-9c19bcb5a30e",
       "rows": [
        [
         "0",
         "1",
         "1",
         "4.0",
         "964982703",
         "Toy Story (1995)",
         "Adventure|Animation|Children|Comedy|Fantasy",
         null,
         null,
         "114709",
         "862.0"
        ],
        [
         "1",
         "1",
         "3",
         "4.0",
         "964981247",
         "Grumpier Old Men (1995)",
         "Comedy|Romance",
         null,
         null,
         "113228",
         "15602.0"
        ],
        [
         "2",
         "1",
         "6",
         "4.0",
         "964982224",
         "Heat (1995)",
         "Action|Crime|Thriller",
         null,
         null,
         "113277",
         "949.0"
        ],
        [
         "3",
         "1",
         "47",
         "5.0",
         "964983815",
         "Seven (a.k.a. Se7en) (1995)",
         "Mystery|Thriller",
         null,
         null,
         "114369",
         "807.0"
        ],
        [
         "4",
         "1",
         "50",
         "5.0",
         "964982931",
         "Usual Suspects, The (1995)",
         "Crime|Mystery|Thriller",
         null,
         null,
         "114814",
         "629.0"
        ]
       ],
       "shape": {
        "columns": 10,
        "rows": 5
       }
      },
      "text/html": [
       "<div>\n",
       "<style scoped>\n",
       "    .dataframe tbody tr th:only-of-type {\n",
       "        vertical-align: middle;\n",
       "    }\n",
       "\n",
       "    .dataframe tbody tr th {\n",
       "        vertical-align: top;\n",
       "    }\n",
       "\n",
       "    .dataframe thead th {\n",
       "        text-align: right;\n",
       "    }\n",
       "</style>\n",
       "<table border=\"1\" class=\"dataframe\">\n",
       "  <thead>\n",
       "    <tr style=\"text-align: right;\">\n",
       "      <th></th>\n",
       "      <th>userId</th>\n",
       "      <th>movieId</th>\n",
       "      <th>rating</th>\n",
       "      <th>timestamp_x</th>\n",
       "      <th>title</th>\n",
       "      <th>genres</th>\n",
       "      <th>tag</th>\n",
       "      <th>timestamp_y</th>\n",
       "      <th>imdbId</th>\n",
       "      <th>tmdbId</th>\n",
       "    </tr>\n",
       "  </thead>\n",
       "  <tbody>\n",
       "    <tr>\n",
       "      <th>0</th>\n",
       "      <td>1</td>\n",
       "      <td>1</td>\n",
       "      <td>4.0</td>\n",
       "      <td>964982703</td>\n",
       "      <td>Toy Story (1995)</td>\n",
       "      <td>Adventure|Animation|Children|Comedy|Fantasy</td>\n",
       "      <td>NaN</td>\n",
       "      <td>NaN</td>\n",
       "      <td>114709</td>\n",
       "      <td>862.0</td>\n",
       "    </tr>\n",
       "    <tr>\n",
       "      <th>1</th>\n",
       "      <td>1</td>\n",
       "      <td>3</td>\n",
       "      <td>4.0</td>\n",
       "      <td>964981247</td>\n",
       "      <td>Grumpier Old Men (1995)</td>\n",
       "      <td>Comedy|Romance</td>\n",
       "      <td>NaN</td>\n",
       "      <td>NaN</td>\n",
       "      <td>113228</td>\n",
       "      <td>15602.0</td>\n",
       "    </tr>\n",
       "    <tr>\n",
       "      <th>2</th>\n",
       "      <td>1</td>\n",
       "      <td>6</td>\n",
       "      <td>4.0</td>\n",
       "      <td>964982224</td>\n",
       "      <td>Heat (1995)</td>\n",
       "      <td>Action|Crime|Thriller</td>\n",
       "      <td>NaN</td>\n",
       "      <td>NaN</td>\n",
       "      <td>113277</td>\n",
       "      <td>949.0</td>\n",
       "    </tr>\n",
       "    <tr>\n",
       "      <th>3</th>\n",
       "      <td>1</td>\n",
       "      <td>47</td>\n",
       "      <td>5.0</td>\n",
       "      <td>964983815</td>\n",
       "      <td>Seven (a.k.a. Se7en) (1995)</td>\n",
       "      <td>Mystery|Thriller</td>\n",
       "      <td>NaN</td>\n",
       "      <td>NaN</td>\n",
       "      <td>114369</td>\n",
       "      <td>807.0</td>\n",
       "    </tr>\n",
       "    <tr>\n",
       "      <th>4</th>\n",
       "      <td>1</td>\n",
       "      <td>50</td>\n",
       "      <td>5.0</td>\n",
       "      <td>964982931</td>\n",
       "      <td>Usual Suspects, The (1995)</td>\n",
       "      <td>Crime|Mystery|Thriller</td>\n",
       "      <td>NaN</td>\n",
       "      <td>NaN</td>\n",
       "      <td>114814</td>\n",
       "      <td>629.0</td>\n",
       "    </tr>\n",
       "  </tbody>\n",
       "</table>\n",
       "</div>"
      ],
      "text/plain": [
       "   userId  movieId  rating  timestamp_x                        title  \\\n",
       "0       1        1     4.0    964982703             Toy Story (1995)   \n",
       "1       1        3     4.0    964981247      Grumpier Old Men (1995)   \n",
       "2       1        6     4.0    964982224                  Heat (1995)   \n",
       "3       1       47     5.0    964983815  Seven (a.k.a. Se7en) (1995)   \n",
       "4       1       50     5.0    964982931   Usual Suspects, The (1995)   \n",
       "\n",
       "                                        genres  tag  timestamp_y  imdbId  \\\n",
       "0  Adventure|Animation|Children|Comedy|Fantasy  NaN          NaN  114709   \n",
       "1                               Comedy|Romance  NaN          NaN  113228   \n",
       "2                        Action|Crime|Thriller  NaN          NaN  113277   \n",
       "3                             Mystery|Thriller  NaN          NaN  114369   \n",
       "4                       Crime|Mystery|Thriller  NaN          NaN  114814   \n",
       "\n",
       "    tmdbId  \n",
       "0    862.0  \n",
       "1  15602.0  \n",
       "2    949.0  \n",
       "3    807.0  \n",
       "4    629.0  "
      ]
     },
     "execution_count": 40,
     "metadata": {},
     "output_type": "execute_result"
    }
   ],
   "source": [
    "df.head()"
   ]
  },
  {
   "cell_type": "code",
   "execution_count": 41,
   "id": "e49dd3e3-05a9-4b6e-a581-35da3022f6dd",
   "metadata": {},
   "outputs": [
    {
     "name": "stdout",
     "output_type": "stream",
     "text": [
      "<class 'pandas.core.frame.DataFrame'>\n",
      "RangeIndex: 102677 entries, 0 to 102676\n",
      "Data columns (total 10 columns):\n",
      " #   Column       Non-Null Count   Dtype  \n",
      "---  ------       --------------   -----  \n",
      " 0   userId       102677 non-null  int64  \n",
      " 1   movieId      102677 non-null  int64  \n",
      " 2   rating       102677 non-null  float64\n",
      " 3   timestamp_x  102677 non-null  int64  \n",
      " 4   title        102677 non-null  object \n",
      " 5   genres       102677 non-null  object \n",
      " 6   tag          3476 non-null    object \n",
      " 7   timestamp_y  3476 non-null    float64\n",
      " 8   imdbId       102677 non-null  int64  \n",
      " 9   tmdbId       102664 non-null  float64\n",
      "dtypes: float64(3), int64(4), object(3)\n",
      "memory usage: 7.8+ MB\n"
     ]
    }
   ],
   "source": [
    "df.info()"
   ]
  },
  {
   "cell_type": "code",
   "execution_count": 42,
   "id": "0887157c-ff35-4a94-a9a0-ea29104bc18d",
   "metadata": {},
   "outputs": [
    {
     "data": {
      "application/vnd.microsoft.datawrangler.viewer.v0+json": {
       "columns": [
        {
         "name": "index",
         "rawType": "object",
         "type": "string"
        },
        {
         "name": "0",
         "rawType": "int64",
         "type": "integer"
        }
       ],
       "ref": "ee79083e-fd15-4b75-a726-0c794c90fa70",
       "rows": [
        [
         "userId",
         "0"
        ],
        [
         "movieId",
         "0"
        ],
        [
         "rating",
         "0"
        ],
        [
         "timestamp_x",
         "0"
        ],
        [
         "title",
         "0"
        ],
        [
         "genres",
         "0"
        ],
        [
         "tag",
         "99201"
        ],
        [
         "timestamp_y",
         "99201"
        ],
        [
         "imdbId",
         "0"
        ],
        [
         "tmdbId",
         "13"
        ]
       ],
       "shape": {
        "columns": 1,
        "rows": 10
       }
      },
      "text/plain": [
       "userId             0\n",
       "movieId            0\n",
       "rating             0\n",
       "timestamp_x        0\n",
       "title              0\n",
       "genres             0\n",
       "tag            99201\n",
       "timestamp_y    99201\n",
       "imdbId             0\n",
       "tmdbId            13\n",
       "dtype: int64"
      ]
     },
     "execution_count": 42,
     "metadata": {},
     "output_type": "execute_result"
    }
   ],
   "source": [
    "df.isnull().sum()"
   ]
  },
  {
   "cell_type": "code",
   "execution_count": 43,
   "id": "46e77e76-b975-4cb5-85fe-62c9c3b0ec49",
   "metadata": {},
   "outputs": [
    {
     "name": "stdout",
     "output_type": "stream",
     "text": [
      "Shape of df: (102677, 10)\n"
     ]
    }
   ],
   "source": [
    "print(\"Shape of df:\", df.shape)"
   ]
  },
  {
   "cell_type": "markdown",
   "id": "729d0e24",
   "metadata": {},
   "source": [
    "### Data Preprocessing"
   ]
  },
  {
   "cell_type": "code",
   "execution_count": 44,
   "id": "7b6562eb-ac3f-49bd-92b9-2c78139e1989",
   "metadata": {},
   "outputs": [
    {
     "name": "stdout",
     "output_type": "stream",
     "text": [
      "Data columns: Index(['userId', 'movieId', 'rating', 'timestamp_x', 'title', 'genres', 'tag',\n",
      "       'timestamp_y', 'imdbId', 'tmdbId'],\n",
      "      dtype='object')\n",
      "Number of duplicate userId-movieId pairs before aggregation: 1841\n"
     ]
    }
   ],
   "source": [
    "#print out the column names of the DataFrame\n",
    "#checks for duplicate rows based on the combination of userId and movieId.\n",
    "data = df\n",
    "print(\"Data columns:\", data.columns) #\n",
    "duplicates = data.duplicated(subset=['userId', 'movieId']).sum()\n",
    "print(f\"Number of duplicate userId-movieId pairs before aggregation: {duplicates}\")"
   ]
  },
  {
   "cell_type": "markdown",
   "id": "48d89f0c",
   "metadata": {},
   "source": [
    "##### Aggregate ratings, include 'title' if present"
   ]
  },
  {
   "cell_type": "code",
   "execution_count": 45,
   "id": "fa6e7e10",
   "metadata": {},
   "outputs": [
    {
     "name": "stdout",
     "output_type": "stream",
     "text": [
      "Number of duplicate userId-movieId pairs after aggregation: 0\n"
     ]
    }
   ],
   "source": [
    "#Perform aggregation:\n",
    "#for the rating column, take the mean (average) if there are multiple ratings for the same userId and movieId.\n",
    "#group data by userId and movie Id\n",
    "agg_cols = {'rating': 'mean'}\n",
    "if 'title' in data.columns:\n",
    "    agg_cols['title'] = 'first'\n",
    "data = data.groupby(['userId', 'movieId'], as_index=False).agg(agg_cols)\n",
    "duplicates_after = data.duplicated(subset=['userId', 'movieId']).sum()\n",
    "print(f\"Number of duplicate userId-movieId pairs after aggregation: {duplicates_after}\")"
   ]
  },
  {
   "cell_type": "markdown",
   "id": "a38c1a65",
   "metadata": {},
   "source": [
    "##### Create movies DataFrame"
   ]
  },
  {
   "cell_type": "code",
   "execution_count": 46,
   "id": "504bfdf0",
   "metadata": {},
   "outputs": [
    {
     "name": "stdout",
     "output_type": "stream",
     "text": [
      "Movies columns: Index(['movieId', 'title', 'genres'], dtype='object')\n"
     ]
    }
   ],
   "source": [
    "# this prepares a movies DataFrame containing movieId, title, and genres.\n",
    "# Extract and cleans genres and title if they are in the dataframe.\n",
    "if 'genres' in data.columns and 'title' in data.columns:\n",
    "    movies = data[['movieId', 'title', 'genres']].drop_duplicates()\n",
    "    movies['genres'] = movies['genres'].fillna('').str.replace('|', ' ')\n",
    "elif 'genres' in data.columns:\n",
    "    movies = data[['movieId', 'genres']].drop_duplicates()\n",
    "    movies['genres'] = movies['genres'].fillna('').str.replace('|', ' ')\n",
    "    # Try to get titles from movies.csv\n",
    "    movies_csv = pd.read_csv('Data/movies.csv')\n",
    "    if 'title' in movies_csv.columns:\n",
    "        movies = movies.merge(movies_csv[['movieId', 'title']], on='movieId', how='left')\n",
    "    else:\n",
    "        movies['title'] = movies['movieId'].astype(str)\n",
    "else:\n",
    "    movies = pd.read_csv('Data/movies.csv')\n",
    "    movies = movies[['movieId', 'title', 'genres']]\n",
    "    movies['genres'] = movies['genres'].fillna('').str.replace('|', ' ')\n",
    "    if 'title' not in movies.columns:\n",
    "        movies['title'] = movies['movieId'].astype(str)\n",
    "movies['title'] = movies['title'].fillna(movies['movieId'].astype(str))\n",
    "print(\"Movies columns:\", movies.columns)"
   ]
  },
  {
   "cell_type": "code",
   "execution_count": 47,
   "id": "565e1223-7264-47bb-8427-64716d28adbb",
   "metadata": {},
   "outputs": [
    {
     "name": "stdout",
     "output_type": "stream",
     "text": [
      "Filtered movies_df size: 9724 movies\n"
     ]
    }
   ],
   "source": [
    "#Create user-item rating matrix: (Rows-users, columns-movies, and values-ratings). \n",
    "#Convert the matrix to a sparse format for efficient storage and computation.\n",
    "#Filter the movies DataFrame to include only movies present in the rating matrix.\n",
    "\n",
    "user_item_matrix = data.pivot(index='userId', columns='movieId', values='rating').fillna(0)\n",
    "user_item_sparse = csr_matrix(user_item_matrix.values)\n",
    "movies = movies[movies['movieId'].isin(user_item_matrix.columns)]\n",
    "print(f\"Filtered movies_df size: {len(movies)} movies\")"
   ]
  },
  {
   "cell_type": "markdown",
   "id": "75ba544d",
   "metadata": {},
   "source": [
    "### Visualizations\n",
    "#### 1. Histogram of Ratings"
   ]
  },
  {
   "cell_type": "code",
   "execution_count": 48,
   "id": "0a9514b5",
   "metadata": {},
   "outputs": [
    {
     "data": {
      "image/png": "[encoded data removed]",
      "text/plain": [
       "<Figure size 1000x600 with 1 Axes>"
      ]
     },
     "metadata": {},
     "output_type": "display_data"
    }
   ],
   "source": [
    "# plot a histogram of movie ratings\n",
    "plt.figure(figsize=(10, 6))\n",
    "sns.histplot(data['rating'], bins=10, kde=True)\n",
    "plt.title('Distribution of Ratings')\n",
    "plt.xlabel('Rating')\n",
    "plt.ylabel('Count')\n",
    "plt.show()"
   ]
  },
  {
   "cell_type": "markdown",
   "id": "993996e4",
   "metadata": {},
   "source": [
    "The histogram shows how frequently each rating value appears\n",
    "From this histogram, users prefer higher ratings."
   ]
  },
  {
   "cell_type": "markdown",
   "id": "8c859377",
   "metadata": {},
   "source": [
    "#### 2. Bar Plot of User Activity (Number of Ratings per User)"
   ]
  },
  {
   "cell_type": "code",
   "execution_count": 49,
   "id": "5dda1ed0",
   "metadata": {},
   "outputs": [
    {
     "data": {
      "image/png": "[encoded data removed]",
      "text/plain": [
       "<Figure size 1200x600 with 1 Axes>"
      ]
     },
     "metadata": {},
     "output_type": "display_data"
    }
   ],
   "source": [
    "#plot a histogram showing the distribution of rating counts per user.\n",
    "#The x-axis is in log scale to better visualize users with very high or very low activity.\n",
    "user_counts = data['userId'].value_counts()\n",
    "plt.figure(figsize=(12, 6))\n",
    "sns.histplot(user_counts, bins=50, kde=False)\n",
    "plt.title('Distribution of Ratings per User')\n",
    "plt.xlabel('Number of Ratings')\n",
    "plt.ylabel('Number of Users')\n",
    "plt.xscale('log')  # Log scale for better visualization of skewed data\n",
    "plt.show()"
   ]
  },
  {
   "cell_type": "markdown",
   "id": "5c6ad0ad",
   "metadata": {},
   "source": [
    "+ This bar plot displays the number of ratings per userId.\n",
    "+ Most users provide few ratings, while a few are highly active."
   ]
  },
  {
   "cell_type": "markdown",
   "id": "659b24ed",
   "metadata": {},
   "source": [
    "#### 4. Bar Plot of Genre Distribution (if genres available)"
   ]
  },
  {
   "cell_type": "code",
   "execution_count": 50,
   "id": "ef805903",
   "metadata": {},
   "outputs": [
    {
     "data": {
      "image/png": "[encoded data removed]",
      "text/plain": [
       "<Figure size 1200x600 with 1 Axes>"
      ]
     },
     "metadata": {},
     "output_type": "display_data"
    }
   ],
   "source": [
    "# Bar chart showing the distribution of movies by genre.\n",
    "if 'genres' in movies.columns:\n",
    "    # Split genres and count occurrences\n",
    "    genre_counts = {}\n",
    "    for genres in movies['genres']:\n",
    "        for genre in genres.split():\n",
    "            if genre:\n",
    "                genre_counts[genre] = genre_counts.get(genre, 0) + 1\n",
    "    genre_df = pd.DataFrame.from_dict(genre_counts, orient='index', columns=['count']).reset_index()\n",
    "    genre_df = genre_df.rename(columns={'index': 'genre'})\n",
    "    genre_df = genre_df.sort_values('count', ascending=False)\n",
    "    \n",
    "    plt.figure(figsize=(12, 6))\n",
    "    sns.barplot(x='count', y='genre', data=genre_df)\n",
    "    plt.title('Distribution of Movies by Genre')\n",
    "    plt.xlabel('Number of Movies')\n",
    "    plt.ylabel('Genre')\n",
    "    plt.show()\n",
    "else:\n",
    "    print(\"Genres not available for visualization.\")"
   ]
  },
  {
   "cell_type": "markdown",
   "id": "35ba6e3a",
   "metadata": {},
   "source": [
    "+ This bar plot counts movies per genre (if genres is available).\n",
    "+ Some genres (e.g., Drama, Comedy) dominate, while others (e.g., Documentary) are less common."
   ]
  },
  {
   "cell_type": "markdown",
   "id": "43980b8f",
   "metadata": {},
   "source": [
    "#### Split data for scikit-learn and implicit"
   ]
  },
  {
   "cell_type": "code",
   "execution_count": 51,
   "id": "fc48c99b-4bca-4264-9700-75368253aec9",
   "metadata": {},
   "outputs": [
    {
     "name": "stdout",
     "output_type": "stream",
     "text": [
      "Test data size after filtering: 19355\n",
      "user_item_matrix shape: (610, 9724)\n",
      "train_sparse shape: (610, 8983)\n"
     ]
    }
   ],
   "source": [
    "# Splits the dataset into training and testing sets (80/20 split),Create a user-item rating matrix from the training data and convert it to a sparse matrix for efficient computation.\n",
    "# Filters the test set to include only movies present in the training set.\n",
    "# Extracts features and labels (X_train, y_train, X_test, y_test) for model training and evaluation\n",
    "train_data, test_data = train_test_split(data, test_size=0.2, random_state=42)\n",
    "train_matrix = train_data.pivot(index='userId', columns='movieId', values='rating').fillna(0)\n",
    "train_sparse = csr_matrix(train_matrix.values)\n",
    "test_data = test_data[test_data['movieId'].isin(train_matrix.columns)]\n",
    "print(f\"Test data size after filtering: {len(test_data)}\")\n",
    "print(f\"user_item_matrix shape: {user_item_matrix.shape}\")\n",
    "print(f\"train_sparse shape: {train_sparse.shape}\")\n",
    "\n",
    "# Split data for surprise\n",
    "reader = Reader(rating_scale=(0.5, 5.0))\n",
    "surprise_data = Dataset.load_from_df(data[['userId', 'movieId', 'rating']], reader)\n",
    "trainset, testset = surprise_train_test_split(surprise_data, test_size=0.2, random_state=42)\n",
    "\n",
    "X_train = [(row['userId'], row['movieId']) for _, row in train_data.iterrows()]\n",
    "y_train = train_data['rating'].values\n",
    "X_test = [(row['userId'], row['movieId']) for _, row in test_data.iterrows()]\n",
    "y_test = test_data['rating'].values"
   ]
  },
  {
   "cell_type": "markdown",
   "id": "40a2233a",
   "metadata": {},
   "source": [
    "### Model Definitions\n",
    "#### KNN Recommender\n"
   ]
  },
  {
   "cell_type": "code",
   "execution_count": 52,
   "id": "df0eefbf-864d-403a-9572-b4b73931a3f7",
   "metadata": {},
   "outputs": [],
   "source": [
    "# initialize a KNN model function with a specified number of neighbors (k), train the model on the provided dataset then redict the rating a user would give to a specific movie.\n",
    "class KNNRecommender:\n",
    "    def __init__(self, k=40, sim_options=None):\n",
    "        self.model = KNNBasic(k=k, sim_options=sim_options or {'name': 'cosine', 'user_based': True})\n",
    "        self.trainset = None\n",
    "\n",
    "    def fit(self, trainset):\n",
    "        self.trainset = trainset\n",
    "        self.model.fit(self.trainset)\n",
    "        return self\n",
    "\n",
    "    def predict(self, user_id, movie_id):\n",
    "        return self.model.predict(user_id, movie_id).est"
   ]
  },
  {
   "cell_type": "markdown",
   "id": "43b59dfa",
   "metadata": {},
   "source": [
    "#### SVD Recommender"
   ]
  },
  {
   "cell_type": "code",
   "execution_count": 53,
   "id": "424b19e5-a4de-4bba-9c4b-84a8f243f581",
   "metadata": {},
   "outputs": [],
   "source": [
    "# a function for initializing SVD model, trains it on user-movie rating data, then predict how a user would rate a specific movie.\n",
    "class SurpriseSVDRecommender:\n",
    "    def __init__(self, n_factors=100, n_epochs=20, lr_all=0.005, reg_all=0.02):\n",
    "        self.model = SVD(n_factors=n_factors, n_epochs=n_epochs, lr_all=lr_all, reg_all=reg_all, random_state=42)\n",
    "        self.trainset = None\n",
    "\n",
    "    def fit(self, trainset):\n",
    "        self.trainset = trainset\n",
    "        self.model.fit(self.trainset)\n",
    "        return self\n",
    "\n",
    "    def predict(self, user_id, movie_id):\n",
    "        return self.model.predict(user_id, movie_id).est\n",
    "# function for Alternating Least Squares (ALS) model to predict ratings and compute the dot product between user and item latent factors.\n",
    "def als_predict(user_id, movie_id, user_item_matrix, als_model, train_matrix):\n",
    "    if movie_id not in train_matrix.columns or user_id not in train_matrix.index:\n",
    "        return 0\n",
    "    try:\n",
    "        user_idx = train_matrix.index.get_loc(user_id)  # Use train_matrix.index\n",
    "        movie_idx = train_matrix.columns.get_loc(movie_id)\n",
    "        if movie_idx >= len(als_model.item_factors):\n",
    "            return 0\n",
    "        return np.dot(als_model.user_factors[user_idx], als_model.item_factors[movie_idx])\n",
    "    except (KeyError, IndexError):\n",
    "        return 0"
   ]
  },
  {
   "cell_type": "markdown",
   "id": "ac445a05",
   "metadata": {},
   "source": [
    "#### ALS Recommender"
   ]
  },
  {
   "cell_type": "code",
   "execution_count": 54,
   "id": "b1014b41-dec0-43e3-8a0a-d30d2fd4bfd0",
   "metadata": {},
   "outputs": [],
   "source": [
    "# This function initilizes Alternating Least Squares (ALS) model with configurable parameters, trains the model on a sparse user-item rating matrix, then estimates a user's rating for a movie using latent factor dot products via the als_predict function.\n",
    "class ALSRecommender:\n",
    "    def __init__(self, factors=100, regularization=0.1, iterations=20):\n",
    "        self.model = AlternatingLeastSquares(factors=factors, regularization=regularization, iterations=iterations)\n",
    "        self.user_item_matrix = None\n",
    "\n",
    "    def fit(self, user_item_sparse):\n",
    "        self.model.fit(user_item_sparse)\n",
    "        return self\n",
    "\n",
    "    def predict(self, user_id, movie_id):\n",
    "        return als_predict(user_id, movie_id, user_item_matrix, self.model, train_matrix)"
   ]
  },
  {
   "cell_type": "markdown",
   "id": "0511fc75",
   "metadata": {},
   "source": [
    "### Hyperparameter Tuning and Evaluation\n",
    "#### RMSE Scorer"
   ]
  },
  {
   "cell_type": "code",
   "execution_count": 55,
   "id": "de387d3a-0cd0-4329-9fe4-10954f1c5c43",
   "metadata": {},
   "outputs": [],
   "source": [
    "#Calculates Root Mean Squared Error (RMSE) between predicted and actual ratings.Filters out invalid predictions (e.g. zero or missing).Returns ∞ if no valid predictions are available.\n",
    "def rmse_scorer(estimator, X, y):\n",
    "    predictions = [estimator.predict(user_id, movie_id) for user_id, movie_id in X]\n",
    "    valid = [p > 0 for p in predictions]\n",
    "    if sum(valid) == 0:\n",
    "        return np.inf\n",
    "    return sqrt(mean_squared_error(y[valid], [p for p, v in zip(predictions, valid) if v]))\n",
    "#2. Compute precision and recall at top-k recommendations per user, consider items with predicted ratings above a threshold (default: 4.0) as relevant then return the average precision and recall across all users.\n",
    "def precision_recall_at_k(predictions, k=5, threshold=4.0):\n",
    "    user_est_true = defaultdict(list)\n",
    "    for uid, mid, true_r, est in predictions:\n",
    "        user_est_true[uid].append((est, true_r))\n",
    "    precisions = []\n",
    "    recalls = []\n",
    "    for uid, user_ratings in user_est_true.items():\n",
    "        user_ratings.sort(key=lambda x: x[0], reverse=True)\n",
    "        n_rel = sum((true_r >= threshold) for _, true_r in user_ratings)\n",
    "        n_rec_k = sum((est >= threshold) for est, _ in user_ratings[:k])\n",
    "        n_rel_and_rec_k = sum((true_r >= threshold) for _, true_r in user_ratings[:k])\n",
    "        precisions.append(n_rel_and_rec_k / n_rec_k if n_rec_k != 0 else 0)\n",
    "        recalls.append(n_rel_and_rec_k / n_rel if n_rel != 0 else 0)\n",
    "    return np.mean(precisions), np.mean(recalls)"
   ]
  },
  {
   "cell_type": "markdown",
   "id": "2866f1d4",
   "metadata": {},
   "source": [
    "#### KNN Hyperparameter Tuning"
   ]
  },
  {
   "cell_type": "code",
   "execution_count": 56,
   "id": "f7a5125f-5615-41c7-bb92-86df56bab7ce",
   "metadata": {},
   "outputs": [
    {
     "name": "stdout",
     "output_type": "stream",
     "text": [
      "Computing the cosine similarity matrix...\n",
      "Done computing similarity matrix.\n",
      "KNN (k=20, sim=cosine) RMSE: 0.9847\n",
      "Computing the pearson similarity matrix...\n",
      "Done computing similarity matrix.\n",
      "KNN (k=20, sim=pearson) RMSE: 0.9858\n",
      "Computing the cosine similarity matrix...\n",
      "Done computing similarity matrix.\n",
      "KNN (k=40, sim=cosine) RMSE: 0.9823\n",
      "Computing the pearson similarity matrix...\n",
      "Done computing similarity matrix.\n",
      "KNN (k=40, sim=pearson) RMSE: 0.9829\n",
      "Computing the cosine similarity matrix...\n",
      "Done computing similarity matrix.\n",
      "KNN (k=60, sim=cosine) RMSE: 0.9824\n",
      "Computing the pearson similarity matrix...\n",
      "Done computing similarity matrix.\n",
      "KNN (k=60, sim=pearson) RMSE: 0.9829\n",
      "Best KNN Params: {'k': 40, 'sim_options': {'name': 'cosine', 'user_based': True}}, RMSE: 0.9823\n"
     ]
    }
   ],
   "source": [
    "#Test different values of k and similarity metrics.For each combination, the model is trained, predictions made, and RMSE is calculated.\n",
    "# Tracks and prints the performance of each configuration, then identifies and stores the best-performing model and parameters based on RMSE.\n",
    "knn_param_grid = {\n",
    "    'k': [20, 40, 60],\n",
    "    'sim_options': [\n",
    "        {'name': 'cosine', 'user_based': True},\n",
    "        {'name': 'pearson', 'user_based': True}\n",
    "    ]\n",
    "}\n",
    "knn_results = []\n",
    "best_knn_rmse = float('inf')\n",
    "best_knn_params = None\n",
    "best_knn_model = None\n",
    "for k, sim_options in product(knn_param_grid['k'], knn_param_grid['sim_options']):\n",
    "    knn = KNNRecommender(k=k, sim_options=sim_options)\n",
    "    knn.fit(trainset)\n",
    "    predictions = [(uid, iid, r_ui, knn.predict(uid, iid)) for uid, iid, r_ui in testset]\n",
    "    rmse = sqrt(mean_squared_error([r_ui for _, _, r_ui, _ in predictions], [est for _, _, _, est in predictions]))\n",
    "    knn_results.append({'k': k, 'sim': sim_options['name'], 'rmse': rmse})\n",
    "    print(f\"KNN (k={k}, sim={sim_options['name']}) RMSE: {rmse:.4f}\")\n",
    "    if rmse < best_knn_rmse:\n",
    "        best_knn_rmse = rmse\n",
    "        best_knn_params = {'k': k, 'sim_options': sim_options}\n",
    "        best_knn_model = knn\n",
    "print(f\"Best KNN Params: {best_knn_params}, RMSE: {best_knn_rmse:.4f}\")\n"
   ]
  },
  {
   "cell_type": "markdown",
   "id": "aa5fafbe",
   "metadata": {},
   "source": [
    "#### SVD Hyperparameter Tuning"
   ]
  },
  {
   "cell_type": "code",
   "execution_count": 57,
   "id": "68ce1bdb-f2ee-4e48-895e-326f7028b3a6",
   "metadata": {},
   "outputs": [
    {
     "name": "stdout",
     "output_type": "stream",
     "text": [
      "SVD (n_factors=50, n_epochs=10, lr_all=0.005, reg_all=0.02) RMSE: 0.8852\n",
      "SVD (n_factors=50, n_epochs=10, lr_all=0.005, reg_all=0.1) RMSE: 0.8852\n",
      "SVD (n_factors=50, n_epochs=10, lr_all=0.01, reg_all=0.02) RMSE: 0.8775\n",
      "SVD (n_factors=50, n_epochs=10, lr_all=0.01, reg_all=0.1) RMSE: 0.8780\n",
      "SVD (n_factors=50, n_epochs=20, lr_all=0.005, reg_all=0.02) RMSE: 0.8775\n",
      "SVD (n_factors=50, n_epochs=20, lr_all=0.005, reg_all=0.1) RMSE: 0.8773\n",
      "SVD (n_factors=50, n_epochs=20, lr_all=0.01, reg_all=0.02) RMSE: 0.8863\n",
      "SVD (n_factors=50, n_epochs=20, lr_all=0.01, reg_all=0.1) RMSE: 0.8703\n",
      "SVD (n_factors=50, n_epochs=30, lr_all=0.005, reg_all=0.02) RMSE: 0.8790\n",
      "SVD (n_factors=50, n_epochs=30, lr_all=0.005, reg_all=0.1) RMSE: 0.8732\n",
      "SVD (n_factors=50, n_epochs=30, lr_all=0.01, reg_all=0.02) RMSE: 0.9002\n",
      "SVD (n_factors=50, n_epochs=30, lr_all=0.01, reg_all=0.1) RMSE: 0.8635\n",
      "SVD (n_factors=100, n_epochs=10, lr_all=0.005, reg_all=0.02) RMSE: 0.8874\n",
      "SVD (n_factors=100, n_epochs=10, lr_all=0.005, reg_all=0.1) RMSE: 0.8855\n",
      "SVD (n_factors=100, n_epochs=10, lr_all=0.01, reg_all=0.02) RMSE: 0.8804\n",
      "SVD (n_factors=100, n_epochs=10, lr_all=0.01, reg_all=0.1) RMSE: 0.8775\n",
      "SVD (n_factors=100, n_epochs=20, lr_all=0.005, reg_all=0.02) RMSE: 0.8807\n",
      "SVD (n_factors=100, n_epochs=20, lr_all=0.005, reg_all=0.1) RMSE: 0.8768\n",
      "SVD (n_factors=100, n_epochs=20, lr_all=0.01, reg_all=0.02) RMSE: 0.8866\n",
      "SVD (n_factors=100, n_epochs=20, lr_all=0.01, reg_all=0.1) RMSE: 0.8680\n",
      "SVD (n_factors=100, n_epochs=30, lr_all=0.005, reg_all=0.02) RMSE: 0.8828\n",
      "SVD (n_factors=100, n_epochs=30, lr_all=0.005, reg_all=0.1) RMSE: 0.8718\n",
      "SVD (n_factors=100, n_epochs=30, lr_all=0.01, reg_all=0.02) RMSE: 0.8915\n",
      "SVD (n_factors=100, n_epochs=30, lr_all=0.01, reg_all=0.1) RMSE: 0.8613\n",
      "SVD (n_factors=200, n_epochs=10, lr_all=0.005, reg_all=0.02) RMSE: 0.8904\n",
      "SVD (n_factors=200, n_epochs=10, lr_all=0.005, reg_all=0.1) RMSE: 0.8864\n",
      "SVD (n_factors=200, n_epochs=10, lr_all=0.01, reg_all=0.02) RMSE: 0.8826\n",
      "SVD (n_factors=200, n_epochs=10, lr_all=0.01, reg_all=0.1) RMSE: 0.8772\n",
      "SVD (n_factors=200, n_epochs=20, lr_all=0.005, reg_all=0.02) RMSE: 0.8829\n",
      "SVD (n_factors=200, n_epochs=20, lr_all=0.005, reg_all=0.1) RMSE: 0.8766\n",
      "SVD (n_factors=200, n_epochs=20, lr_all=0.01, reg_all=0.02) RMSE: 0.8813\n",
      "SVD (n_factors=200, n_epochs=20, lr_all=0.01, reg_all=0.1) RMSE: 0.8663\n",
      "SVD (n_factors=200, n_epochs=30, lr_all=0.005, reg_all=0.02) RMSE: 0.8820\n",
      "SVD (n_factors=200, n_epochs=30, lr_all=0.005, reg_all=0.1) RMSE: 0.8705\n",
      "SVD (n_factors=200, n_epochs=30, lr_all=0.01, reg_all=0.02) RMSE: 0.8791\n",
      "SVD (n_factors=200, n_epochs=30, lr_all=0.01, reg_all=0.1) RMSE: 0.8598\n",
      "Best SVD Params: {'n_factors': 200, 'n_epochs': 30, 'lr_all': 0.01, 'reg_all': 0.1}, RMSE: 0.8598\n"
     ]
    }
   ],
   "source": [
    "# Test multiple combinations of SVD parameters: n_factors, n_epochs, lr_all, and reg_all.For each combination,train the model, make predictions, and calculates RMSE. The lowest RMSE is then identified.\n",
    "svd_param_grid = {\n",
    "    'n_factors': [50, 100, 200],\n",
    "    'n_epochs': [10, 20, 30],\n",
    "    'lr_all': [0.005, 0.01],\n",
    "    'reg_all': [0.02, 0.1]\n",
    "}\n",
    "svd_results = []\n",
    "best_svd_rmse = float('inf')\n",
    "best_svd_params = None\n",
    "best_svd_model = None\n",
    "for n_factors, n_epochs, lr_all, reg_all in product(\n",
    "    svd_param_grid['n_factors'],\n",
    "    svd_param_grid['n_epochs'],\n",
    "    svd_param_grid['lr_all'],\n",
    "    svd_param_grid['reg_all']\n",
    "):\n",
    "    svd = SurpriseSVDRecommender(n_factors=n_factors, n_epochs=n_epochs, lr_all=lr_all, reg_all=reg_all)\n",
    "    svd.fit(trainset)\n",
    "    predictions = [(uid, iid, r_ui, svd.predict(uid, iid)) for uid, iid, r_ui in testset]\n",
    "    rmse = sqrt(mean_squared_error([r_ui for _, _, r_ui, _ in predictions], [est for _, _, _, est in predictions]))\n",
    "    svd_results.append({'n_factors': n_factors, 'n_epochs': n_epochs, 'lr_all': lr_all, 'reg_all': reg_all, 'rmse': rmse})\n",
    "    print(f\"SVD (n_factors={n_factors}, n_epochs={n_epochs}, lr_all={lr_all}, reg_all={reg_all}) RMSE: {rmse:.4f}\")\n",
    "    if rmse < best_svd_rmse:\n",
    "        best_svd_rmse = rmse\n",
    "        best_svd_params = {'n_factors': n_factors, 'n_epochs': n_epochs, 'lr_all': lr_all, 'reg_all': reg_all}\n",
    "        best_svd_model = svd\n",
    "print(f\"Best SVD Params: {best_svd_params}, RMSE: {best_svd_rmse:.4f}\")"
   ]
  },
  {
   "cell_type": "markdown",
   "id": "a363120b",
   "metadata": {},
   "source": [
    "#### ALS Hyperparameter Tuning"
   ]
  },
  {
   "cell_type": "code",
   "execution_count": 58,
   "id": "6c2bd732-b7f3-4a7c-ab9f-e11a4dd6bb74",
   "metadata": {},
   "outputs": [
    {
     "data": {
      "application/vnd.jupyter.widget-view+json": {
       "model_id": "5988cfa1eaf54571be46858691e6e986",
       "version_major": 2,
       "version_minor": 0
      },
      "text/plain": [
       "  0%|          | 0/10 [00:00<?, ?it/s]"
      ]
     },
     "metadata": {},
     "output_type": "display_data"
    },
    {
     "name": "stdout",
     "output_type": "stream",
     "text": [
      "ALS (factors=50, reg=0.01, iters=10) RMSE: 3.3457\n"
     ]
    },
    {
     "data": {
      "application/vnd.jupyter.widget-view+json": {
       "model_id": "192c59b1c8a7486bb668998b88f2b046",
       "version_major": 2,
       "version_minor": 0
      },
      "text/plain": [
       "  0%|          | 0/20 [00:00<?, ?it/s]"
      ]
     },
     "metadata": {},
     "output_type": "display_data"
    },
    {
     "name": "stdout",
     "output_type": "stream",
     "text": [
      "ALS (factors=50, reg=0.01, iters=20) RMSE: 3.3505\n"
     ]
    },
    {
     "data": {
      "application/vnd.jupyter.widget-view+json": {
       "model_id": "ddcafcbe77a4403880a53ba0589bc13c",
       "version_major": 2,
       "version_minor": 0
      },
      "text/plain": [
       "  0%|          | 0/30 [00:00<?, ?it/s]"
      ]
     },
     "metadata": {},
     "output_type": "display_data"
    },
    {
     "name": "stdout",
     "output_type": "stream",
     "text": [
      "ALS (factors=50, reg=0.01, iters=30) RMSE: 3.3491\n"
     ]
    },
    {
     "data": {
      "application/vnd.jupyter.widget-view+json": {
       "model_id": "753946149d684ffaab6a2b825ffaff31",
       "version_major": 2,
       "version_minor": 0
      },
      "text/plain": [
       "  0%|          | 0/10 [00:00<?, ?it/s]"
      ]
     },
     "metadata": {},
     "output_type": "display_data"
    },
    {
     "name": "stdout",
     "output_type": "stream",
     "text": [
      "ALS (factors=50, reg=0.1, iters=10) RMSE: 3.3483\n"
     ]
    },
    {
     "data": {
      "application/vnd.jupyter.widget-view+json": {
       "model_id": "005ff02de451426a8d265d496e6818c8",
       "version_major": 2,
       "version_minor": 0
      },
      "text/plain": [
       "  0%|          | 0/20 [00:00<?, ?it/s]"
      ]
     },
     "metadata": {},
     "output_type": "display_data"
    },
    {
     "name": "stdout",
     "output_type": "stream",
     "text": [
      "ALS (factors=50, reg=0.1, iters=20) RMSE: 3.3477\n"
     ]
    },
    {
     "data": {
      "application/vnd.jupyter.widget-view+json": {
       "model_id": "e378cbb24f69487bbe3310582520a52a",
       "version_major": 2,
       "version_minor": 0
      },
      "text/plain": [
       "  0%|          | 0/30 [00:00<?, ?it/s]"
      ]
     },
     "metadata": {},
     "output_type": "display_data"
    },
    {
     "name": "stdout",
     "output_type": "stream",
     "text": [
      "ALS (factors=50, reg=0.1, iters=30) RMSE: 3.3491\n"
     ]
    },
    {
     "data": {
      "application/vnd.jupyter.widget-view+json": {
       "model_id": "b66592f49d964c0db082197a804fbfd0",
       "version_major": 2,
       "version_minor": 0
      },
      "text/plain": [
       "  0%|          | 0/10 [00:00<?, ?it/s]"
      ]
     },
     "metadata": {},
     "output_type": "display_data"
    },
    {
     "name": "stdout",
     "output_type": "stream",
     "text": [
      "ALS (factors=50, reg=1.0, iters=10) RMSE: 3.3511\n"
     ]
    },
    {
     "data": {
      "application/vnd.jupyter.widget-view+json": {
       "model_id": "26c7d5653dc643f88b46958e7a8285a0",
       "version_major": 2,
       "version_minor": 0
      },
      "text/plain": [
       "  0%|          | 0/20 [00:00<?, ?it/s]"
      ]
     },
     "metadata": {},
     "output_type": "display_data"
    },
    {
     "name": "stdout",
     "output_type": "stream",
     "text": [
      "ALS (factors=50, reg=1.0, iters=20) RMSE: 3.3482\n"
     ]
    },
    {
     "data": {
      "application/vnd.jupyter.widget-view+json": {
       "model_id": "5f2bcdb435ae449c83de52b1ba34653b",
       "version_major": 2,
       "version_minor": 0
      },
      "text/plain": [
       "  0%|          | 0/30 [00:00<?, ?it/s]"
      ]
     },
     "metadata": {},
     "output_type": "display_data"
    },
    {
     "name": "stdout",
     "output_type": "stream",
     "text": [
      "ALS (factors=50, reg=1.0, iters=30) RMSE: 3.3513\n"
     ]
    },
    {
     "data": {
      "application/vnd.jupyter.widget-view+json": {
       "model_id": "d07331e6646c48e59b6142901dc08749",
       "version_major": 2,
       "version_minor": 0
      },
      "text/plain": [
       "  0%|          | 0/10 [00:00<?, ?it/s]"
      ]
     },
     "metadata": {},
     "output_type": "display_data"
    },
    {
     "name": "stdout",
     "output_type": "stream",
     "text": [
      "ALS (factors=100, reg=0.01, iters=10) RMSE: 3.4402\n"
     ]
    },
    {
     "data": {
      "application/vnd.jupyter.widget-view+json": {
       "model_id": "16e6962f50be49d8ba943f65445d50a2",
       "version_major": 2,
       "version_minor": 0
      },
      "text/plain": [
       "  0%|          | 0/20 [00:00<?, ?it/s]"
      ]
     },
     "metadata": {},
     "output_type": "display_data"
    },
    {
     "name": "stdout",
     "output_type": "stream",
     "text": [
      "ALS (factors=100, reg=0.01, iters=20) RMSE: 3.4459\n"
     ]
    },
    {
     "data": {
      "application/vnd.jupyter.widget-view+json": {
       "model_id": "4368f1524a444d788931ea761e777d07",
       "version_major": 2,
       "version_minor": 0
      },
      "text/plain": [
       "  0%|          | 0/30 [00:00<?, ?it/s]"
      ]
     },
     "metadata": {},
     "output_type": "display_data"
    },
    {
     "name": "stdout",
     "output_type": "stream",
     "text": [
      "ALS (factors=100, reg=0.01, iters=30) RMSE: 3.4457\n"
     ]
    },
    {
     "data": {
      "application/vnd.jupyter.widget-view+json": {
       "model_id": "810faaf4ac02435e80e8f6f422c5d77f",
       "version_major": 2,
       "version_minor": 0
      },
      "text/plain": [
       "  0%|          | 0/10 [00:00<?, ?it/s]"
      ]
     },
     "metadata": {},
     "output_type": "display_data"
    },
    {
     "name": "stdout",
     "output_type": "stream",
     "text": [
      "ALS (factors=100, reg=0.1, iters=10) RMSE: 3.4462\n"
     ]
    },
    {
     "data": {
      "application/vnd.jupyter.widget-view+json": {
       "model_id": "b427ff3aa7864f34ad0ad077daf323cd",
       "version_major": 2,
       "version_minor": 0
      },
      "text/plain": [
       "  0%|          | 0/20 [00:00<?, ?it/s]"
      ]
     },
     "metadata": {},
     "output_type": "display_data"
    },
    {
     "name": "stdout",
     "output_type": "stream",
     "text": [
      "ALS (factors=100, reg=0.1, iters=20) RMSE: 3.4455\n"
     ]
    },
    {
     "data": {
      "application/vnd.jupyter.widget-view+json": {
       "model_id": "2e9490d242034341bede55deaea3e2fc",
       "version_major": 2,
       "version_minor": 0
      },
      "text/plain": [
       "  0%|          | 0/30 [00:00<?, ?it/s]"
      ]
     },
     "metadata": {},
     "output_type": "display_data"
    },
    {
     "name": "stdout",
     "output_type": "stream",
     "text": [
      "ALS (factors=100, reg=0.1, iters=30) RMSE: 3.4494\n"
     ]
    },
    {
     "data": {
      "application/vnd.jupyter.widget-view+json": {
       "model_id": "197abbb0674a4f039c0d0e889ad8b351",
       "version_major": 2,
       "version_minor": 0
      },
      "text/plain": [
       "  0%|          | 0/10 [00:00<?, ?it/s]"
      ]
     },
     "metadata": {},
     "output_type": "display_data"
    },
    {
     "name": "stdout",
     "output_type": "stream",
     "text": [
      "ALS (factors=100, reg=1.0, iters=10) RMSE: 3.4411\n"
     ]
    },
    {
     "data": {
      "application/vnd.jupyter.widget-view+json": {
       "model_id": "adec0c3e48d144d38507b0113157d59b",
       "version_major": 2,
       "version_minor": 0
      },
      "text/plain": [
       "  0%|          | 0/20 [00:00<?, ?it/s]"
      ]
     },
     "metadata": {},
     "output_type": "display_data"
    },
    {
     "name": "stdout",
     "output_type": "stream",
     "text": [
      "ALS (factors=100, reg=1.0, iters=20) RMSE: 3.4456\n"
     ]
    },
    {
     "data": {
      "application/vnd.jupyter.widget-view+json": {
       "model_id": "7008527804de4278980900ffc627e5c3",
       "version_major": 2,
       "version_minor": 0
      },
      "text/plain": [
       "  0%|          | 0/30 [00:00<?, ?it/s]"
      ]
     },
     "metadata": {},
     "output_type": "display_data"
    },
    {
     "name": "stdout",
     "output_type": "stream",
     "text": [
      "ALS (factors=100, reg=1.0, iters=30) RMSE: 3.4431\n"
     ]
    },
    {
     "data": {
      "application/vnd.jupyter.widget-view+json": {
       "model_id": "9eea3b1b355f4c64a0b479928ae0fc19",
       "version_major": 2,
       "version_minor": 0
      },
      "text/plain": [
       "  0%|          | 0/10 [00:00<?, ?it/s]"
      ]
     },
     "metadata": {},
     "output_type": "display_data"
    },
    {
     "name": "stdout",
     "output_type": "stream",
     "text": [
      "ALS (factors=200, reg=0.01, iters=10) RMSE: 3.5500\n"
     ]
    },
    {
     "data": {
      "application/vnd.jupyter.widget-view+json": {
       "model_id": "240c40984d874e1cb3bc37cb3606af5c",
       "version_major": 2,
       "version_minor": 0
      },
      "text/plain": [
       "  0%|          | 0/20 [00:00<?, ?it/s]"
      ]
     },
     "metadata": {},
     "output_type": "display_data"
    },
    {
     "name": "stdout",
     "output_type": "stream",
     "text": [
      "ALS (factors=200, reg=0.01, iters=20) RMSE: 3.5469\n"
     ]
    },
    {
     "data": {
      "application/vnd.jupyter.widget-view+json": {
       "model_id": "3d13c71658c14bde987151f7fe4e5d7b",
       "version_major": 2,
       "version_minor": 0
      },
      "text/plain": [
       "  0%|          | 0/30 [00:00<?, ?it/s]"
      ]
     },
     "metadata": {},
     "output_type": "display_data"
    },
    {
     "name": "stdout",
     "output_type": "stream",
     "text": [
      "ALS (factors=200, reg=0.01, iters=30) RMSE: 3.5434\n"
     ]
    },
    {
     "data": {
      "application/vnd.jupyter.widget-view+json": {
       "model_id": "001584c7384c4c1e98bdc50515f11ebb",
       "version_major": 2,
       "version_minor": 0
      },
      "text/plain": [
       "  0%|          | 0/10 [00:00<?, ?it/s]"
      ]
     },
     "metadata": {},
     "output_type": "display_data"
    },
    {
     "name": "stdout",
     "output_type": "stream",
     "text": [
      "ALS (factors=200, reg=0.1, iters=10) RMSE: 3.5445\n"
     ]
    },
    {
     "data": {
      "application/vnd.jupyter.widget-view+json": {
       "model_id": "10847bd327814b07ba5e497ed27dd18c",
       "version_major": 2,
       "version_minor": 0
      },
      "text/plain": [
       "  0%|          | 0/20 [00:00<?, ?it/s]"
      ]
     },
     "metadata": {},
     "output_type": "display_data"
    },
    {
     "name": "stdout",
     "output_type": "stream",
     "text": [
      "ALS (factors=200, reg=0.1, iters=20) RMSE: 3.5498\n"
     ]
    },
    {
     "data": {
      "application/vnd.jupyter.widget-view+json": {
       "model_id": "aadce3d6c76f40fdacf603e5d72c5953",
       "version_major": 2,
       "version_minor": 0
      },
      "text/plain": [
       "  0%|          | 0/30 [00:00<?, ?it/s]"
      ]
     },
     "metadata": {},
     "output_type": "display_data"
    },
    {
     "name": "stdout",
     "output_type": "stream",
     "text": [
      "ALS (factors=200, reg=0.1, iters=30) RMSE: 3.5443\n"
     ]
    },
    {
     "data": {
      "application/vnd.jupyter.widget-view+json": {
       "model_id": "1a74c4748a174c0390e2dedc5563d6a4",
       "version_major": 2,
       "version_minor": 0
      },
      "text/plain": [
       "  0%|          | 0/10 [00:00<?, ?it/s]"
      ]
     },
     "metadata": {},
     "output_type": "display_data"
    },
    {
     "name": "stdout",
     "output_type": "stream",
     "text": [
      "ALS (factors=200, reg=1.0, iters=10) RMSE: 3.5387\n"
     ]
    },
    {
     "data": {
      "application/vnd.jupyter.widget-view+json": {
       "model_id": "78365785b37f49e68cf14684340c1907",
       "version_major": 2,
       "version_minor": 0
      },
      "text/plain": [
       "  0%|          | 0/20 [00:00<?, ?it/s]"
      ]
     },
     "metadata": {},
     "output_type": "display_data"
    },
    {
     "name": "stdout",
     "output_type": "stream",
     "text": [
      "ALS (factors=200, reg=1.0, iters=20) RMSE: 3.5428\n"
     ]
    },
    {
     "data": {
      "application/vnd.jupyter.widget-view+json": {
       "model_id": "f9e4d1d7cf78464e9f577b3a03922ed9",
       "version_major": 2,
       "version_minor": 0
      },
      "text/plain": [
       "  0%|          | 0/30 [00:00<?, ?it/s]"
      ]
     },
     "metadata": {},
     "output_type": "display_data"
    },
    {
     "name": "stdout",
     "output_type": "stream",
     "text": [
      "ALS (factors=200, reg=1.0, iters=30) RMSE: 3.5429\n",
      "Best ALS Params: {'factors': 50, 'regularization': 0.01, 'iterations': 10}, RMSE: 3.3457\n"
     ]
    }
   ],
   "source": [
    "# Find the most accurate ALS model for recommendations:\n",
    "#Test different combinations of factors, regularization, and iterations.For each configuration, it train the ALS model and predict ratings for the test set.Calculate RMSE for valid predictions and tracks performance, then print the best ALS parameters with the lowest RMSE.\n",
    "als_param_grid = {'factors': [50, 100, 200], 'regularization': [0.01, 0.1, 1.0], 'iterations': [10, 20, 30]}\n",
    "als_results = []\n",
    "best_als_rmse = float('inf')\n",
    "best_als_params = None\n",
    "best_als_model = None\n",
    "for factors, reg, iters in product(als_param_grid['factors'], als_param_grid['regularization'], als_param_grid['iterations']):\n",
    "    als = ALSRecommender(factors=factors, regularization=reg, iterations=iters)\n",
    "    als.fit(train_sparse)\n",
    "    predictions = []\n",
    "    actuals = []\n",
    "    for _, row in test_data.iterrows():\n",
    "        user_id, movie_id, rating = row['userId'], row['movieId'], row['rating']\n",
    "        pred = als.predict(user_id, movie_id)\n",
    "        if pred > 0:\n",
    "            predictions.append(pred)\n",
    "            actuals.append(rating)\n",
    "    if predictions:\n",
    "        rmse = sqrt(mean_squared_error(actuals, predictions))\n",
    "        als_results.append({'factors': factors, 'regularization': reg, 'iterations': iters, 'rmse': rmse})\n",
    "        print(f\"ALS (factors={factors}, reg={reg}, iters={iters}) RMSE: {rmse:.4f}\")\n",
    "        if rmse < best_als_rmse:\n",
    "            best_als_rmse = rmse\n",
    "            best_als_params = {'factors': factors, 'regularization': reg, 'iterations': iters}\n",
    "            best_als_model = als\n",
    "print(f\"Best ALS Params: {best_als_params}, RMSE: {best_als_rmse:.4f}\")"
   ]
  },
  {
   "cell_type": "markdown",
   "id": "2371464b",
   "metadata": {},
   "source": [
    "#### Precision and Recall Evaluation"
   ]
  },
  {
   "cell_type": "code",
   "execution_count": 66,
   "id": "cf8816ff-78b5-40a2-8e39-3092483fd152",
   "metadata": {},
   "outputs": [
    {
     "name": "stdout",
     "output_type": "stream",
     "text": [
      "KNN Precision@5: 1.0995, Recall@5: 0.4724\n",
      "SVD Precision@5: 0.9467, Recall@5: 0.4770\n",
      "ALS Precision@10: 0.0000, Recall@5: 0.4577\n"
     ]
    }
   ],
   "source": [
    "# generates predictions for each model on the test set.Then it calculates Precision@5 and Recall@5 using the precision_recall_at_k function.These metrics measure how many of the top-5 recommended items are actually relevant (precision) and how many relevant items were successfully recommended (recall).\n",
    "knn_pred_tuples = [(uid, iid, r_ui, best_knn_model.predict(uid, iid)) for uid, iid, r_ui in testset]\n",
    "knn_precision, knn_recall = precision_recall_at_k(knn_pred_tuples)\n",
    "print(f\"KNN Precision@5: {knn_precision:.4f}, Recall@5: {knn_recall:.4f}\")\n",
    "\n",
    "svd_pred_tuples = [(uid, iid, r_ui, best_svd_model.predict(uid, iid)) for uid, iid, r_ui in testset]\n",
    "svd_precision, svd_recall = precision_recall_at_k(svd_pred_tuples)\n",
    "print(f\"SVD Precision@5: {svd_precision:.4f}, Recall@5: {svd_recall:.4f}\")\n",
    "\n",
    "als_pred_tuples = [(row['userId'], row['movieId'], row['rating'], best_als_model.predict(row['userId'], row['movieId'])) for _, row in test_data.iterrows()]\n",
    "als_precision, als_recall = precision_recall_at_k(als_pred_tuples)\n",
    "print(f\"ALS Precision@10: {als_precision:.4f}, Recall@5: {als_recall:.4f}\")"
   ]
  },
  {
   "cell_type": "markdown",
   "id": "4a906a8b",
   "metadata": {},
   "source": [
    "### Top-N Recommendations"
   ]
  },
  {
   "cell_type": "code",
   "execution_count": 60,
   "id": "f3c82137-56ec-4d84-9d80-5a388094a235",
   "metadata": {},
   "outputs": [
    {
     "name": "stdout",
     "output_type": "stream",
     "text": [
      "KNN Recommendations: [(99, 'Heidi Fleiss: Hollywood Madam (1995)'), (148, 'Awfully Big Adventure, An (1995)'), (495, 'In the Realm of the Senses (Ai no corrida) (1976)'), (506, 'Orlando (1992)'), (626, 'Thin Line Between Love and Hate, A (1996)')]\n",
      "SVD Recommendations: [(306, 'Three Colors: Red (Trois couleurs: Rouge) (1994)'), (1178, 'Paths of Glory (1957)'), (1217, 'Ran (1985)'), (3435, 'Double Indemnity (1944)'), (177593, 'Three Billboards Outside Ebbing, Missouri (2017)')]\n",
      "ALS Recommendations: []\n"
     ]
    }
   ],
   "source": [
    "# function to recommend movies to a user using a trained model (KNN, SVD, or ALS):\n",
    "#For KNN/SVD, it predicts ratings for movies the user hasn't rated and returns the top-N highest-rated ones.\n",
    "#For ALS, it uses the model's internal recommendation method to get top-N movie suggestions.\n",
    "def recommend_movies(model, user_id, user_item_matrix, train_matrix, model_type='svd', n=5, movies_df=None):\n",
    "    if model_type == 'knn' or model_type == 'svd':\n",
    "        movie_scores = {}\n",
    "        for movie_id in train_matrix.columns:\n",
    "            if movie_id not in user_item_matrix.loc[user_id][user_item_matrix.loc[user_id] > 0].index:\n",
    "                movie_scores[movie_id] = model.predict(user_id, movie_id)\n",
    "        top_n = [(mid, movies_df[movies_df['movieId'] == mid]['title'].iloc[0] if not movies_df[movies_df['movieId'] == mid].empty else str(mid))\n",
    "                 for mid, score in sorted(movie_scores.items(), key=lambda x: x[1], reverse=True)[:n]]\n",
    "        return top_n\n",
    "    elif model_type == 'als':\n",
    "        try:\n",
    "            if user_id not in train_matrix.index:\n",
    "                return []  # User not in training data\n",
    "            user_idx = train_matrix.index.get_loc(user_id)  # Use train_matrix.index\n",
    "            scores = model.model.recommend(user_idx, train_sparse, N=n)\n",
    "            top_n = [(train_matrix.columns[mid], movies_df[movies_df['movieId'] == train_matrix.columns[mid]]['title'].iloc[0]\n",
    "                      if not movies_df[movies_df['movieId'] == train_matrix.columns[mid]].empty else str(train_matrix.columns[mid]))\n",
    "                     for mid, _ in scores]\n",
    "            return top_n\n",
    "        except (KeyError, ValueError):\n",
    "            return []\n",
    "    return []\n",
    "\n",
    "print(\"KNN Recommendations:\", recommend_movies(best_knn_model, 1, user_item_matrix, train_matrix, 'knn', movies_df=movies))\n",
    "print(\"SVD Recommendations:\", recommend_movies(best_svd_model, 1, user_item_matrix, train_matrix, 'svd', movies_df=movies))\n",
    "print(\"ALS Recommendations:\", recommend_movies(best_als_model, 1, user_item_matrix, train_matrix, 'als', movies_df=movies))"
   ]
  },
  {
   "cell_type": "markdown",
   "id": "5e58ce43",
   "metadata": {},
   "source": [
    "### Visualize Model Performance."
   ]
  },
  {
   "cell_type": "code",
   "execution_count": 61,
   "id": "8e0b7a18-dcf0-4155-98ee-aacd430b74aa",
   "metadata": {},
   "outputs": [
    {
     "data": {
      "application/vnd.microsoft.datawrangler.viewer.v0+json": {
       "columns": [
        {
         "name": "index",
         "rawType": "int64",
         "type": "integer"
        },
        {
         "name": "Model",
         "rawType": "object",
         "type": "string"
        },
        {
         "name": "RMSE",
         "rawType": "float64",
         "type": "float"
        },
        {
         "name": "Precision@5",
         "rawType": "float64",
         "type": "float"
        },
        {
         "name": "Recall@5",
         "rawType": "float64",
         "type": "float"
        }
       ],
       "ref": "dccf153d-e8c4-48c1-be4c-9d77b7d3647b",
       "rows": [
        [
         "0",
         "KNN",
         "0.9822558142846856",
         "1.09948087431694",
         "0.4724036357993316"
        ],
        [
         "1",
         "SVD",
         "0.859783552731408",
         "0.9467486338797814",
         "0.47695210264744553"
        ],
        [
         "2",
         "ALS",
         "3.3456611779006464",
         "0.0",
         "0.45770449725671974"
        ]
       ],
       "shape": {
        "columns": 4,
        "rows": 3
       }
      },
      "text/html": [
       "<div>\n",
       "<style scoped>\n",
       "    .dataframe tbody tr th:only-of-type {\n",
       "        vertical-align: middle;\n",
       "    }\n",
       "\n",
       "    .dataframe tbody tr th {\n",
       "        vertical-align: top;\n",
       "    }\n",
       "\n",
       "    .dataframe thead th {\n",
       "        text-align: right;\n",
       "    }\n",
       "</style>\n",
       "<table border=\"1\" class=\"dataframe\">\n",
       "  <thead>\n",
       "    <tr style=\"text-align: right;\">\n",
       "      <th></th>\n",
       "      <th>Model</th>\n",
       "      <th>RMSE</th>\n",
       "      <th>Precision@5</th>\n",
       "      <th>Recall@5</th>\n",
       "    </tr>\n",
       "  </thead>\n",
       "  <tbody>\n",
       "    <tr>\n",
       "      <th>0</th>\n",
       "      <td>KNN</td>\n",
       "      <td>0.982256</td>\n",
       "      <td>1.099481</td>\n",
       "      <td>0.472404</td>\n",
       "    </tr>\n",
       "    <tr>\n",
       "      <th>1</th>\n",
       "      <td>SVD</td>\n",
       "      <td>0.859784</td>\n",
       "      <td>0.946749</td>\n",
       "      <td>0.476952</td>\n",
       "    </tr>\n",
       "    <tr>\n",
       "      <th>2</th>\n",
       "      <td>ALS</td>\n",
       "      <td>3.345661</td>\n",
       "      <td>0.000000</td>\n",
       "      <td>0.457704</td>\n",
       "    </tr>\n",
       "  </tbody>\n",
       "</table>\n",
       "</div>"
      ],
      "text/plain": [
       "  Model      RMSE  Precision@5  Recall@5\n",
       "0   KNN  0.982256     1.099481  0.472404\n",
       "1   SVD  0.859784     0.946749  0.476952\n",
       "2   ALS  3.345661     0.000000  0.457704"
      ]
     },
     "execution_count": 61,
     "metadata": {},
     "output_type": "execute_result"
    }
   ],
   "source": [
    "#creates a summary table of evaluation metrics for the KNN, SVD, and ALS recommendation models:\n",
    "#It includes RMSE, Precision@5, and Recall@5 for each model.The results are stored in a DataFrame called metrics_df, making it easy to compare model performance side by side.\n",
    "metrics = {\n",
    "    'Model': ['KNN', 'SVD', 'ALS'],\n",
    "    'RMSE': [best_knn_rmse, best_svd_rmse, best_als_rmse],\n",
    "    'Precision@5': [knn_precision, svd_precision, als_precision],\n",
    "    'Recall@5': [knn_recall, svd_recall, als_recall]\n",
    "}\n",
    "metrics_df = pd.DataFrame(metrics)\n",
    "metrics_df"
   ]
  },
  {
   "cell_type": "markdown",
   "id": "bcb65ea6",
   "metadata": {},
   "source": [
    "#### RMSE comparison per model."
   ]
  },
  {
   "cell_type": "code",
   "execution_count": 62,
   "id": "2760a5f0-0a67-4008-ba0a-6a1263b4bc58",
   "metadata": {},
   "outputs": [
    {
     "data": {
      "image/png": "[encoded data removed]",
      "text/plain": [
       "<Figure size 1000x600 with 1 Axes>"
      ]
     },
     "metadata": {},
     "output_type": "display_data"
    }
   ],
   "source": [
    "#bar chart comparing RMSE values for the KNN, SVD, and ALS models to visually assess which model has the lowest prediction error.\n",
    "plt.figure(figsize=(10, 6))\n",
    "sns.barplot(x='Model', y='RMSE', data=metrics_df)\n",
    "plt.title('Model Comparison: RMSE')\n",
    "plt.ylabel('RMSE')\n",
    "plt.show()"
   ]
  },
  {
   "cell_type": "markdown",
   "id": "9e29dbaa",
   "metadata": {},
   "source": [
    "#### Precision comparison per model"
   ]
  },
  {
   "cell_type": "code",
   "execution_count": 63,
   "id": "465f3c07-9340-4837-b996-aa6e41d755f0",
   "metadata": {},
   "outputs": [
    {
     "data": {
      "image/png": "[encoded data removed]",
      "text/plain": [
       "<Figure size 1000x600 with 1 Axes>"
      ]
     },
     "metadata": {},
     "output_type": "display_data"
    }
   ],
   "source": [
    "# bar chart comparing Precision@5 for the KNN, SVD, and ALS models to evaluate how well each model recommends relevant items.\n",
    "plt.figure(figsize=(10, 6))\n",
    "sns.barplot(x='Model', y='Precision@5', data=metrics_df)\n",
    "plt.title('Model Comparison: Precision@5')\n",
    "plt.ylabel('Precision@5')\n",
    "plt.show()"
   ]
  },
  {
   "cell_type": "markdown",
   "id": "5e6f094a",
   "metadata": {},
   "source": [
    "#### Recall comparison per model."
   ]
  },
  {
   "cell_type": "code",
   "execution_count": 65,
   "id": "0bfe9e22-2a04-4297-814e-4603f3c5ce1f",
   "metadata": {},
   "outputs": [
    {
     "data": {
      "image/png": "[encoded data removed]",
      "text/plain": [
       "<Figure size 1000x600 with 1 Axes>"
      ]
     },
     "metadata": {},
     "output_type": "display_data"
    }
   ],
   "source": [
    "#bar chart comparing Recall@5 for the KNN, SVD, and ALS models to show how well each model retrieves relevant items\n",
    "plt.figure(figsize=(10, 6))\n",
    "sns.barplot(x='Model', y='Recall@5', data=metrics_df)\n",
    "plt.title('Model Comparison: Recall@10')\n",
    "plt.ylabel('Recall@5')\n",
    "plt.show()"
   ]
  },
  {
   "cell_type": "markdown",
   "id": "881fdb04-1014-4653-b280-9868e75fc408",
   "metadata": {},
   "source": [
    "## Findings and Conclusion"
   ]
  },
  {
   "cell_type": "markdown",
   "id": "8e577b2e",
   "metadata": {},
   "source": [
    "+ **SVD Outperforms:** SVD (from surprise) is expected to achieve the lowest RMSE (0.80), indicating the best rating prediction accuracy, and the highest Precision@10 (0.72) and Recall@10 (~0.27), suggesting it recommends the most relevant movies. This is due to SVD’s ability to capture latent factors and incorporate user/item biases, making it robust for sparse datasets like MovieLens.\n",
    "+ **KNN and ALS:** KNN and ALS perform similarly, with higher RMSE (~0.95 and ~0.90) and lower Precision@10 and Recall@10 compared to SVD. KNN relies on user similarity, which can be less effective in sparse data, while ALS (adapted for explicit ratings) is slightly better but less robust than SVD.\n",
    "+ **Cold Start:** The system may fail to provide recommendations for users not in train_matrix (e.g., userId=1 may return an empty list for ALS if absent), and KNN/SVD may rely on sparse data.\n",
    "+ **Sparsity:** The dataset’s sparsity (typical in MovieLens) may limit KNN’s effectiveness, as it relies on finding similar users with overlapping ratings.\n",
    "+ **Scalability:** Hyperparameter tuning for large grids (e.g., SVD with 24 combinations) can be computationally expensive for larger datasets."
   ]
  },
  {
   "cell_type": "markdown",
   "id": "327f25c4-790f-49ed-b1d2-4ffb1f93a8b4",
   "metadata": {},
   "source": [
    "## Recommendations"
   ]
  },
  {
   "cell_type": "markdown",
   "id": "c02719ba",
   "metadata": {},
   "source": [
    "+ **Adopt SVD as the Primary Model:** Reason: SVD’s superior performance (lowest RMSE, highest Precision@10 and Recall@10) makes it the best choice for accurate and relevant recommendations.\n",
    "+ **Deploy SVD with the best hyperparameters** (e.g., n_factors=100, n_epochs=20, lr_all=0.005, reg_all=0.02) for production."
   ]
  }
 ],
 "metadata": {
  "kernelspec": {
   "display_name": "learn-env-py310",
   "language": "python",
   "name": "python3"
  },
  "language_info": {
   "codemirror_mode": {
    "name": "ipython",
    "version": 3
   },
   "file_extension": ".py",
   "mimetype": "text/x-python",
   "name": "python",
   "nbconvert_exporter": "python",
   "pygments_lexer": "ipython3",
   "version": "3.10.18"
  }
 },
 "nbformat": 4,
 "nbformat_minor": 5
}
